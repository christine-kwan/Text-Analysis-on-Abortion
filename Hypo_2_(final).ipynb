{
  "nbformat": 4,
  "nbformat_minor": 0,
  "metadata": {
    "colab": {
      "provenance": []
    },
    "kernelspec": {
      "name": "python3",
      "display_name": "Python 3"
    },
    "language_info": {
      "name": "python"
    }
  },
  "cells": [
    {
      "cell_type": "code",
      "metadata": {
        "id": "JoBoXl8vlgY3"
      },
      "source": [
        "!pip install -q snscrape==0.3.4"
      ],
      "execution_count": null,
      "outputs": []
    },
    {
      "cell_type": "code",
      "metadata": {
        "id": "5hEevG7ylpJA"
      },
      "source": [
        "import pandas as pd\n",
        "import snscrape.modules.twitter as sntwitter\n",
        "import itertools"
      ],
      "execution_count": null,
      "outputs": []
    },
    {
      "cell_type": "code",
      "metadata": {
        "id": "G0HDMikyls9Q",
        "colab": {
          "base_uri": "https://localhost:8080/"
        },
        "outputId": "c0b3e2f9-09bc-40a0-ccef-0c61345f9bd9"
      },
      "source": [
        "# Add Google Drive as an accessible path (Optional if you are running from Jupyter Notebook)\n",
        "from google.colab import drive\n",
        "drive.mount('/content/drive')\n",
        "\n",
        "# change path to the designated google drive folder\n",
        "# otherwise, data will be saved in /content folder which you may have issue locating\n",
        "%cd /content/drive/My Drive/Colab Notebooks/CSS Project"
      ],
      "execution_count": null,
      "outputs": [
        {
          "output_type": "stream",
          "name": "stdout",
          "text": [
            "Mounted at /content/drive\n",
            "/content/drive/My Drive/Colab Notebooks/CSS Project\n"
          ]
        }
      ]
    },
    {
      "cell_type": "code",
      "metadata": {
        "id": "d4H3mFpCl2KG"
      },
      "source": [
        "from_date = '2016-01-01'\n",
        "end_date = '2020-12-31'"
      ],
      "execution_count": null,
      "outputs": []
    },
    {
      "cell_type": "markdown",
      "metadata": {
        "id": "SeXL_C-yo21I"
      },
      "source": [
        "\"discrimination\""
      ]
    },
    {
      "cell_type": "code",
      "metadata": {
        "id": "qsminTicmI1x"
      },
      "source": [
        "df_city = pd.DataFrame(itertools.islice(sntwitter.TwitterSearchScraper(\n",
        "    'gender near:\"Singapore\" within:10km lang:en since:'+  from_date + ' until:' + end_date + ' -filter:links -filter:replies -filter:retweets').get_items(), 10000))[['date', 'content']]"
      ],
      "execution_count": null,
      "outputs": []
    },
    {
      "cell_type": "code",
      "metadata": {
        "id": "0fRKDPgXmQgp"
      },
      "source": [
        "loc = '1.3521, 103.8198, 10km'\n",
        "df_coord = pd.DataFrame(itertools.islice(sntwitter.TwitterSearchScraper(\n",
        "    'gender geocode:\"{}\"'.format(loc) + 'lang:en since:' +  from_date + ' until:' + end_date + ' -filter:links -filter:replies -filter:retweets').get_items(), 10000))[['date', 'content']]"
      ],
      "execution_count": null,
      "outputs": []
    },
    {
      "cell_type": "code",
      "metadata": {
        "colab": {
          "base_uri": "https://localhost:8080/"
        },
        "id": "-10LJMBhnHK2",
        "outputId": "9c545524-7554-4f2c-9414-5867b3c86f90"
      },
      "source": [
        "print(df_city.shape)\n",
        "print(df_coord.shape)"
      ],
      "execution_count": null,
      "outputs": [
        {
          "output_type": "stream",
          "name": "stdout",
          "text": [
            "(32, 2)\n",
            "(32, 2)\n"
          ]
        }
      ]
    },
    {
      "cell_type": "code",
      "metadata": {
        "colab": {
          "base_uri": "https://localhost:8080/",
          "height": 220
        },
        "id": "KaC3TJbWnJsf",
        "outputId": "fe889715-5ecf-4886-a5fd-834b69942234"
      },
      "source": [
        "common_rows = df_coord.merge(df_city, how='inner')\n",
        "print(common_rows.shape)\n",
        "common_rows.head()"
      ],
      "execution_count": null,
      "outputs": [
        {
          "output_type": "stream",
          "name": "stdout",
          "text": [
            "(18, 2)\n"
          ]
        },
        {
          "output_type": "execute_result",
          "data": {
            "text/html": [
              "<div>\n",
              "<style scoped>\n",
              "    .dataframe tbody tr th:only-of-type {\n",
              "        vertical-align: middle;\n",
              "    }\n",
              "\n",
              "    .dataframe tbody tr th {\n",
              "        vertical-align: top;\n",
              "    }\n",
              "\n",
              "    .dataframe thead th {\n",
              "        text-align: right;\n",
              "    }\n",
              "</style>\n",
              "<table border=\"1\" class=\"dataframe\">\n",
              "  <thead>\n",
              "    <tr style=\"text-align: right;\">\n",
              "      <th></th>\n",
              "      <th>date</th>\n",
              "      <th>content</th>\n",
              "    </tr>\n",
              "  </thead>\n",
              "  <tbody>\n",
              "    <tr>\n",
              "      <th>0</th>\n",
              "      <td>2020-12-17 12:11:05+00:00</td>\n",
              "      <td>SOMETIMES, Men don’t understand why we feel wh...</td>\n",
              "    </tr>\n",
              "    <tr>\n",
              "      <th>1</th>\n",
              "      <td>2020-10-22 14:36:12+00:00</td>\n",
              "      <td>exchange each other’s nudes w a friend from th...</td>\n",
              "    </tr>\n",
              "    <tr>\n",
              "      <th>2</th>\n",
              "      <td>2020-10-17 14:18:58+00:00</td>\n",
              "      <td>Two people of the opposite gender can go out t...</td>\n",
              "    </tr>\n",
              "    <tr>\n",
              "      <th>3</th>\n",
              "      <td>2020-09-13 15:01:35+00:00</td>\n",
              "      <td>the gender of the child that started the calif...</td>\n",
              "    </tr>\n",
              "    <tr>\n",
              "      <th>4</th>\n",
              "      <td>2020-09-12 16:13:09+00:00</td>\n",
              "      <td>i still dont get the concept of gender reveal ...</td>\n",
              "    </tr>\n",
              "  </tbody>\n",
              "</table>\n",
              "</div>"
            ],
            "text/plain": [
              "                       date                                            content\n",
              "0 2020-12-17 12:11:05+00:00  SOMETIMES, Men don’t understand why we feel wh...\n",
              "1 2020-10-22 14:36:12+00:00  exchange each other’s nudes w a friend from th...\n",
              "2 2020-10-17 14:18:58+00:00  Two people of the opposite gender can go out t...\n",
              "3 2020-09-13 15:01:35+00:00  the gender of the child that started the calif...\n",
              "4 2020-09-12 16:13:09+00:00  i still dont get the concept of gender reveal ..."
            ]
          },
          "metadata": {},
          "execution_count": 23
        }
      ]
    },
    {
      "cell_type": "code",
      "metadata": {
        "id": "Lpsy0xgJnWyf"
      },
      "source": [
        "common_rows.to_csv(f'gendersg_tweets.csv')"
      ],
      "execution_count": null,
      "outputs": []
    },
    {
      "cell_type": "markdown",
      "metadata": {
        "id": "vd_qVJAknkuD"
      },
      "source": [
        "**Cleaning of text**"
      ]
    },
    {
      "cell_type": "code",
      "metadata": {
        "colab": {
          "base_uri": "https://localhost:8080/"
        },
        "id": "sz-Yix0Nnhpd",
        "outputId": "42eeea0c-0bd6-49db-812b-2073d2fb9985"
      },
      "source": [
        "### Let's download ```smt203util.py``` Below code should download the file in the same folder where your jupyter notebook is. \n",
        "!wget https://raw.githubusercontent.com/anjisun221/css_codes/main/ay21t1/Lab03_text_analysis/smt203util.py"
      ],
      "execution_count": null,
      "outputs": [
        {
          "output_type": "stream",
          "name": "stdout",
          "text": [
            "--2021-10-22 15:17:41--  https://raw.githubusercontent.com/anjisun221/css_codes/main/ay21t1/Lab03_text_analysis/smt203util.py\n",
            "Resolving raw.githubusercontent.com (raw.githubusercontent.com)... 185.199.108.133, 185.199.109.133, 185.199.110.133, ...\n",
            "Connecting to raw.githubusercontent.com (raw.githubusercontent.com)|185.199.108.133|:443... connected.\n",
            "HTTP request sent, awaiting response... 200 OK\n",
            "Length: 3034 (3.0K) [text/plain]\n",
            "Saving to: ‘smt203util.py.2’\n",
            "\n",
            "smt203util.py.2     100%[===================>]   2.96K  --.-KB/s    in 0.001s  \n",
            "\n",
            "2021-10-22 15:17:41 (3.83 MB/s) - ‘smt203util.py.2’ saved [3034/3034]\n",
            "\n"
          ]
        }
      ]
    },
    {
      "cell_type": "code",
      "metadata": {
        "id": "9urN9Vznnn5J"
      },
      "source": [
        "from smt203util import *"
      ],
      "execution_count": null,
      "outputs": []
    },
    {
      "cell_type": "code",
      "metadata": {
        "colab": {
          "base_uri": "https://localhost:8080/",
          "height": 220
        },
        "id": "msaKShZTnres",
        "outputId": "4503825b-1355-4f08-9d22-01217a52d9f3"
      },
      "source": [
        "df = pd.read_csv('gendersg_tweets.csv')\n",
        "\n",
        "print(df.shape)\n",
        "df.head()"
      ],
      "execution_count": null,
      "outputs": [
        {
          "output_type": "stream",
          "name": "stdout",
          "text": [
            "(18, 3)\n"
          ]
        },
        {
          "output_type": "execute_result",
          "data": {
            "text/html": [
              "<div>\n",
              "<style scoped>\n",
              "    .dataframe tbody tr th:only-of-type {\n",
              "        vertical-align: middle;\n",
              "    }\n",
              "\n",
              "    .dataframe tbody tr th {\n",
              "        vertical-align: top;\n",
              "    }\n",
              "\n",
              "    .dataframe thead th {\n",
              "        text-align: right;\n",
              "    }\n",
              "</style>\n",
              "<table border=\"1\" class=\"dataframe\">\n",
              "  <thead>\n",
              "    <tr style=\"text-align: right;\">\n",
              "      <th></th>\n",
              "      <th>Unnamed: 0</th>\n",
              "      <th>date</th>\n",
              "      <th>content</th>\n",
              "    </tr>\n",
              "  </thead>\n",
              "  <tbody>\n",
              "    <tr>\n",
              "      <th>0</th>\n",
              "      <td>0</td>\n",
              "      <td>2020-12-17 12:11:05+00:00</td>\n",
              "      <td>SOMETIMES, Men don’t understand why we feel wh...</td>\n",
              "    </tr>\n",
              "    <tr>\n",
              "      <th>1</th>\n",
              "      <td>1</td>\n",
              "      <td>2020-10-22 14:36:12+00:00</td>\n",
              "      <td>exchange each other’s nudes w a friend from th...</td>\n",
              "    </tr>\n",
              "    <tr>\n",
              "      <th>2</th>\n",
              "      <td>2</td>\n",
              "      <td>2020-10-17 14:18:58+00:00</td>\n",
              "      <td>Two people of the opposite gender can go out t...</td>\n",
              "    </tr>\n",
              "    <tr>\n",
              "      <th>3</th>\n",
              "      <td>3</td>\n",
              "      <td>2020-09-13 15:01:35+00:00</td>\n",
              "      <td>the gender of the child that started the calif...</td>\n",
              "    </tr>\n",
              "    <tr>\n",
              "      <th>4</th>\n",
              "      <td>4</td>\n",
              "      <td>2020-09-12 16:13:09+00:00</td>\n",
              "      <td>i still dont get the concept of gender reveal ...</td>\n",
              "    </tr>\n",
              "  </tbody>\n",
              "</table>\n",
              "</div>"
            ],
            "text/plain": [
              "   Unnamed: 0  ...                                            content\n",
              "0           0  ...  SOMETIMES, Men don’t understand why we feel wh...\n",
              "1           1  ...  exchange each other’s nudes w a friend from th...\n",
              "2           2  ...  Two people of the opposite gender can go out t...\n",
              "3           3  ...  the gender of the child that started the calif...\n",
              "4           4  ...  i still dont get the concept of gender reveal ...\n",
              "\n",
              "[5 rows x 3 columns]"
            ]
          },
          "metadata": {},
          "execution_count": 27
        }
      ]
    },
    {
      "cell_type": "code",
      "metadata": {
        "id": "DXwzWaoLnueN"
      },
      "source": [
        "import re \n",
        "import string\n",
        "\n",
        "def clean_text_round1(text):\n",
        "    '''Make text lowercase, remove punctuation and words containing numbers and urls.'''\n",
        "    text = text.lower()\n",
        "    text = re.sub('[%s]' % re.escape(string.punctuation), '', text)\n",
        "    text = re.sub('\\w*\\d\\w*', '', text)\n",
        "    text = re.sub('^https?:\\/\\/.*[\\r\\n]*', '', text)\n",
        "    return text"
      ],
      "execution_count": null,
      "outputs": []
    },
    {
      "cell_type": "code",
      "metadata": {
        "colab": {
          "base_uri": "https://localhost:8080/",
          "height": 203
        },
        "id": "MxF67LlTnw7t",
        "outputId": "1f5f0d7a-099b-4149-8bca-b77101a0f075"
      },
      "source": [
        "df['clean_text_1'] = df['content'].apply(clean_text_round1)\n",
        "df.head()"
      ],
      "execution_count": null,
      "outputs": [
        {
          "output_type": "execute_result",
          "data": {
            "text/html": [
              "<div>\n",
              "<style scoped>\n",
              "    .dataframe tbody tr th:only-of-type {\n",
              "        vertical-align: middle;\n",
              "    }\n",
              "\n",
              "    .dataframe tbody tr th {\n",
              "        vertical-align: top;\n",
              "    }\n",
              "\n",
              "    .dataframe thead th {\n",
              "        text-align: right;\n",
              "    }\n",
              "</style>\n",
              "<table border=\"1\" class=\"dataframe\">\n",
              "  <thead>\n",
              "    <tr style=\"text-align: right;\">\n",
              "      <th></th>\n",
              "      <th>Unnamed: 0</th>\n",
              "      <th>date</th>\n",
              "      <th>content</th>\n",
              "      <th>clean_text_1</th>\n",
              "    </tr>\n",
              "  </thead>\n",
              "  <tbody>\n",
              "    <tr>\n",
              "      <th>0</th>\n",
              "      <td>0</td>\n",
              "      <td>2020-12-17 12:11:05+00:00</td>\n",
              "      <td>SOMETIMES, Men don’t understand why we feel wh...</td>\n",
              "      <td>sometimes men don’t understand why we feel wha...</td>\n",
              "    </tr>\n",
              "    <tr>\n",
              "      <th>1</th>\n",
              "      <td>1</td>\n",
              "      <td>2020-10-22 14:36:12+00:00</td>\n",
              "      <td>exchange each other’s nudes w a friend from th...</td>\n",
              "      <td>exchange each other’s nudes w a friend from th...</td>\n",
              "    </tr>\n",
              "    <tr>\n",
              "      <th>2</th>\n",
              "      <td>2</td>\n",
              "      <td>2020-10-17 14:18:58+00:00</td>\n",
              "      <td>Two people of the opposite gender can go out t...</td>\n",
              "      <td>two people of the opposite gender can go out t...</td>\n",
              "    </tr>\n",
              "    <tr>\n",
              "      <th>3</th>\n",
              "      <td>3</td>\n",
              "      <td>2020-09-13 15:01:35+00:00</td>\n",
              "      <td>the gender of the child that started the calif...</td>\n",
              "      <td>the gender of the child that started the calif...</td>\n",
              "    </tr>\n",
              "    <tr>\n",
              "      <th>4</th>\n",
              "      <td>4</td>\n",
              "      <td>2020-09-12 16:13:09+00:00</td>\n",
              "      <td>i still dont get the concept of gender reveal ...</td>\n",
              "      <td>i still dont get the concept of gender reveal ...</td>\n",
              "    </tr>\n",
              "  </tbody>\n",
              "</table>\n",
              "</div>"
            ],
            "text/plain": [
              "   Unnamed: 0  ...                                       clean_text_1\n",
              "0           0  ...  sometimes men don’t understand why we feel wha...\n",
              "1           1  ...  exchange each other’s nudes w a friend from th...\n",
              "2           2  ...  two people of the opposite gender can go out t...\n",
              "3           3  ...  the gender of the child that started the calif...\n",
              "4           4  ...  i still dont get the concept of gender reveal ...\n",
              "\n",
              "[5 rows x 4 columns]"
            ]
          },
          "metadata": {},
          "execution_count": 29
        }
      ]
    },
    {
      "cell_type": "code",
      "metadata": {
        "colab": {
          "base_uri": "https://localhost:8080/"
        },
        "id": "TsI4btFxnzp4",
        "outputId": "6c131e60-1288-4978-e9e3-e8dcf2835d7d"
      },
      "source": [
        "import nltk\n",
        "nltk.download('stopwords')"
      ],
      "execution_count": null,
      "outputs": [
        {
          "output_type": "stream",
          "name": "stdout",
          "text": [
            "[nltk_data] Downloading package stopwords to /root/nltk_data...\n",
            "[nltk_data]   Unzipping corpora/stopwords.zip.\n"
          ]
        },
        {
          "output_type": "execute_result",
          "data": {
            "text/plain": [
              "True"
            ]
          },
          "metadata": {},
          "execution_count": 30
        }
      ]
    },
    {
      "cell_type": "code",
      "metadata": {
        "id": "MY7LvQjWn2aJ"
      },
      "source": [
        "from nltk.corpus import stopwords\n",
        "stop = stopwords.words('english')\n",
        "\n",
        "# Exclude stopwords with Python's list comprehension and pandas.DataFrame.apply.\n",
        "def clean_text_round2(text):\n",
        "    return ' '.join([word for word in text.split() if word not in (stop)])"
      ],
      "execution_count": null,
      "outputs": []
    },
    {
      "cell_type": "code",
      "metadata": {
        "colab": {
          "base_uri": "https://localhost:8080/",
          "height": 203
        },
        "id": "WqHWxy9Jn5MV",
        "outputId": "46aecdab-ddf2-48a8-90c7-269e5032b493"
      },
      "source": [
        "df['clean_text_2'] = df['clean_text_1'].apply(clean_text_round2)\n",
        "df.head()"
      ],
      "execution_count": null,
      "outputs": [
        {
          "output_type": "execute_result",
          "data": {
            "text/html": [
              "<div>\n",
              "<style scoped>\n",
              "    .dataframe tbody tr th:only-of-type {\n",
              "        vertical-align: middle;\n",
              "    }\n",
              "\n",
              "    .dataframe tbody tr th {\n",
              "        vertical-align: top;\n",
              "    }\n",
              "\n",
              "    .dataframe thead th {\n",
              "        text-align: right;\n",
              "    }\n",
              "</style>\n",
              "<table border=\"1\" class=\"dataframe\">\n",
              "  <thead>\n",
              "    <tr style=\"text-align: right;\">\n",
              "      <th></th>\n",
              "      <th>Unnamed: 0</th>\n",
              "      <th>date</th>\n",
              "      <th>content</th>\n",
              "      <th>clean_text_1</th>\n",
              "      <th>clean_text_2</th>\n",
              "    </tr>\n",
              "  </thead>\n",
              "  <tbody>\n",
              "    <tr>\n",
              "      <th>0</th>\n",
              "      <td>0</td>\n",
              "      <td>2020-12-17 12:11:05+00:00</td>\n",
              "      <td>SOMETIMES, Men don’t understand why we feel wh...</td>\n",
              "      <td>sometimes men don’t understand why we feel wha...</td>\n",
              "      <td>sometimes men don’t understand feel feel girl ...</td>\n",
              "    </tr>\n",
              "    <tr>\n",
              "      <th>1</th>\n",
              "      <td>1</td>\n",
              "      <td>2020-10-22 14:36:12+00:00</td>\n",
              "      <td>exchange each other’s nudes w a friend from th...</td>\n",
              "      <td>exchange each other’s nudes w a friend from th...</td>\n",
              "      <td>exchange other’s nudes w friend opposite gende...</td>\n",
              "    </tr>\n",
              "    <tr>\n",
              "      <th>2</th>\n",
              "      <td>2</td>\n",
              "      <td>2020-10-17 14:18:58+00:00</td>\n",
              "      <td>Two people of the opposite gender can go out t...</td>\n",
              "      <td>two people of the opposite gender can go out t...</td>\n",
              "      <td>two people opposite gender go together couple ...</td>\n",
              "    </tr>\n",
              "    <tr>\n",
              "      <th>3</th>\n",
              "      <td>3</td>\n",
              "      <td>2020-09-13 15:01:35+00:00</td>\n",
              "      <td>the gender of the child that started the calif...</td>\n",
              "      <td>the gender of the child that started the calif...</td>\n",
              "      <td>gender child started california fires fire bre...</td>\n",
              "    </tr>\n",
              "    <tr>\n",
              "      <th>4</th>\n",
              "      <td>4</td>\n",
              "      <td>2020-09-12 16:13:09+00:00</td>\n",
              "      <td>i still dont get the concept of gender reveal ...</td>\n",
              "      <td>i still dont get the concept of gender reveal ...</td>\n",
              "      <td>still dont get concept gender reveal parties l...</td>\n",
              "    </tr>\n",
              "  </tbody>\n",
              "</table>\n",
              "</div>"
            ],
            "text/plain": [
              "   Unnamed: 0  ...                                       clean_text_2\n",
              "0           0  ...  sometimes men don’t understand feel feel girl ...\n",
              "1           1  ...  exchange other’s nudes w friend opposite gende...\n",
              "2           2  ...  two people opposite gender go together couple ...\n",
              "3           3  ...  gender child started california fires fire bre...\n",
              "4           4  ...  still dont get concept gender reveal parties l...\n",
              "\n",
              "[5 rows x 5 columns]"
            ]
          },
          "metadata": {},
          "execution_count": 32
        }
      ]
    },
    {
      "cell_type": "code",
      "metadata": {
        "id": "jBozJJkmoUha"
      },
      "source": [
        "## Create ```word_counts``` folder \n",
        "import os\n",
        "os.makedirs('word_counts', exist_ok=True)"
      ],
      "execution_count": null,
      "outputs": []
    },
    {
      "cell_type": "code",
      "metadata": {
        "id": "xvDnjoUKoC8d"
      },
      "source": [
        "def count_words_from_dataframe(df):\n",
        "    result_dict = {}\n",
        "    # iterate rows of dataframe \n",
        "    for index, row in df.iterrows():\n",
        "        text = row['clean_text_2']\n",
        "        \n",
        "        # this will split a sentence into words \n",
        "        tokens = text.split()\n",
        "        \n",
        "        # iterate each word \n",
        "        for i in range(0, len(tokens)):\n",
        "            token = tokens[i]\n",
        "            try:\n",
        "                result_dict[token] += 1\n",
        "            except KeyError:\n",
        "                result_dict[token] = 1\n",
        "                    \n",
        "    return result_dict"
      ],
      "execution_count": null,
      "outputs": []
    },
    {
      "cell_type": "code",
      "metadata": {
        "id": "XqBftX-6oG9b"
      },
      "source": [
        "gendersg = count_words_from_dataframe(df)\n",
        "my_dict = gendersg\n",
        "\n",
        "with open('word_counts/gendersg_dict.csv', 'w') as f:\n",
        "  for key in my_dict.keys():\n",
        "    f.write(\"%s,%s\\n\"%(key,my_dict[key]))"
      ],
      "execution_count": null,
      "outputs": []
    },
    {
      "cell_type": "code",
      "metadata": {
        "id": "x4gP2lJPoMS0"
      },
      "source": [
        "### Import relevant libraries\n",
        "from wordcloud import WordCloud, STOPWORDS\n",
        "import matplotlib.pyplot as plt\n",
        "import numpy as np\n",
        "import re\n",
        "from PIL import Image\n",
        "from os import path\n",
        "import csv\n",
        "\n",
        "### this function will creat wordcloud based on word frequencies and save them into files under plot. \n",
        "def makeImage(termDict, outputfile):\n",
        "    \n",
        "    wc = WordCloud(max_font_size=60, width=1280, height=720, background_color=\"white\")    \n",
        "\n",
        "    ### generate word cloud using frequencies!\n",
        "    wc.generate_from_frequencies(termDict)\n",
        "    wc.to_file(outputfile+\".png\")\n",
        "    wc.to_file(outputfile+\".pdf\")\n",
        "    \n",
        "    ### show the figure\n",
        "    plt.imshow(wc, interpolation=\"bilinear\")\n",
        "    plt.axis(\"off\")\n",
        "    plt.show() "
      ],
      "execution_count": null,
      "outputs": []
    },
    {
      "cell_type": "code",
      "metadata": {
        "id": "Q_kO9CXoocJ9"
      },
      "source": [
        "### Create ```plot``` folder \n",
        "os.makedirs('plot', exist_ok=True)"
      ],
      "execution_count": null,
      "outputs": []
    },
    {
      "cell_type": "code",
      "metadata": {
        "colab": {
          "base_uri": "https://localhost:8080/",
          "height": 219
        },
        "id": "HvdgBGzsoc9c",
        "outputId": "8579d4a1-2964-46a4-cf11-a5d8a63a45b0"
      },
      "source": [
        "brandname = \"gendersg\"\n",
        "### We're using one of the utility function! \"read_word_count_file\"\n",
        "fullTermsDict = read_word_count_file(f'word_counts/gendersg_dict.csv')\n",
        "outputfile = f\"./plot/wordcloud_count_unigram_{brandname}\"\n",
        "makeImage(fullTermsDict, outputfile)"
      ],
      "execution_count": null,
      "outputs": [
        {
          "output_type": "display_data",
          "data": {
            "image/png": "[encoded data removed]",
            "text/plain": [
              "<Figure size 432x288 with 1 Axes>"
            ]
          },
          "metadata": {
            "needs_background": "light"
          }
        }
      ]
    },
    {
      "cell_type": "markdown",
      "metadata": {
        "id": "PYTrqohxo-Fz"
      },
      "source": [
        "\"unfair\""
      ]
    },
    {
      "cell_type": "code",
      "metadata": {
        "id": "JyLbt7Udo_gD"
      },
      "source": [
        "df_city = pd.DataFrame(itertools.islice(sntwitter.TwitterSearchScraper(\n",
        "    'unfair near:\"Singapore\" within:10km lang:en since:'+  from_date + ' until:' + end_date + ' -filter:links -filter:replies -filter:retweets').get_items(), 10000))[['date', 'content']]"
      ],
      "execution_count": null,
      "outputs": []
    },
    {
      "cell_type": "code",
      "metadata": {
        "id": "hssNUSkSrltX"
      },
      "source": [
        "loc = '1.3521, 103.8198, 10km'\n",
        "df_coord = pd.DataFrame(itertools.islice(sntwitter.TwitterSearchScraper(\n",
        "    'unfair geocode:\"{}\"'.format(loc) + 'lang:en since:' +  from_date + ' until:' + end_date + ' -filter:links -filter:replies -filter:retweets').get_items(), 10000))[['date', 'content']]"
      ],
      "execution_count": null,
      "outputs": []
    },
    {
      "cell_type": "code",
      "metadata": {
        "colab": {
          "base_uri": "https://localhost:8080/"
        },
        "id": "giouHM0Dt-Ib",
        "outputId": "7c26ae09-f323-4865-96ab-3cde806d71a9"
      },
      "source": [
        "print(df_city.shape)\n",
        "print(df_coord.shape)"
      ],
      "execution_count": null,
      "outputs": [
        {
          "output_type": "stream",
          "name": "stdout",
          "text": [
            "(21, 2)\n",
            "(364, 2)\n"
          ]
        }
      ]
    },
    {
      "cell_type": "code",
      "metadata": {
        "colab": {
          "base_uri": "https://localhost:8080/",
          "height": 220
        },
        "id": "C7lnzaJyuB9S",
        "outputId": "27df7f77-bd62-4aff-b4d7-d543b526a5bd"
      },
      "source": [
        "common_rows = df_coord.merge(df_city, how='inner')\n",
        "print(common_rows.shape)\n",
        "common_rows.head()"
      ],
      "execution_count": null,
      "outputs": [
        {
          "output_type": "stream",
          "name": "stdout",
          "text": [
            "(16, 2)\n"
          ]
        },
        {
          "output_type": "execute_result",
          "data": {
            "text/html": [
              "<div>\n",
              "<style scoped>\n",
              "    .dataframe tbody tr th:only-of-type {\n",
              "        vertical-align: middle;\n",
              "    }\n",
              "\n",
              "    .dataframe tbody tr th {\n",
              "        vertical-align: top;\n",
              "    }\n",
              "\n",
              "    .dataframe thead th {\n",
              "        text-align: right;\n",
              "    }\n",
              "</style>\n",
              "<table border=\"1\" class=\"dataframe\">\n",
              "  <thead>\n",
              "    <tr style=\"text-align: right;\">\n",
              "      <th></th>\n",
              "      <th>date</th>\n",
              "      <th>content</th>\n",
              "    </tr>\n",
              "  </thead>\n",
              "  <tbody>\n",
              "    <tr>\n",
              "      <th>0</th>\n",
              "      <td>2020-12-16 18:04:50+00:00</td>\n",
              "      <td>so fucking unfair fuck fuck fuck you</td>\n",
              "    </tr>\n",
              "    <tr>\n",
              "      <th>1</th>\n",
              "      <td>2020-12-16 17:57:57+00:00</td>\n",
              "      <td>i fucking hate you. its always been you. never...</td>\n",
              "    </tr>\n",
              "    <tr>\n",
              "      <th>2</th>\n",
              "      <td>2020-12-16 14:54:54+00:00</td>\n",
              "      <td>Can I just point out one thing?\\n\\nI just find...</td>\n",
              "    </tr>\n",
              "    <tr>\n",
              "      <th>3</th>\n",
              "      <td>2020-12-01 03:58:06+00:00</td>\n",
              "      <td>this is so unfair :D</td>\n",
              "    </tr>\n",
              "    <tr>\n",
              "      <th>4</th>\n",
              "      <td>2020-11-29 09:45:07+00:00</td>\n",
              "      <td>Today someone asked if I'm bf-ing my baby and ...</td>\n",
              "    </tr>\n",
              "  </tbody>\n",
              "</table>\n",
              "</div>"
            ],
            "text/plain": [
              "                       date                                            content\n",
              "0 2020-12-16 18:04:50+00:00               so fucking unfair fuck fuck fuck you\n",
              "1 2020-12-16 17:57:57+00:00  i fucking hate you. its always been you. never...\n",
              "2 2020-12-16 14:54:54+00:00  Can I just point out one thing?\\n\\nI just find...\n",
              "3 2020-12-01 03:58:06+00:00                               this is so unfair :D\n",
              "4 2020-11-29 09:45:07+00:00  Today someone asked if I'm bf-ing my baby and ..."
            ]
          },
          "metadata": {},
          "execution_count": 42
        }
      ]
    },
    {
      "cell_type": "code",
      "metadata": {
        "id": "0OYnNliTuJ6F"
      },
      "source": [
        "common_rows.to_csv(f'unfairsg_tweets.csv')"
      ],
      "execution_count": null,
      "outputs": []
    },
    {
      "cell_type": "code",
      "metadata": {
        "colab": {
          "base_uri": "https://localhost:8080/",
          "height": 220
        },
        "id": "93D0h-DhuMKO",
        "outputId": "4f1dd201-a474-4816-d342-b58afa97a2fb"
      },
      "source": [
        "df = pd.read_csv('unfairsg_tweets.csv')\n",
        "\n",
        "print(df.shape)\n",
        "df.head()"
      ],
      "execution_count": null,
      "outputs": [
        {
          "output_type": "stream",
          "name": "stdout",
          "text": [
            "(16, 3)\n"
          ]
        },
        {
          "output_type": "execute_result",
          "data": {
            "text/html": [
              "<div>\n",
              "<style scoped>\n",
              "    .dataframe tbody tr th:only-of-type {\n",
              "        vertical-align: middle;\n",
              "    }\n",
              "\n",
              "    .dataframe tbody tr th {\n",
              "        vertical-align: top;\n",
              "    }\n",
              "\n",
              "    .dataframe thead th {\n",
              "        text-align: right;\n",
              "    }\n",
              "</style>\n",
              "<table border=\"1\" class=\"dataframe\">\n",
              "  <thead>\n",
              "    <tr style=\"text-align: right;\">\n",
              "      <th></th>\n",
              "      <th>Unnamed: 0</th>\n",
              "      <th>date</th>\n",
              "      <th>content</th>\n",
              "    </tr>\n",
              "  </thead>\n",
              "  <tbody>\n",
              "    <tr>\n",
              "      <th>0</th>\n",
              "      <td>0</td>\n",
              "      <td>2020-12-16 18:04:50+00:00</td>\n",
              "      <td>so fucking unfair fuck fuck fuck you</td>\n",
              "    </tr>\n",
              "    <tr>\n",
              "      <th>1</th>\n",
              "      <td>1</td>\n",
              "      <td>2020-12-16 17:57:57+00:00</td>\n",
              "      <td>i fucking hate you. its always been you. never...</td>\n",
              "    </tr>\n",
              "    <tr>\n",
              "      <th>2</th>\n",
              "      <td>2</td>\n",
              "      <td>2020-12-16 14:54:54+00:00</td>\n",
              "      <td>Can I just point out one thing?\\n\\nI just find...</td>\n",
              "    </tr>\n",
              "    <tr>\n",
              "      <th>3</th>\n",
              "      <td>3</td>\n",
              "      <td>2020-12-01 03:58:06+00:00</td>\n",
              "      <td>this is so unfair :D</td>\n",
              "    </tr>\n",
              "    <tr>\n",
              "      <th>4</th>\n",
              "      <td>4</td>\n",
              "      <td>2020-11-29 09:45:07+00:00</td>\n",
              "      <td>Today someone asked if I'm bf-ing my baby and ...</td>\n",
              "    </tr>\n",
              "  </tbody>\n",
              "</table>\n",
              "</div>"
            ],
            "text/plain": [
              "   Unnamed: 0  ...                                            content\n",
              "0           0  ...               so fucking unfair fuck fuck fuck you\n",
              "1           1  ...  i fucking hate you. its always been you. never...\n",
              "2           2  ...  Can I just point out one thing?\\n\\nI just find...\n",
              "3           3  ...                               this is so unfair :D\n",
              "4           4  ...  Today someone asked if I'm bf-ing my baby and ...\n",
              "\n",
              "[5 rows x 3 columns]"
            ]
          },
          "metadata": {},
          "execution_count": 44
        }
      ]
    },
    {
      "cell_type": "code",
      "metadata": {
        "colab": {
          "base_uri": "https://localhost:8080/",
          "height": 203
        },
        "id": "L9YlkARNuPPx",
        "outputId": "f361c903-51b0-4c24-d1e2-136f094c6ea6"
      },
      "source": [
        "df['clean_text_1'] = df['content'].apply(clean_text_round1)\n",
        "df.head()"
      ],
      "execution_count": null,
      "outputs": [
        {
          "output_type": "execute_result",
          "data": {
            "text/html": [
              "<div>\n",
              "<style scoped>\n",
              "    .dataframe tbody tr th:only-of-type {\n",
              "        vertical-align: middle;\n",
              "    }\n",
              "\n",
              "    .dataframe tbody tr th {\n",
              "        vertical-align: top;\n",
              "    }\n",
              "\n",
              "    .dataframe thead th {\n",
              "        text-align: right;\n",
              "    }\n",
              "</style>\n",
              "<table border=\"1\" class=\"dataframe\">\n",
              "  <thead>\n",
              "    <tr style=\"text-align: right;\">\n",
              "      <th></th>\n",
              "      <th>Unnamed: 0</th>\n",
              "      <th>date</th>\n",
              "      <th>content</th>\n",
              "      <th>clean_text_1</th>\n",
              "    </tr>\n",
              "  </thead>\n",
              "  <tbody>\n",
              "    <tr>\n",
              "      <th>0</th>\n",
              "      <td>0</td>\n",
              "      <td>2020-12-16 18:04:50+00:00</td>\n",
              "      <td>so fucking unfair fuck fuck fuck you</td>\n",
              "      <td>so fucking unfair fuck fuck fuck you</td>\n",
              "    </tr>\n",
              "    <tr>\n",
              "      <th>1</th>\n",
              "      <td>1</td>\n",
              "      <td>2020-12-16 17:57:57+00:00</td>\n",
              "      <td>i fucking hate you. its always been you. never...</td>\n",
              "      <td>i fucking hate you its always been you never m...</td>\n",
              "    </tr>\n",
              "    <tr>\n",
              "      <th>2</th>\n",
              "      <td>2</td>\n",
              "      <td>2020-12-16 14:54:54+00:00</td>\n",
              "      <td>Can I just point out one thing?\\n\\nI just find...</td>\n",
              "      <td>can i just point out one thing\\n\\ni just find ...</td>\n",
              "    </tr>\n",
              "    <tr>\n",
              "      <th>3</th>\n",
              "      <td>3</td>\n",
              "      <td>2020-12-01 03:58:06+00:00</td>\n",
              "      <td>this is so unfair :D</td>\n",
              "      <td>this is so unfair d</td>\n",
              "    </tr>\n",
              "    <tr>\n",
              "      <th>4</th>\n",
              "      <td>4</td>\n",
              "      <td>2020-11-29 09:45:07+00:00</td>\n",
              "      <td>Today someone asked if I'm bf-ing my baby and ...</td>\n",
              "      <td>today someone asked if im bfing my baby and my...</td>\n",
              "    </tr>\n",
              "  </tbody>\n",
              "</table>\n",
              "</div>"
            ],
            "text/plain": [
              "   Unnamed: 0  ...                                       clean_text_1\n",
              "0           0  ...               so fucking unfair fuck fuck fuck you\n",
              "1           1  ...  i fucking hate you its always been you never m...\n",
              "2           2  ...  can i just point out one thing\\n\\ni just find ...\n",
              "3           3  ...                                this is so unfair d\n",
              "4           4  ...  today someone asked if im bfing my baby and my...\n",
              "\n",
              "[5 rows x 4 columns]"
            ]
          },
          "metadata": {},
          "execution_count": 45
        }
      ]
    },
    {
      "cell_type": "code",
      "metadata": {
        "colab": {
          "base_uri": "https://localhost:8080/",
          "height": 203
        },
        "id": "EE_18z2YuR-p",
        "outputId": "f69c24f1-428e-4804-bb8b-d9c4ef588043"
      },
      "source": [
        "df['clean_text_2'] = df['clean_text_1'].apply(clean_text_round2)\n",
        "df.head()"
      ],
      "execution_count": null,
      "outputs": [
        {
          "output_type": "execute_result",
          "data": {
            "text/html": [
              "<div>\n",
              "<style scoped>\n",
              "    .dataframe tbody tr th:only-of-type {\n",
              "        vertical-align: middle;\n",
              "    }\n",
              "\n",
              "    .dataframe tbody tr th {\n",
              "        vertical-align: top;\n",
              "    }\n",
              "\n",
              "    .dataframe thead th {\n",
              "        text-align: right;\n",
              "    }\n",
              "</style>\n",
              "<table border=\"1\" class=\"dataframe\">\n",
              "  <thead>\n",
              "    <tr style=\"text-align: right;\">\n",
              "      <th></th>\n",
              "      <th>Unnamed: 0</th>\n",
              "      <th>date</th>\n",
              "      <th>content</th>\n",
              "      <th>clean_text_1</th>\n",
              "      <th>clean_text_2</th>\n",
              "    </tr>\n",
              "  </thead>\n",
              "  <tbody>\n",
              "    <tr>\n",
              "      <th>0</th>\n",
              "      <td>0</td>\n",
              "      <td>2020-12-16 18:04:50+00:00</td>\n",
              "      <td>so fucking unfair fuck fuck fuck you</td>\n",
              "      <td>so fucking unfair fuck fuck fuck you</td>\n",
              "      <td>fucking unfair fuck fuck fuck</td>\n",
              "    </tr>\n",
              "    <tr>\n",
              "      <th>1</th>\n",
              "      <td>1</td>\n",
              "      <td>2020-12-16 17:57:57+00:00</td>\n",
              "      <td>i fucking hate you. its always been you. never...</td>\n",
              "      <td>i fucking hate you its always been you never m...</td>\n",
              "      <td>fucking hate always never fucking unfair</td>\n",
              "    </tr>\n",
              "    <tr>\n",
              "      <th>2</th>\n",
              "      <td>2</td>\n",
              "      <td>2020-12-16 14:54:54+00:00</td>\n",
              "      <td>Can I just point out one thing?\\n\\nI just find...</td>\n",
              "      <td>can i just point out one thing\\n\\ni just find ...</td>\n",
              "      <td>point one thing find unfair heartless someone ...</td>\n",
              "    </tr>\n",
              "    <tr>\n",
              "      <th>3</th>\n",
              "      <td>3</td>\n",
              "      <td>2020-12-01 03:58:06+00:00</td>\n",
              "      <td>this is so unfair :D</td>\n",
              "      <td>this is so unfair d</td>\n",
              "      <td>unfair</td>\n",
              "    </tr>\n",
              "    <tr>\n",
              "      <th>4</th>\n",
              "      <td>4</td>\n",
              "      <td>2020-11-29 09:45:07+00:00</td>\n",
              "      <td>Today someone asked if I'm bf-ing my baby and ...</td>\n",
              "      <td>today someone asked if im bfing my baby and my...</td>\n",
              "      <td>today someone asked im bfing baby heart breaks...</td>\n",
              "    </tr>\n",
              "  </tbody>\n",
              "</table>\n",
              "</div>"
            ],
            "text/plain": [
              "   Unnamed: 0  ...                                       clean_text_2\n",
              "0           0  ...                      fucking unfair fuck fuck fuck\n",
              "1           1  ...           fucking hate always never fucking unfair\n",
              "2           2  ...  point one thing find unfair heartless someone ...\n",
              "3           3  ...                                             unfair\n",
              "4           4  ...  today someone asked im bfing baby heart breaks...\n",
              "\n",
              "[5 rows x 5 columns]"
            ]
          },
          "metadata": {},
          "execution_count": 46
        }
      ]
    },
    {
      "cell_type": "code",
      "metadata": {
        "id": "nuIC7N50uV46"
      },
      "source": [
        "unfairsg = count_words_from_dataframe(df)\n",
        "my_dict = unfairsg\n",
        "\n",
        "with open('word_counts/unfairsg_dict.csv', 'w') as f:\n",
        "  for key in my_dict.keys():\n",
        "    f.write(\"%s,%s\\n\"%(key,my_dict[key]))"
      ],
      "execution_count": null,
      "outputs": []
    },
    {
      "cell_type": "code",
      "metadata": {
        "colab": {
          "base_uri": "https://localhost:8080/",
          "height": 219
        },
        "id": "BQcBh7kWuZV-",
        "outputId": "9eccfaed-c209-4c09-987b-cfb622cdc9f8"
      },
      "source": [
        "brandname = \"unfairsg\"\n",
        "### We're using one of the utility function! \"read_word_count_file\"\n",
        "fullTermsDict = read_word_count_file(f'word_counts/unfairsg_dict.csv')\n",
        "outputfile = f\"./plot/wordcloud_count_unigram_{brandname}\"\n",
        "makeImage(fullTermsDict, outputfile)"
      ],
      "execution_count": null,
      "outputs": [
        {
          "output_type": "display_data",
          "data": {
            "image/png": "[encoded data removed]",
            "text/plain": [
              "<Figure size 432x288 with 1 Axes>"
            ]
          },
          "metadata": {
            "needs_background": "light"
          }
        }
      ]
    },
    {
      "cell_type": "markdown",
      "metadata": {
        "id": "V4au0hHU9v4g"
      },
      "source": [
        "\"women\""
      ]
    },
    {
      "cell_type": "code",
      "metadata": {
        "id": "1xbMva5O9y0y"
      },
      "source": [
        "df_city = pd.DataFrame(itertools.islice(sntwitter.TwitterSearchScraper(\n",
        "    'women near:\"Singapore\" within:10km lang:en since:'+  from_date + ' until:' + end_date + ' -filter:links -filter:replies -filter:retweets').get_items(), 10000))[['date', 'content']]"
      ],
      "execution_count": null,
      "outputs": []
    },
    {
      "cell_type": "code",
      "metadata": {
        "id": "0dVf0D8A-dJm"
      },
      "source": [
        "loc = '1.3521, 103.8198, 10km'\n",
        "df_coord = pd.DataFrame(itertools.islice(sntwitter.TwitterSearchScraper(\n",
        "    'women geocode:\"{}\"'.format(loc) + 'lang:en since:' +  from_date + ' until:' + end_date + ' -filter:links -filter:replies -filter:retweets').get_items(), 10000))[['date', 'content']]"
      ],
      "execution_count": null,
      "outputs": []
    },
    {
      "cell_type": "code",
      "metadata": {
        "colab": {
          "base_uri": "https://localhost:8080/"
        },
        "id": "V4IGrlhOAvLi",
        "outputId": "d736ffea-9228-4cfd-f85c-129eff143b8c"
      },
      "source": [
        "print(df_city.shape)\n",
        "print(df_coord.shape)"
      ],
      "execution_count": null,
      "outputs": [
        {
          "output_type": "stream",
          "name": "stdout",
          "text": [
            "(753, 2)\n",
            "(955, 2)\n"
          ]
        }
      ]
    },
    {
      "cell_type": "code",
      "metadata": {
        "colab": {
          "base_uri": "https://localhost:8080/",
          "height": 220
        },
        "id": "D92xSeBTA07F",
        "outputId": "931ed809-db0b-4dd1-df62-e2163830f3ca"
      },
      "source": [
        "common_rows = df_coord.merge(df_city, how='inner')\n",
        "print(common_rows.shape)\n",
        "common_rows.head()"
      ],
      "execution_count": null,
      "outputs": [
        {
          "output_type": "stream",
          "name": "stdout",
          "text": [
            "(276, 2)\n"
          ]
        },
        {
          "output_type": "execute_result",
          "data": {
            "text/html": [
              "<div>\n",
              "<style scoped>\n",
              "    .dataframe tbody tr th:only-of-type {\n",
              "        vertical-align: middle;\n",
              "    }\n",
              "\n",
              "    .dataframe tbody tr th {\n",
              "        vertical-align: top;\n",
              "    }\n",
              "\n",
              "    .dataframe thead th {\n",
              "        text-align: right;\n",
              "    }\n",
              "</style>\n",
              "<table border=\"1\" class=\"dataframe\">\n",
              "  <thead>\n",
              "    <tr style=\"text-align: right;\">\n",
              "      <th></th>\n",
              "      <th>date</th>\n",
              "      <th>content</th>\n",
              "    </tr>\n",
              "  </thead>\n",
              "  <tbody>\n",
              "    <tr>\n",
              "      <th>0</th>\n",
              "      <td>2020-12-30 05:25:55+00:00</td>\n",
              "      <td>It’s always fun to eavesdrop on church youth g...</td>\n",
              "    </tr>\n",
              "    <tr>\n",
              "      <th>1</th>\n",
              "      <td>2020-12-30 04:41:10+00:00</td>\n",
              "      <td>stopppp ruininggggg women</td>\n",
              "    </tr>\n",
              "    <tr>\n",
              "      <th>2</th>\n",
              "      <td>2020-12-30 03:47:38+00:00</td>\n",
              "      <td>Without really planning on it, most of the boo...</td>\n",
              "    </tr>\n",
              "    <tr>\n",
              "      <th>3</th>\n",
              "      <td>2020-12-26 04:31:20+00:00</td>\n",
              "      <td>I am starting to think there was a secret 14 m...</td>\n",
              "    </tr>\n",
              "    <tr>\n",
              "      <th>4</th>\n",
              "      <td>2020-12-25 03:24:05+00:00</td>\n",
              "      <td>The Ripper docu clearly telling us — women tha...</td>\n",
              "    </tr>\n",
              "  </tbody>\n",
              "</table>\n",
              "</div>"
            ],
            "text/plain": [
              "                       date                                            content\n",
              "0 2020-12-30 05:25:55+00:00  It’s always fun to eavesdrop on church youth g...\n",
              "1 2020-12-30 04:41:10+00:00                          stopppp ruininggggg women\n",
              "2 2020-12-30 03:47:38+00:00  Without really planning on it, most of the boo...\n",
              "3 2020-12-26 04:31:20+00:00  I am starting to think there was a secret 14 m...\n",
              "4 2020-12-25 03:24:05+00:00  The Ripper docu clearly telling us — women tha..."
            ]
          },
          "metadata": {},
          "execution_count": 52
        }
      ]
    },
    {
      "cell_type": "code",
      "metadata": {
        "id": "DGQ-KqYGA51p"
      },
      "source": [
        "common_rows.to_csv(f'womensg_tweets.csv')"
      ],
      "execution_count": null,
      "outputs": []
    },
    {
      "cell_type": "code",
      "metadata": {
        "colab": {
          "base_uri": "https://localhost:8080/",
          "height": 220
        },
        "id": "xBCaPWN3CRoz",
        "outputId": "7da5ad16-3e7e-4717-b1fa-f8ec1e74b093"
      },
      "source": [
        "df = pd.read_csv('womensg_tweets.csv')\n",
        "\n",
        "print(df.shape)\n",
        "df.head()"
      ],
      "execution_count": null,
      "outputs": [
        {
          "output_type": "stream",
          "name": "stdout",
          "text": [
            "(276, 3)\n"
          ]
        },
        {
          "output_type": "execute_result",
          "data": {
            "text/html": [
              "<div>\n",
              "<style scoped>\n",
              "    .dataframe tbody tr th:only-of-type {\n",
              "        vertical-align: middle;\n",
              "    }\n",
              "\n",
              "    .dataframe tbody tr th {\n",
              "        vertical-align: top;\n",
              "    }\n",
              "\n",
              "    .dataframe thead th {\n",
              "        text-align: right;\n",
              "    }\n",
              "</style>\n",
              "<table border=\"1\" class=\"dataframe\">\n",
              "  <thead>\n",
              "    <tr style=\"text-align: right;\">\n",
              "      <th></th>\n",
              "      <th>Unnamed: 0</th>\n",
              "      <th>date</th>\n",
              "      <th>content</th>\n",
              "    </tr>\n",
              "  </thead>\n",
              "  <tbody>\n",
              "    <tr>\n",
              "      <th>0</th>\n",
              "      <td>0</td>\n",
              "      <td>2020-12-30 05:25:55+00:00</td>\n",
              "      <td>It’s always fun to eavesdrop on church youth g...</td>\n",
              "    </tr>\n",
              "    <tr>\n",
              "      <th>1</th>\n",
              "      <td>1</td>\n",
              "      <td>2020-12-30 04:41:10+00:00</td>\n",
              "      <td>stopppp ruininggggg women</td>\n",
              "    </tr>\n",
              "    <tr>\n",
              "      <th>2</th>\n",
              "      <td>2</td>\n",
              "      <td>2020-12-30 03:47:38+00:00</td>\n",
              "      <td>Without really planning on it, most of the boo...</td>\n",
              "    </tr>\n",
              "    <tr>\n",
              "      <th>3</th>\n",
              "      <td>3</td>\n",
              "      <td>2020-12-26 04:31:20+00:00</td>\n",
              "      <td>I am starting to think there was a secret 14 m...</td>\n",
              "    </tr>\n",
              "    <tr>\n",
              "      <th>4</th>\n",
              "      <td>4</td>\n",
              "      <td>2020-12-25 03:24:05+00:00</td>\n",
              "      <td>The Ripper docu clearly telling us — women tha...</td>\n",
              "    </tr>\n",
              "  </tbody>\n",
              "</table>\n",
              "</div>"
            ],
            "text/plain": [
              "   Unnamed: 0  ...                                            content\n",
              "0           0  ...  It’s always fun to eavesdrop on church youth g...\n",
              "1           1  ...                          stopppp ruininggggg women\n",
              "2           2  ...  Without really planning on it, most of the boo...\n",
              "3           3  ...  I am starting to think there was a secret 14 m...\n",
              "4           4  ...  The Ripper docu clearly telling us — women tha...\n",
              "\n",
              "[5 rows x 3 columns]"
            ]
          },
          "metadata": {},
          "execution_count": 54
        }
      ]
    },
    {
      "cell_type": "code",
      "metadata": {
        "colab": {
          "base_uri": "https://localhost:8080/",
          "height": 203
        },
        "id": "rHd3bB9aCaSR",
        "outputId": "ff18a687-da3b-47cb-c6ef-6f65e3042fbd"
      },
      "source": [
        "df['clean_text_1'] = df['content'].apply(clean_text_round1)\n",
        "df.head()"
      ],
      "execution_count": null,
      "outputs": [
        {
          "output_type": "execute_result",
          "data": {
            "text/html": [
              "<div>\n",
              "<style scoped>\n",
              "    .dataframe tbody tr th:only-of-type {\n",
              "        vertical-align: middle;\n",
              "    }\n",
              "\n",
              "    .dataframe tbody tr th {\n",
              "        vertical-align: top;\n",
              "    }\n",
              "\n",
              "    .dataframe thead th {\n",
              "        text-align: right;\n",
              "    }\n",
              "</style>\n",
              "<table border=\"1\" class=\"dataframe\">\n",
              "  <thead>\n",
              "    <tr style=\"text-align: right;\">\n",
              "      <th></th>\n",
              "      <th>Unnamed: 0</th>\n",
              "      <th>date</th>\n",
              "      <th>content</th>\n",
              "      <th>clean_text_1</th>\n",
              "    </tr>\n",
              "  </thead>\n",
              "  <tbody>\n",
              "    <tr>\n",
              "      <th>0</th>\n",
              "      <td>0</td>\n",
              "      <td>2020-12-30 05:25:55+00:00</td>\n",
              "      <td>It’s always fun to eavesdrop on church youth g...</td>\n",
              "      <td>it’s always fun to eavesdrop on church youth g...</td>\n",
              "    </tr>\n",
              "    <tr>\n",
              "      <th>1</th>\n",
              "      <td>1</td>\n",
              "      <td>2020-12-30 04:41:10+00:00</td>\n",
              "      <td>stopppp ruininggggg women</td>\n",
              "      <td>stopppp ruininggggg women</td>\n",
              "    </tr>\n",
              "    <tr>\n",
              "      <th>2</th>\n",
              "      <td>2</td>\n",
              "      <td>2020-12-30 03:47:38+00:00</td>\n",
              "      <td>Without really planning on it, most of the boo...</td>\n",
              "      <td>without really planning on it most of the book...</td>\n",
              "    </tr>\n",
              "    <tr>\n",
              "      <th>3</th>\n",
              "      <td>3</td>\n",
              "      <td>2020-12-26 04:31:20+00:00</td>\n",
              "      <td>I am starting to think there was a secret 14 m...</td>\n",
              "      <td>i am starting to think there was a secret  men...</td>\n",
              "    </tr>\n",
              "    <tr>\n",
              "      <th>4</th>\n",
              "      <td>4</td>\n",
              "      <td>2020-12-25 03:24:05+00:00</td>\n",
              "      <td>The Ripper docu clearly telling us — women tha...</td>\n",
              "      <td>the ripper docu clearly telling us — women tha...</td>\n",
              "    </tr>\n",
              "  </tbody>\n",
              "</table>\n",
              "</div>"
            ],
            "text/plain": [
              "   Unnamed: 0  ...                                       clean_text_1\n",
              "0           0  ...  it’s always fun to eavesdrop on church youth g...\n",
              "1           1  ...                          stopppp ruininggggg women\n",
              "2           2  ...  without really planning on it most of the book...\n",
              "3           3  ...  i am starting to think there was a secret  men...\n",
              "4           4  ...  the ripper docu clearly telling us — women tha...\n",
              "\n",
              "[5 rows x 4 columns]"
            ]
          },
          "metadata": {},
          "execution_count": 55
        }
      ]
    },
    {
      "cell_type": "code",
      "metadata": {
        "colab": {
          "base_uri": "https://localhost:8080/",
          "height": 203
        },
        "id": "XkvjfXeWChTy",
        "outputId": "7cd084b5-9bb5-4b7b-ac7a-d620baea6993"
      },
      "source": [
        "df['clean_text_2'] = df['clean_text_1'].apply(clean_text_round2)\n",
        "df.head()"
      ],
      "execution_count": null,
      "outputs": [
        {
          "output_type": "execute_result",
          "data": {
            "text/html": [
              "<div>\n",
              "<style scoped>\n",
              "    .dataframe tbody tr th:only-of-type {\n",
              "        vertical-align: middle;\n",
              "    }\n",
              "\n",
              "    .dataframe tbody tr th {\n",
              "        vertical-align: top;\n",
              "    }\n",
              "\n",
              "    .dataframe thead th {\n",
              "        text-align: right;\n",
              "    }\n",
              "</style>\n",
              "<table border=\"1\" class=\"dataframe\">\n",
              "  <thead>\n",
              "    <tr style=\"text-align: right;\">\n",
              "      <th></th>\n",
              "      <th>Unnamed: 0</th>\n",
              "      <th>date</th>\n",
              "      <th>content</th>\n",
              "      <th>clean_text_1</th>\n",
              "      <th>clean_text_2</th>\n",
              "    </tr>\n",
              "  </thead>\n",
              "  <tbody>\n",
              "    <tr>\n",
              "      <th>0</th>\n",
              "      <td>0</td>\n",
              "      <td>2020-12-30 05:25:55+00:00</td>\n",
              "      <td>It’s always fun to eavesdrop on church youth g...</td>\n",
              "      <td>it’s always fun to eavesdrop on church youth g...</td>\n",
              "      <td>it’s always fun eavesdrop church youth groups ...</td>\n",
              "    </tr>\n",
              "    <tr>\n",
              "      <th>1</th>\n",
              "      <td>1</td>\n",
              "      <td>2020-12-30 04:41:10+00:00</td>\n",
              "      <td>stopppp ruininggggg women</td>\n",
              "      <td>stopppp ruininggggg women</td>\n",
              "      <td>stopppp ruininggggg women</td>\n",
              "    </tr>\n",
              "    <tr>\n",
              "      <th>2</th>\n",
              "      <td>2</td>\n",
              "      <td>2020-12-30 03:47:38+00:00</td>\n",
              "      <td>Without really planning on it, most of the boo...</td>\n",
              "      <td>without really planning on it most of the book...</td>\n",
              "      <td>without really planning books ive read year wo...</td>\n",
              "    </tr>\n",
              "    <tr>\n",
              "      <th>3</th>\n",
              "      <td>3</td>\n",
              "      <td>2020-12-26 04:31:20+00:00</td>\n",
              "      <td>I am starting to think there was a secret 14 m...</td>\n",
              "      <td>i am starting to think there was a secret  men...</td>\n",
              "      <td>starting think secret menwomen orgy mandarin o...</td>\n",
              "    </tr>\n",
              "    <tr>\n",
              "      <th>4</th>\n",
              "      <td>4</td>\n",
              "      <td>2020-12-25 03:24:05+00:00</td>\n",
              "      <td>The Ripper docu clearly telling us — women tha...</td>\n",
              "      <td>the ripper docu clearly telling us — women tha...</td>\n",
              "      <td>ripper docu clearly telling us — women men big...</td>\n",
              "    </tr>\n",
              "  </tbody>\n",
              "</table>\n",
              "</div>"
            ],
            "text/plain": [
              "   Unnamed: 0  ...                                       clean_text_2\n",
              "0           0  ...  it’s always fun eavesdrop church youth groups ...\n",
              "1           1  ...                          stopppp ruininggggg women\n",
              "2           2  ...  without really planning books ive read year wo...\n",
              "3           3  ...  starting think secret menwomen orgy mandarin o...\n",
              "4           4  ...  ripper docu clearly telling us — women men big...\n",
              "\n",
              "[5 rows x 5 columns]"
            ]
          },
          "metadata": {},
          "execution_count": 56
        }
      ]
    },
    {
      "cell_type": "code",
      "metadata": {
        "id": "Ts4FYtOXCo0P"
      },
      "source": [
        "womensg = count_words_from_dataframe(df)\n",
        "my_dict = womensg\n",
        "\n",
        "with open('word_counts/womensg_dict.csv', 'w') as f:\n",
        "  for key in my_dict.keys():\n",
        "    f.write(\"%s,%s\\n\"%(key,my_dict[key]))"
      ],
      "execution_count": null,
      "outputs": []
    },
    {
      "cell_type": "code",
      "metadata": {
        "colab": {
          "base_uri": "https://localhost:8080/",
          "height": 219
        },
        "id": "xmAQ-FBEC6N6",
        "outputId": "5f6f8630-c9c8-4aba-d5c2-6fc24a2365a4"
      },
      "source": [
        "brandname = \"womensg\"\n",
        "### We're using one of the utility function! \"read_word_count_file\"\n",
        "fullTermsDict = read_word_count_file(f'word_counts/womensg_dict.csv')\n",
        "outputfile = f\"./plot/wordcloud_count_unigram_{brandname}\"\n",
        "makeImage(fullTermsDict, outputfile)"
      ],
      "execution_count": null,
      "outputs": [
        {
          "output_type": "display_data",
          "data": {
            "image/png": "[encoded data removed]",
            "text/plain": [
              "<Figure size 432x288 with 1 Axes>"
            ]
          },
          "metadata": {
            "needs_background": "light"
          }
        }
      ]
    },
    {
      "cell_type": "markdown",
      "metadata": {
        "id": "KNxz9xjtDWJX"
      },
      "source": [
        "\"equal\""
      ]
    },
    {
      "cell_type": "code",
      "metadata": {
        "id": "Ton7BHbrDYcu"
      },
      "source": [
        "df_city = pd.DataFrame(itertools.islice(sntwitter.TwitterSearchScraper(\n",
        "    'equal near:\"Singapore\" within:10km lang:en since:'+  from_date + ' until:' + end_date + ' -filter:links -filter:replies -filter:retweets').get_items(), 10000))[['date', 'content']]"
      ],
      "execution_count": null,
      "outputs": []
    },
    {
      "cell_type": "code",
      "metadata": {
        "id": "heGcql_GFxrP"
      },
      "source": [
        "loc = '1.3521, 103.8198, 10km'\n",
        "df_coord = pd.DataFrame(itertools.islice(sntwitter.TwitterSearchScraper(\n",
        "    'equal geocode:\"{}\"'.format(loc) + 'lang:en since:' +  from_date + ' until:' + end_date + ' -filter:links -filter:replies -filter:retweets').get_items(), 10000))[['date', 'content']]"
      ],
      "execution_count": null,
      "outputs": []
    },
    {
      "cell_type": "code",
      "metadata": {
        "colab": {
          "base_uri": "https://localhost:8080/"
        },
        "id": "k7T5u0G4HlwR",
        "outputId": "044fd76a-2fe4-4dbc-ef49-ca87a8b1a241"
      },
      "source": [
        "print(df_city.shape)\n",
        "print(df_coord.shape)"
      ],
      "execution_count": null,
      "outputs": [
        {
          "output_type": "stream",
          "name": "stdout",
          "text": [
            "(29, 2)\n",
            "(115, 2)\n"
          ]
        }
      ]
    },
    {
      "cell_type": "code",
      "metadata": {
        "colab": {
          "base_uri": "https://localhost:8080/",
          "height": 220
        },
        "id": "fED5Ky3sHpcJ",
        "outputId": "32ec0330-b70d-438a-a64d-23c3b5b1e2a1"
      },
      "source": [
        "common_rows = df_coord.merge(df_city, how='inner')\n",
        "print(common_rows.shape)\n",
        "common_rows.head()"
      ],
      "execution_count": null,
      "outputs": [
        {
          "output_type": "stream",
          "name": "stdout",
          "text": [
            "(14, 2)\n"
          ]
        },
        {
          "output_type": "execute_result",
          "data": {
            "text/html": [
              "<div>\n",
              "<style scoped>\n",
              "    .dataframe tbody tr th:only-of-type {\n",
              "        vertical-align: middle;\n",
              "    }\n",
              "\n",
              "    .dataframe tbody tr th {\n",
              "        vertical-align: top;\n",
              "    }\n",
              "\n",
              "    .dataframe thead th {\n",
              "        text-align: right;\n",
              "    }\n",
              "</style>\n",
              "<table border=\"1\" class=\"dataframe\">\n",
              "  <thead>\n",
              "    <tr style=\"text-align: right;\">\n",
              "      <th></th>\n",
              "      <th>date</th>\n",
              "      <th>content</th>\n",
              "    </tr>\n",
              "  </thead>\n",
              "  <tbody>\n",
              "    <tr>\n",
              "      <th>0</th>\n",
              "      <td>2020-09-28 13:07:35+00:00</td>\n",
              "      <td>even if u wna say religion isnt equal to human...</td>\n",
              "    </tr>\n",
              "    <tr>\n",
              "      <th>1</th>\n",
              "      <td>2020-06-11 07:48:57+00:00</td>\n",
              "      <td>4 hours of Bollywood is like equal to 16episod...</td>\n",
              "    </tr>\n",
              "    <tr>\n",
              "      <th>2</th>\n",
              "      <td>2020-06-10 01:22:46+00:00</td>\n",
              "      <td>You say black lives matter, but segregate the ...</td>\n",
              "    </tr>\n",
              "    <tr>\n",
              "      <th>3</th>\n",
              "      <td>2020-06-02 13:05:23+00:00</td>\n",
              "      <td>I just hope that we will learn our lesson and ...</td>\n",
              "    </tr>\n",
              "    <tr>\n",
              "      <th>4</th>\n",
              "      <td>2020-04-16 12:18:53+00:00</td>\n",
              "      <td>ZOOM CALLS DON'T EQUAL PRODUCTIVITY\\nZOOM CALL...</td>\n",
              "    </tr>\n",
              "  </tbody>\n",
              "</table>\n",
              "</div>"
            ],
            "text/plain": [
              "                       date                                            content\n",
              "0 2020-09-28 13:07:35+00:00  even if u wna say religion isnt equal to human...\n",
              "1 2020-06-11 07:48:57+00:00  4 hours of Bollywood is like equal to 16episod...\n",
              "2 2020-06-10 01:22:46+00:00  You say black lives matter, but segregate the ...\n",
              "3 2020-06-02 13:05:23+00:00  I just hope that we will learn our lesson and ...\n",
              "4 2020-04-16 12:18:53+00:00  ZOOM CALLS DON'T EQUAL PRODUCTIVITY\\nZOOM CALL..."
            ]
          },
          "metadata": {},
          "execution_count": 62
        }
      ]
    },
    {
      "cell_type": "code",
      "metadata": {
        "id": "cak72KcEHt-_"
      },
      "source": [
        "common_rows.to_csv(f'equalsg_tweets.csv')"
      ],
      "execution_count": null,
      "outputs": []
    },
    {
      "cell_type": "code",
      "metadata": {
        "id": "OopoaZXYH8F2",
        "colab": {
          "base_uri": "https://localhost:8080/",
          "height": 220
        },
        "outputId": "a63ec5ec-17ee-42ec-d2eb-128951cf3b23"
      },
      "source": [
        "df = pd.read_csv('equalsg_tweets.csv')\n",
        "\n",
        "print(df.shape)\n",
        "df.head()"
      ],
      "execution_count": null,
      "outputs": [
        {
          "output_type": "stream",
          "name": "stdout",
          "text": [
            "(14, 3)\n"
          ]
        },
        {
          "output_type": "execute_result",
          "data": {
            "text/html": [
              "<div>\n",
              "<style scoped>\n",
              "    .dataframe tbody tr th:only-of-type {\n",
              "        vertical-align: middle;\n",
              "    }\n",
              "\n",
              "    .dataframe tbody tr th {\n",
              "        vertical-align: top;\n",
              "    }\n",
              "\n",
              "    .dataframe thead th {\n",
              "        text-align: right;\n",
              "    }\n",
              "</style>\n",
              "<table border=\"1\" class=\"dataframe\">\n",
              "  <thead>\n",
              "    <tr style=\"text-align: right;\">\n",
              "      <th></th>\n",
              "      <th>Unnamed: 0</th>\n",
              "      <th>date</th>\n",
              "      <th>content</th>\n",
              "    </tr>\n",
              "  </thead>\n",
              "  <tbody>\n",
              "    <tr>\n",
              "      <th>0</th>\n",
              "      <td>0</td>\n",
              "      <td>2020-09-28 13:07:35+00:00</td>\n",
              "      <td>even if u wna say religion isnt equal to human...</td>\n",
              "    </tr>\n",
              "    <tr>\n",
              "      <th>1</th>\n",
              "      <td>1</td>\n",
              "      <td>2020-06-11 07:48:57+00:00</td>\n",
              "      <td>4 hours of Bollywood is like equal to 16episod...</td>\n",
              "    </tr>\n",
              "    <tr>\n",
              "      <th>2</th>\n",
              "      <td>2</td>\n",
              "      <td>2020-06-10 01:22:46+00:00</td>\n",
              "      <td>You say black lives matter, but segregate the ...</td>\n",
              "    </tr>\n",
              "    <tr>\n",
              "      <th>3</th>\n",
              "      <td>3</td>\n",
              "      <td>2020-06-02 13:05:23+00:00</td>\n",
              "      <td>I just hope that we will learn our lesson and ...</td>\n",
              "    </tr>\n",
              "    <tr>\n",
              "      <th>4</th>\n",
              "      <td>4</td>\n",
              "      <td>2020-04-16 12:18:53+00:00</td>\n",
              "      <td>ZOOM CALLS DON'T EQUAL PRODUCTIVITY\\nZOOM CALL...</td>\n",
              "    </tr>\n",
              "  </tbody>\n",
              "</table>\n",
              "</div>"
            ],
            "text/plain": [
              "   Unnamed: 0  ...                                            content\n",
              "0           0  ...  even if u wna say religion isnt equal to human...\n",
              "1           1  ...  4 hours of Bollywood is like equal to 16episod...\n",
              "2           2  ...  You say black lives matter, but segregate the ...\n",
              "3           3  ...  I just hope that we will learn our lesson and ...\n",
              "4           4  ...  ZOOM CALLS DON'T EQUAL PRODUCTIVITY\\nZOOM CALL...\n",
              "\n",
              "[5 rows x 3 columns]"
            ]
          },
          "metadata": {},
          "execution_count": 64
        }
      ]
    },
    {
      "cell_type": "code",
      "metadata": {
        "id": "THNv6SR65NaG",
        "colab": {
          "base_uri": "https://localhost:8080/",
          "height": 203
        },
        "outputId": "9864ff85-413a-4b83-e931-99e2561ce52a"
      },
      "source": [
        "df['clean_text_1'] = df['content'].apply(clean_text_round1)\n",
        "df.head()"
      ],
      "execution_count": null,
      "outputs": [
        {
          "output_type": "execute_result",
          "data": {
            "text/html": [
              "<div>\n",
              "<style scoped>\n",
              "    .dataframe tbody tr th:only-of-type {\n",
              "        vertical-align: middle;\n",
              "    }\n",
              "\n",
              "    .dataframe tbody tr th {\n",
              "        vertical-align: top;\n",
              "    }\n",
              "\n",
              "    .dataframe thead th {\n",
              "        text-align: right;\n",
              "    }\n",
              "</style>\n",
              "<table border=\"1\" class=\"dataframe\">\n",
              "  <thead>\n",
              "    <tr style=\"text-align: right;\">\n",
              "      <th></th>\n",
              "      <th>Unnamed: 0</th>\n",
              "      <th>date</th>\n",
              "      <th>content</th>\n",
              "      <th>clean_text_1</th>\n",
              "    </tr>\n",
              "  </thead>\n",
              "  <tbody>\n",
              "    <tr>\n",
              "      <th>0</th>\n",
              "      <td>0</td>\n",
              "      <td>2020-09-28 13:07:35+00:00</td>\n",
              "      <td>even if u wna say religion isnt equal to human...</td>\n",
              "      <td>even if u wna say religion isnt equal to human...</td>\n",
              "    </tr>\n",
              "    <tr>\n",
              "      <th>1</th>\n",
              "      <td>1</td>\n",
              "      <td>2020-06-11 07:48:57+00:00</td>\n",
              "      <td>4 hours of Bollywood is like equal to 16episod...</td>\n",
              "      <td>hours of bollywood is like equal to  of kdrama 😂</td>\n",
              "    </tr>\n",
              "    <tr>\n",
              "      <th>2</th>\n",
              "      <td>2</td>\n",
              "      <td>2020-06-10 01:22:46+00:00</td>\n",
              "      <td>You say black lives matter, but segregate the ...</td>\n",
              "      <td>you say black lives matter but segregate the w...</td>\n",
              "    </tr>\n",
              "    <tr>\n",
              "      <th>3</th>\n",
              "      <td>3</td>\n",
              "      <td>2020-06-02 13:05:23+00:00</td>\n",
              "      <td>I just hope that we will learn our lesson and ...</td>\n",
              "      <td>i just hope that we will learn our lesson and ...</td>\n",
              "    </tr>\n",
              "    <tr>\n",
              "      <th>4</th>\n",
              "      <td>4</td>\n",
              "      <td>2020-04-16 12:18:53+00:00</td>\n",
              "      <td>ZOOM CALLS DON'T EQUAL PRODUCTIVITY\\nZOOM CALL...</td>\n",
              "      <td>zoom calls dont equal productivity\\nzoom calls...</td>\n",
              "    </tr>\n",
              "  </tbody>\n",
              "</table>\n",
              "</div>"
            ],
            "text/plain": [
              "   Unnamed: 0  ...                                       clean_text_1\n",
              "0           0  ...  even if u wna say religion isnt equal to human...\n",
              "1           1  ...   hours of bollywood is like equal to  of kdrama 😂\n",
              "2           2  ...  you say black lives matter but segregate the w...\n",
              "3           3  ...  i just hope that we will learn our lesson and ...\n",
              "4           4  ...  zoom calls dont equal productivity\\nzoom calls...\n",
              "\n",
              "[5 rows x 4 columns]"
            ]
          },
          "metadata": {},
          "execution_count": 65
        }
      ]
    },
    {
      "cell_type": "code",
      "metadata": {
        "id": "yKNOsc9N5RP0",
        "colab": {
          "base_uri": "https://localhost:8080/",
          "height": 203
        },
        "outputId": "e2a06175-3d49-486c-b95c-7b0a1626410f"
      },
      "source": [
        "df['clean_text_2'] = df['clean_text_1'].apply(clean_text_round2)\n",
        "df.head()"
      ],
      "execution_count": null,
      "outputs": [
        {
          "output_type": "execute_result",
          "data": {
            "text/html": [
              "<div>\n",
              "<style scoped>\n",
              "    .dataframe tbody tr th:only-of-type {\n",
              "        vertical-align: middle;\n",
              "    }\n",
              "\n",
              "    .dataframe tbody tr th {\n",
              "        vertical-align: top;\n",
              "    }\n",
              "\n",
              "    .dataframe thead th {\n",
              "        text-align: right;\n",
              "    }\n",
              "</style>\n",
              "<table border=\"1\" class=\"dataframe\">\n",
              "  <thead>\n",
              "    <tr style=\"text-align: right;\">\n",
              "      <th></th>\n",
              "      <th>Unnamed: 0</th>\n",
              "      <th>date</th>\n",
              "      <th>content</th>\n",
              "      <th>clean_text_1</th>\n",
              "      <th>clean_text_2</th>\n",
              "    </tr>\n",
              "  </thead>\n",
              "  <tbody>\n",
              "    <tr>\n",
              "      <th>0</th>\n",
              "      <td>0</td>\n",
              "      <td>2020-09-28 13:07:35+00:00</td>\n",
              "      <td>even if u wna say religion isnt equal to human...</td>\n",
              "      <td>even if u wna say religion isnt equal to human...</td>\n",
              "      <td>even u wna say religion isnt equal human right...</td>\n",
              "    </tr>\n",
              "    <tr>\n",
              "      <th>1</th>\n",
              "      <td>1</td>\n",
              "      <td>2020-06-11 07:48:57+00:00</td>\n",
              "      <td>4 hours of Bollywood is like equal to 16episod...</td>\n",
              "      <td>hours of bollywood is like equal to  of kdrama 😂</td>\n",
              "      <td>hours bollywood like equal kdrama 😂</td>\n",
              "    </tr>\n",
              "    <tr>\n",
              "      <th>2</th>\n",
              "      <td>2</td>\n",
              "      <td>2020-06-10 01:22:46+00:00</td>\n",
              "      <td>You say black lives matter, but segregate the ...</td>\n",
              "      <td>you say black lives matter but segregate the w...</td>\n",
              "      <td>say black lives matter segregate handouts thin...</td>\n",
              "    </tr>\n",
              "    <tr>\n",
              "      <th>3</th>\n",
              "      <td>3</td>\n",
              "      <td>2020-06-02 13:05:23+00:00</td>\n",
              "      <td>I just hope that we will learn our lesson and ...</td>\n",
              "      <td>i just hope that we will learn our lesson and ...</td>\n",
              "      <td>hope learn lesson acknowledge equal children e...</td>\n",
              "    </tr>\n",
              "    <tr>\n",
              "      <th>4</th>\n",
              "      <td>4</td>\n",
              "      <td>2020-04-16 12:18:53+00:00</td>\n",
              "      <td>ZOOM CALLS DON'T EQUAL PRODUCTIVITY\\nZOOM CALL...</td>\n",
              "      <td>zoom calls dont equal productivity\\nzoom calls...</td>\n",
              "      <td>zoom calls dont equal productivity zoom calls ...</td>\n",
              "    </tr>\n",
              "  </tbody>\n",
              "</table>\n",
              "</div>"
            ],
            "text/plain": [
              "   Unnamed: 0  ...                                       clean_text_2\n",
              "0           0  ...  even u wna say religion isnt equal human right...\n",
              "1           1  ...                hours bollywood like equal kdrama 😂\n",
              "2           2  ...  say black lives matter segregate handouts thin...\n",
              "3           3  ...  hope learn lesson acknowledge equal children e...\n",
              "4           4  ...  zoom calls dont equal productivity zoom calls ...\n",
              "\n",
              "[5 rows x 5 columns]"
            ]
          },
          "metadata": {},
          "execution_count": 66
        }
      ]
    },
    {
      "cell_type": "code",
      "metadata": {
        "id": "OumNtktw5YYI"
      },
      "source": [
        "equalsg = count_words_from_dataframe(df)\n",
        "my_dict = equalsg\n",
        "\n",
        "with open('word_counts/equalsg_dict.csv', 'w') as f:\n",
        "  for key in my_dict.keys():\n",
        "    f.write(\"%s,%s\\n\"%(key,my_dict[key]))"
      ],
      "execution_count": null,
      "outputs": []
    },
    {
      "cell_type": "code",
      "metadata": {
        "id": "R2jOlKp95e14",
        "colab": {
          "base_uri": "https://localhost:8080/",
          "height": 219
        },
        "outputId": "1b4b9a64-522b-4540-d785-d6ea04bc7d9a"
      },
      "source": [
        "brandname = \"equalsg\"\n",
        "### We're using one of the utility function! \"read_word_count_file\"\n",
        "fullTermsDict = read_word_count_file(f'word_counts/equalsg_dict.csv')\n",
        "outputfile = f\"./plot/wordcloud_count_unigram_{brandname}\"\n",
        "makeImage(fullTermsDict, outputfile)"
      ],
      "execution_count": null,
      "outputs": [
        {
          "output_type": "display_data",
          "data": {
            "image/png": "[encoded data removed]",
            "text/plain": [
              "<Figure size 432x288 with 1 Axes>"
            ]
          },
          "metadata": {
            "needs_background": "light"
          }
        }
      ]
    },
    {
      "cell_type": "markdown",
      "metadata": {
        "id": "4Q2v5_4O56rr"
      },
      "source": [
        "\"men\""
      ]
    },
    {
      "cell_type": "code",
      "metadata": {
        "id": "LUo5IhRr57up"
      },
      "source": [
        "df_city = pd.DataFrame(itertools.islice(sntwitter.TwitterSearchScraper(\n",
        "    'men near:\"Singapore\" within:10km lang:en since:'+  from_date + ' until:' + end_date + ' -filter:links -filter:replies -filter:retweets').get_items(), 10000))[['date', 'content']]"
      ],
      "execution_count": null,
      "outputs": []
    },
    {
      "cell_type": "code",
      "metadata": {
        "id": "xm-4qkBy81B0"
      },
      "source": [
        "loc = '1.3521, 103.8198, 10km'\n",
        "df_coord = pd.DataFrame(itertools.islice(sntwitter.TwitterSearchScraper(\n",
        "    'men geocode:\"{}\"'.format(loc) + 'lang:en since:' +  from_date + ' until:' + end_date + ' -filter:links -filter:replies -filter:retweets').get_items(), 10000))[['date', 'content']]"
      ],
      "execution_count": null,
      "outputs": []
    },
    {
      "cell_type": "code",
      "metadata": {
        "id": "y9ekEq-A-lvu",
        "colab": {
          "base_uri": "https://localhost:8080/"
        },
        "outputId": "dc886a43-0a23-4773-c253-9f541d59ad2a"
      },
      "source": [
        "print(df_city.shape)\n",
        "print(df_coord.shape)"
      ],
      "execution_count": null,
      "outputs": [
        {
          "output_type": "stream",
          "name": "stdout",
          "text": [
            "(678, 2)\n",
            "(1513, 2)\n"
          ]
        }
      ]
    },
    {
      "cell_type": "code",
      "metadata": {
        "id": "0fxUEpXz-pCx",
        "colab": {
          "base_uri": "https://localhost:8080/",
          "height": 220
        },
        "outputId": "c4b1fe17-a0c4-4f19-8e62-0184a5eaa3fd"
      },
      "source": [
        "common_rows = df_coord.merge(df_city, how='inner')\n",
        "print(common_rows.shape)\n",
        "common_rows.head()"
      ],
      "execution_count": null,
      "outputs": [
        {
          "output_type": "stream",
          "name": "stdout",
          "text": [
            "(489, 2)\n"
          ]
        },
        {
          "output_type": "execute_result",
          "data": {
            "text/html": [
              "<div>\n",
              "<style scoped>\n",
              "    .dataframe tbody tr th:only-of-type {\n",
              "        vertical-align: middle;\n",
              "    }\n",
              "\n",
              "    .dataframe tbody tr th {\n",
              "        vertical-align: top;\n",
              "    }\n",
              "\n",
              "    .dataframe thead th {\n",
              "        text-align: right;\n",
              "    }\n",
              "</style>\n",
              "<table border=\"1\" class=\"dataframe\">\n",
              "  <thead>\n",
              "    <tr style=\"text-align: right;\">\n",
              "      <th></th>\n",
              "      <th>date</th>\n",
              "      <th>content</th>\n",
              "    </tr>\n",
              "  </thead>\n",
              "  <tbody>\n",
              "    <tr>\n",
              "      <th>0</th>\n",
              "      <td>2020-12-30 04:40:43+00:00</td>\n",
              "      <td>i would spend my last $5 on men but they would...</td>\n",
              "    </tr>\n",
              "    <tr>\n",
              "      <th>1</th>\n",
              "      <td>2020-12-30 04:38:12+00:00</td>\n",
              "      <td>ive wasted alot of money trying to support men...</td>\n",
              "    </tr>\n",
              "    <tr>\n",
              "      <th>2</th>\n",
              "      <td>2020-12-30 04:37:35+00:00</td>\n",
              "      <td>i need to stop spending my money on men</td>\n",
              "    </tr>\n",
              "    <tr>\n",
              "      <th>3</th>\n",
              "      <td>2020-12-30 01:56:02+00:00</td>\n",
              "      <td>Just came to my mind: Why is it ok for @TheEll...</td>\n",
              "    </tr>\n",
              "    <tr>\n",
              "      <th>4</th>\n",
              "      <td>2020-12-26 15:28:04+00:00</td>\n",
              "      <td>Does anyone knows where I can get mens jumpsuit?</td>\n",
              "    </tr>\n",
              "  </tbody>\n",
              "</table>\n",
              "</div>"
            ],
            "text/plain": [
              "                       date                                            content\n",
              "0 2020-12-30 04:40:43+00:00  i would spend my last $5 on men but they would...\n",
              "1 2020-12-30 04:38:12+00:00  ive wasted alot of money trying to support men...\n",
              "2 2020-12-30 04:37:35+00:00            i need to stop spending my money on men\n",
              "3 2020-12-30 01:56:02+00:00  Just came to my mind: Why is it ok for @TheEll...\n",
              "4 2020-12-26 15:28:04+00:00   Does anyone knows where I can get mens jumpsuit?"
            ]
          },
          "metadata": {},
          "execution_count": 72
        }
      ]
    },
    {
      "cell_type": "code",
      "metadata": {
        "id": "_o9H5rHf-vy8"
      },
      "source": [
        "common_rows.to_csv(f'mensg_tweets.csv')"
      ],
      "execution_count": null,
      "outputs": []
    },
    {
      "cell_type": "code",
      "metadata": {
        "id": "v_BirPjv-29s",
        "colab": {
          "base_uri": "https://localhost:8080/",
          "height": 220
        },
        "outputId": "cfa14c44-7751-42a3-fa08-34d33ad61f81"
      },
      "source": [
        "df = pd.read_csv('mensg_tweets.csv')\n",
        "\n",
        "print(df.shape)\n",
        "df.head()"
      ],
      "execution_count": null,
      "outputs": [
        {
          "output_type": "stream",
          "name": "stdout",
          "text": [
            "(489, 3)\n"
          ]
        },
        {
          "output_type": "execute_result",
          "data": {
            "text/html": [
              "<div>\n",
              "<style scoped>\n",
              "    .dataframe tbody tr th:only-of-type {\n",
              "        vertical-align: middle;\n",
              "    }\n",
              "\n",
              "    .dataframe tbody tr th {\n",
              "        vertical-align: top;\n",
              "    }\n",
              "\n",
              "    .dataframe thead th {\n",
              "        text-align: right;\n",
              "    }\n",
              "</style>\n",
              "<table border=\"1\" class=\"dataframe\">\n",
              "  <thead>\n",
              "    <tr style=\"text-align: right;\">\n",
              "      <th></th>\n",
              "      <th>Unnamed: 0</th>\n",
              "      <th>date</th>\n",
              "      <th>content</th>\n",
              "    </tr>\n",
              "  </thead>\n",
              "  <tbody>\n",
              "    <tr>\n",
              "      <th>0</th>\n",
              "      <td>0</td>\n",
              "      <td>2020-12-30 04:40:43+00:00</td>\n",
              "      <td>i would spend my last $5 on men but they would...</td>\n",
              "    </tr>\n",
              "    <tr>\n",
              "      <th>1</th>\n",
              "      <td>1</td>\n",
              "      <td>2020-12-30 04:38:12+00:00</td>\n",
              "      <td>ive wasted alot of money trying to support men...</td>\n",
              "    </tr>\n",
              "    <tr>\n",
              "      <th>2</th>\n",
              "      <td>2</td>\n",
              "      <td>2020-12-30 04:37:35+00:00</td>\n",
              "      <td>i need to stop spending my money on men</td>\n",
              "    </tr>\n",
              "    <tr>\n",
              "      <th>3</th>\n",
              "      <td>3</td>\n",
              "      <td>2020-12-30 01:56:02+00:00</td>\n",
              "      <td>Just came to my mind: Why is it ok for @TheEll...</td>\n",
              "    </tr>\n",
              "    <tr>\n",
              "      <th>4</th>\n",
              "      <td>4</td>\n",
              "      <td>2020-12-26 15:28:04+00:00</td>\n",
              "      <td>Does anyone knows where I can get mens jumpsuit?</td>\n",
              "    </tr>\n",
              "  </tbody>\n",
              "</table>\n",
              "</div>"
            ],
            "text/plain": [
              "   Unnamed: 0  ...                                            content\n",
              "0           0  ...  i would spend my last $5 on men but they would...\n",
              "1           1  ...  ive wasted alot of money trying to support men...\n",
              "2           2  ...            i need to stop spending my money on men\n",
              "3           3  ...  Just came to my mind: Why is it ok for @TheEll...\n",
              "4           4  ...   Does anyone knows where I can get mens jumpsuit?\n",
              "\n",
              "[5 rows x 3 columns]"
            ]
          },
          "metadata": {},
          "execution_count": 74
        }
      ]
    },
    {
      "cell_type": "code",
      "metadata": {
        "id": "knl2mBe7--HU",
        "colab": {
          "base_uri": "https://localhost:8080/",
          "height": 203
        },
        "outputId": "386ac67d-7146-4550-bd81-b7dd65125b5b"
      },
      "source": [
        "df['clean_text_1'] = df['content'].apply(clean_text_round1)\n",
        "df.head()"
      ],
      "execution_count": null,
      "outputs": [
        {
          "output_type": "execute_result",
          "data": {
            "text/html": [
              "<div>\n",
              "<style scoped>\n",
              "    .dataframe tbody tr th:only-of-type {\n",
              "        vertical-align: middle;\n",
              "    }\n",
              "\n",
              "    .dataframe tbody tr th {\n",
              "        vertical-align: top;\n",
              "    }\n",
              "\n",
              "    .dataframe thead th {\n",
              "        text-align: right;\n",
              "    }\n",
              "</style>\n",
              "<table border=\"1\" class=\"dataframe\">\n",
              "  <thead>\n",
              "    <tr style=\"text-align: right;\">\n",
              "      <th></th>\n",
              "      <th>Unnamed: 0</th>\n",
              "      <th>date</th>\n",
              "      <th>content</th>\n",
              "      <th>clean_text_1</th>\n",
              "    </tr>\n",
              "  </thead>\n",
              "  <tbody>\n",
              "    <tr>\n",
              "      <th>0</th>\n",
              "      <td>0</td>\n",
              "      <td>2020-12-30 04:40:43+00:00</td>\n",
              "      <td>i would spend my last $5 on men but they would...</td>\n",
              "      <td>i would spend my last  on men but they wouldnt...</td>\n",
              "    </tr>\n",
              "    <tr>\n",
              "      <th>1</th>\n",
              "      <td>1</td>\n",
              "      <td>2020-12-30 04:38:12+00:00</td>\n",
              "      <td>ive wasted alot of money trying to support men...</td>\n",
              "      <td>ive wasted alot of money trying to support men...</td>\n",
              "    </tr>\n",
              "    <tr>\n",
              "      <th>2</th>\n",
              "      <td>2</td>\n",
              "      <td>2020-12-30 04:37:35+00:00</td>\n",
              "      <td>i need to stop spending my money on men</td>\n",
              "      <td>i need to stop spending my money on men</td>\n",
              "    </tr>\n",
              "    <tr>\n",
              "      <th>3</th>\n",
              "      <td>3</td>\n",
              "      <td>2020-12-30 01:56:02+00:00</td>\n",
              "      <td>Just came to my mind: Why is it ok for @TheEll...</td>\n",
              "      <td>just came to my mind why is it ok for theellen...</td>\n",
              "    </tr>\n",
              "    <tr>\n",
              "      <th>4</th>\n",
              "      <td>4</td>\n",
              "      <td>2020-12-26 15:28:04+00:00</td>\n",
              "      <td>Does anyone knows where I can get mens jumpsuit?</td>\n",
              "      <td>does anyone knows where i can get mens jumpsuit</td>\n",
              "    </tr>\n",
              "  </tbody>\n",
              "</table>\n",
              "</div>"
            ],
            "text/plain": [
              "   Unnamed: 0  ...                                       clean_text_1\n",
              "0           0  ...  i would spend my last  on men but they wouldnt...\n",
              "1           1  ...  ive wasted alot of money trying to support men...\n",
              "2           2  ...            i need to stop spending my money on men\n",
              "3           3  ...  just came to my mind why is it ok for theellen...\n",
              "4           4  ...    does anyone knows where i can get mens jumpsuit\n",
              "\n",
              "[5 rows x 4 columns]"
            ]
          },
          "metadata": {},
          "execution_count": 75
        }
      ]
    },
    {
      "cell_type": "code",
      "metadata": {
        "id": "zJNA7jCX_CWY",
        "colab": {
          "base_uri": "https://localhost:8080/",
          "height": 203
        },
        "outputId": "1bcf8bbb-3e12-4c2f-9113-42a76d51d619"
      },
      "source": [
        "df['clean_text_2'] = df['clean_text_1'].apply(clean_text_round2)\n",
        "df.head()"
      ],
      "execution_count": null,
      "outputs": [
        {
          "output_type": "execute_result",
          "data": {
            "text/html": [
              "<div>\n",
              "<style scoped>\n",
              "    .dataframe tbody tr th:only-of-type {\n",
              "        vertical-align: middle;\n",
              "    }\n",
              "\n",
              "    .dataframe tbody tr th {\n",
              "        vertical-align: top;\n",
              "    }\n",
              "\n",
              "    .dataframe thead th {\n",
              "        text-align: right;\n",
              "    }\n",
              "</style>\n",
              "<table border=\"1\" class=\"dataframe\">\n",
              "  <thead>\n",
              "    <tr style=\"text-align: right;\">\n",
              "      <th></th>\n",
              "      <th>Unnamed: 0</th>\n",
              "      <th>date</th>\n",
              "      <th>content</th>\n",
              "      <th>clean_text_1</th>\n",
              "      <th>clean_text_2</th>\n",
              "    </tr>\n",
              "  </thead>\n",
              "  <tbody>\n",
              "    <tr>\n",
              "      <th>0</th>\n",
              "      <td>0</td>\n",
              "      <td>2020-12-30 04:40:43+00:00</td>\n",
              "      <td>i would spend my last $5 on men but they would...</td>\n",
              "      <td>i would spend my last  on men but they wouldnt...</td>\n",
              "      <td>would spend last men wouldnt piece shit</td>\n",
              "    </tr>\n",
              "    <tr>\n",
              "      <th>1</th>\n",
              "      <td>1</td>\n",
              "      <td>2020-12-30 04:38:12+00:00</td>\n",
              "      <td>ive wasted alot of money trying to support men...</td>\n",
              "      <td>ive wasted alot of money trying to support men...</td>\n",
              "      <td>ive wasted alot money trying support men bc fk...</td>\n",
              "    </tr>\n",
              "    <tr>\n",
              "      <th>2</th>\n",
              "      <td>2</td>\n",
              "      <td>2020-12-30 04:37:35+00:00</td>\n",
              "      <td>i need to stop spending my money on men</td>\n",
              "      <td>i need to stop spending my money on men</td>\n",
              "      <td>need stop spending money men</td>\n",
              "    </tr>\n",
              "    <tr>\n",
              "      <th>3</th>\n",
              "      <td>3</td>\n",
              "      <td>2020-12-30 01:56:02+00:00</td>\n",
              "      <td>Just came to my mind: Why is it ok for @TheEll...</td>\n",
              "      <td>just came to my mind why is it ok for theellen...</td>\n",
              "      <td>came mind ok theellenshow objectify men isn’t ...</td>\n",
              "    </tr>\n",
              "    <tr>\n",
              "      <th>4</th>\n",
              "      <td>4</td>\n",
              "      <td>2020-12-26 15:28:04+00:00</td>\n",
              "      <td>Does anyone knows where I can get mens jumpsuit?</td>\n",
              "      <td>does anyone knows where i can get mens jumpsuit</td>\n",
              "      <td>anyone knows get mens jumpsuit</td>\n",
              "    </tr>\n",
              "  </tbody>\n",
              "</table>\n",
              "</div>"
            ],
            "text/plain": [
              "   Unnamed: 0  ...                                       clean_text_2\n",
              "0           0  ...            would spend last men wouldnt piece shit\n",
              "1           1  ...  ive wasted alot money trying support men bc fk...\n",
              "2           2  ...                       need stop spending money men\n",
              "3           3  ...  came mind ok theellenshow objectify men isn’t ...\n",
              "4           4  ...                     anyone knows get mens jumpsuit\n",
              "\n",
              "[5 rows x 5 columns]"
            ]
          },
          "metadata": {},
          "execution_count": 76
        }
      ]
    },
    {
      "cell_type": "code",
      "metadata": {
        "id": "LtPIVOEi_McO"
      },
      "source": [
        "mensg = count_words_from_dataframe(df)\n",
        "my_dict = mensg\n",
        "\n",
        "with open('word_counts/mensg_dict.csv', 'w') as f:\n",
        "  for key in my_dict.keys():\n",
        "    f.write(\"%s,%s\\n\"%(key,my_dict[key]))"
      ],
      "execution_count": null,
      "outputs": []
    },
    {
      "cell_type": "code",
      "metadata": {
        "id": "jX953CfX_ReS",
        "colab": {
          "base_uri": "https://localhost:8080/",
          "height": 219
        },
        "outputId": "9768ad54-27c2-41d4-97a9-69173cfc91ab"
      },
      "source": [
        "brandname = \"mensg\"\n",
        "### We're using one of the utility function! \"read_word_count_file\"\n",
        "fullTermsDict = read_word_count_file(f'word_counts/mensg_dict.csv')\n",
        "outputfile = f\"./plot/wordcloud_count_unigram_{brandname}\"\n",
        "makeImage(fullTermsDict, outputfile)"
      ],
      "execution_count": null,
      "outputs": [
        {
          "output_type": "display_data",
          "data": {
            "image/png": "[encoded data removed]",
            "text/plain": [
              "<Figure size 432x288 with 1 Axes>"
            ]
          },
          "metadata": {
            "needs_background": "light"
          }
        }
      ]
    },
    {
      "cell_type": "markdown",
      "metadata": {
        "id": "11pE8sOEq-oW"
      },
      "source": [
        "Log Odds"
      ]
    },
    {
      "cell_type": "code",
      "metadata": {
        "colab": {
          "base_uri": "https://localhost:8080/"
        },
        "id": "30UidzEoJARP",
        "outputId": "9d41975c-e910-4f8f-c007-555fedf92727"
      },
      "source": [
        "### Let's download ```smt203util.py``` Below code should download the file in the same folder where your jupyter notebook is. \n",
        "!wget https://raw.githubusercontent.com/anjisun221/css_codes/main/ay21t1/Lab03_text_analysis/smt203util.py"
      ],
      "execution_count": null,
      "outputs": [
        {
          "output_type": "stream",
          "name": "stdout",
          "text": [
            "--2021-10-22 15:51:32--  https://raw.githubusercontent.com/anjisun221/css_codes/main/ay21t1/Lab03_text_analysis/smt203util.py\n",
            "Resolving raw.githubusercontent.com (raw.githubusercontent.com)... 185.199.108.133, 185.199.109.133, 185.199.110.133, ...\n",
            "Connecting to raw.githubusercontent.com (raw.githubusercontent.com)|185.199.108.133|:443... connected.\n",
            "HTTP request sent, awaiting response... 200 OK\n",
            "Length: 3034 (3.0K) [text/plain]\n",
            "Saving to: ‘smt203util.py.3’\n",
            "\n",
            "\rsmt203util.py.3       0%[                    ]       0  --.-KB/s               \rsmt203util.py.3     100%[===================>]   2.96K  --.-KB/s    in 0.001s  \n",
            "\n",
            "2021-10-22 15:51:32 (2.92 MB/s) - ‘smt203util.py.3’ saved [3034/3034]\n",
            "\n"
          ]
        }
      ]
    },
    {
      "cell_type": "code",
      "metadata": {
        "id": "QijLaVxiJD2h"
      },
      "source": [
        "from smt203util import *"
      ],
      "execution_count": null,
      "outputs": []
    },
    {
      "cell_type": "markdown",
      "metadata": {
        "id": "YUB9rt_aJK8t"
      },
      "source": [
        "Read mcdonalds CSV"
      ]
    },
    {
      "cell_type": "code",
      "metadata": {
        "colab": {
          "base_uri": "https://localhost:8080/",
          "height": 220
        },
        "id": "afWZIM3mJNBD",
        "outputId": "950d47a8-1f53-4461-e776-ce8171febcae"
      },
      "source": [
        "df = pd.read_csv('./womensg_tweets.csv')\n",
        "\n",
        "print(df.shape)\n",
        "df.head()"
      ],
      "execution_count": null,
      "outputs": [
        {
          "output_type": "stream",
          "name": "stdout",
          "text": [
            "(276, 3)\n"
          ]
        },
        {
          "output_type": "execute_result",
          "data": {
            "text/html": [
              "<div>\n",
              "<style scoped>\n",
              "    .dataframe tbody tr th:only-of-type {\n",
              "        vertical-align: middle;\n",
              "    }\n",
              "\n",
              "    .dataframe tbody tr th {\n",
              "        vertical-align: top;\n",
              "    }\n",
              "\n",
              "    .dataframe thead th {\n",
              "        text-align: right;\n",
              "    }\n",
              "</style>\n",
              "<table border=\"1\" class=\"dataframe\">\n",
              "  <thead>\n",
              "    <tr style=\"text-align: right;\">\n",
              "      <th></th>\n",
              "      <th>Unnamed: 0</th>\n",
              "      <th>date</th>\n",
              "      <th>content</th>\n",
              "    </tr>\n",
              "  </thead>\n",
              "  <tbody>\n",
              "    <tr>\n",
              "      <th>0</th>\n",
              "      <td>0</td>\n",
              "      <td>2020-12-30 05:25:55+00:00</td>\n",
              "      <td>It’s always fun to eavesdrop on church youth g...</td>\n",
              "    </tr>\n",
              "    <tr>\n",
              "      <th>1</th>\n",
              "      <td>1</td>\n",
              "      <td>2020-12-30 04:41:10+00:00</td>\n",
              "      <td>stopppp ruininggggg women</td>\n",
              "    </tr>\n",
              "    <tr>\n",
              "      <th>2</th>\n",
              "      <td>2</td>\n",
              "      <td>2020-12-30 03:47:38+00:00</td>\n",
              "      <td>Without really planning on it, most of the boo...</td>\n",
              "    </tr>\n",
              "    <tr>\n",
              "      <th>3</th>\n",
              "      <td>3</td>\n",
              "      <td>2020-12-26 04:31:20+00:00</td>\n",
              "      <td>I am starting to think there was a secret 14 m...</td>\n",
              "    </tr>\n",
              "    <tr>\n",
              "      <th>4</th>\n",
              "      <td>4</td>\n",
              "      <td>2020-12-25 03:24:05+00:00</td>\n",
              "      <td>The Ripper docu clearly telling us — women tha...</td>\n",
              "    </tr>\n",
              "  </tbody>\n",
              "</table>\n",
              "</div>"
            ],
            "text/plain": [
              "   Unnamed: 0  ...                                            content\n",
              "0           0  ...  It’s always fun to eavesdrop on church youth g...\n",
              "1           1  ...                          stopppp ruininggggg women\n",
              "2           2  ...  Without really planning on it, most of the boo...\n",
              "3           3  ...  I am starting to think there was a secret 14 m...\n",
              "4           4  ...  The Ripper docu clearly telling us — women tha...\n",
              "\n",
              "[5 rows x 3 columns]"
            ]
          },
          "metadata": {},
          "execution_count": 86
        }
      ]
    },
    {
      "cell_type": "code",
      "metadata": {
        "id": "RgadxsaSJrQY",
        "colab": {
          "base_uri": "https://localhost:8080/",
          "height": 203
        },
        "outputId": "001c332b-fa7e-480d-f887-53c0ce312a1c"
      },
      "source": [
        "pd.set_option('display.max_colwidth', 150)\n",
        "df.head()"
      ],
      "execution_count": null,
      "outputs": [
        {
          "output_type": "execute_result",
          "data": {
            "text/html": [
              "<div>\n",
              "<style scoped>\n",
              "    .dataframe tbody tr th:only-of-type {\n",
              "        vertical-align: middle;\n",
              "    }\n",
              "\n",
              "    .dataframe tbody tr th {\n",
              "        vertical-align: top;\n",
              "    }\n",
              "\n",
              "    .dataframe thead th {\n",
              "        text-align: right;\n",
              "    }\n",
              "</style>\n",
              "<table border=\"1\" class=\"dataframe\">\n",
              "  <thead>\n",
              "    <tr style=\"text-align: right;\">\n",
              "      <th></th>\n",
              "      <th>Unnamed: 0</th>\n",
              "      <th>date</th>\n",
              "      <th>content</th>\n",
              "    </tr>\n",
              "  </thead>\n",
              "  <tbody>\n",
              "    <tr>\n",
              "      <th>0</th>\n",
              "      <td>0</td>\n",
              "      <td>2020-12-30 05:25:55+00:00</td>\n",
              "      <td>It’s always fun to eavesdrop on church youth groups having lunch discussions at the food court. Today’s discussion involved 4 youths (3F, 1M) disc...</td>\n",
              "    </tr>\n",
              "    <tr>\n",
              "      <th>1</th>\n",
              "      <td>1</td>\n",
              "      <td>2020-12-30 04:41:10+00:00</td>\n",
              "      <td>stopppp ruininggggg women</td>\n",
              "    </tr>\n",
              "    <tr>\n",
              "      <th>2</th>\n",
              "      <td>2</td>\n",
              "      <td>2020-12-30 03:47:38+00:00</td>\n",
              "      <td>Without really planning on it, most of the books I've read this year have been by women authors, specifically BIPOC authors, and subsequently my l...</td>\n",
              "    </tr>\n",
              "    <tr>\n",
              "      <th>3</th>\n",
              "      <td>3</td>\n",
              "      <td>2020-12-26 04:31:20+00:00</td>\n",
              "      <td>I am starting to think there was a secret 14 men/women orgy at Mandarin Orchard</td>\n",
              "    </tr>\n",
              "    <tr>\n",
              "      <th>4</th>\n",
              "      <td>4</td>\n",
              "      <td>2020-12-25 03:24:05+00:00</td>\n",
              "      <td>The Ripper docu clearly telling us — women that most men are bigots and misogynists 🤡</td>\n",
              "    </tr>\n",
              "  </tbody>\n",
              "</table>\n",
              "</div>"
            ],
            "text/plain": [
              "   Unnamed: 0  ...                                                                                                                                                content\n",
              "0           0  ...  It’s always fun to eavesdrop on church youth groups having lunch discussions at the food court. Today’s discussion involved 4 youths (3F, 1M) disc...\n",
              "1           1  ...                                                                                                                              stopppp ruininggggg women\n",
              "2           2  ...  Without really planning on it, most of the books I've read this year have been by women authors, specifically BIPOC authors, and subsequently my l...\n",
              "3           3  ...                                                                        I am starting to think there was a secret 14 men/women orgy at Mandarin Orchard\n",
              "4           4  ...                                                                  The Ripper docu clearly telling us — women that most men are bigots and misogynists 🤡\n",
              "\n",
              "[5 rows x 3 columns]"
            ]
          },
          "metadata": {},
          "execution_count": 87
        }
      ]
    },
    {
      "cell_type": "markdown",
      "metadata": {
        "id": "FzynJkx8J1aw"
      },
      "source": [
        "Cleaning the Data"
      ]
    },
    {
      "cell_type": "code",
      "metadata": {
        "id": "4WKRwibiJ2_j"
      },
      "source": [
        "import re \n",
        "import string\n",
        "\n",
        "def clean_text_round1(text):\n",
        "    '''Make text lowercase, remove punctuation and words containing numbers and urls.'''\n",
        "    text = text.lower()\n",
        "    text = re.sub('[%s]' % re.escape(string.punctuation), '', text)\n",
        "    text = re.sub('\\w*\\d\\w*', '', text)\n",
        "    text = re.sub('^https?:\\/\\/.*[\\r\\n]*', '', text)\n",
        "    return text"
      ],
      "execution_count": null,
      "outputs": []
    },
    {
      "cell_type": "code",
      "metadata": {
        "id": "mETJA-WVtqga"
      },
      "source": [
        "def parseTweet(search_words):\n",
        "    infilename = f\"{mypath}/tweets_{search_words}.jsons\"\n",
        "    outfilename = f\"{mypath}/simple_search_tweets_{search_words}.tsv\" \n",
        "    with open(infilename) as fi, open(outfilename, 'w') as output:\n",
        "        # Write header in the file to load the file into dataframe\n",
        "        output.write(\"\\t\".join(['tweetid', 'user_screen_name', 'created_at', 'text'])+\"\\n\")\n",
        "\n",
        "        for line_cnt, line in enumerate(fi):\n",
        "            try:\n",
        "                tweet = json.loads(line.strip())\n",
        "            except: # The last json is not complate \n",
        "                continue\n",
        "\n",
        "            if 'limit' in tweet:\n",
        "                continue\n",
        "\n",
        "            tweetid = tweet['id']\n",
        "\n",
        "            created_at = tweet['created_at']\n",
        "            user_screen_name = tweet['user']['screen_name']\n",
        "\n",
        "            text = tweet['text']\n",
        "\n",
        "            text = \" \".join(text.split())\n",
        "\n",
        "            output.write(\"\\t\".join([str(tweetid), user_screen_name, created_at, text])+\"\\n\")"
      ],
      "execution_count": null,
      "outputs": []
    },
    {
      "cell_type": "code",
      "metadata": {
        "id": "03CxHRdvKRbL",
        "colab": {
          "base_uri": "https://localhost:8080/",
          "height": 559
        },
        "outputId": "f654f00a-c5b3-4c6a-c8e7-166cb4a844d1"
      },
      "source": [
        "#After removing punctuation and numbers\n",
        "df['clean_text_1'] = df['text'].apply(clean_text_round1)\n",
        "df.head()"
      ],
      "execution_count": null,
      "outputs": [
        {
          "output_type": "error",
          "ename": "KeyError",
          "evalue": "ignored",
          "traceback": [
            "\u001b[0;31m---------------------------------------------------------------------------\u001b[0m",
            "\u001b[0;31mKeyError\u001b[0m                                  Traceback (most recent call last)",
            "\u001b[0;32m/usr/local/lib/python3.7/dist-packages/pandas/core/indexes/base.py\u001b[0m in \u001b[0;36mget_loc\u001b[0;34m(self, key, method, tolerance)\u001b[0m\n\u001b[1;32m   2897\u001b[0m             \u001b[0;32mtry\u001b[0m\u001b[0;34m:\u001b[0m\u001b[0;34m\u001b[0m\u001b[0;34m\u001b[0m\u001b[0m\n\u001b[0;32m-> 2898\u001b[0;31m                 \u001b[0;32mreturn\u001b[0m \u001b[0mself\u001b[0m\u001b[0;34m.\u001b[0m\u001b[0m_engine\u001b[0m\u001b[0;34m.\u001b[0m\u001b[0mget_loc\u001b[0m\u001b[0;34m(\u001b[0m\u001b[0mcasted_key\u001b[0m\u001b[0;34m)\u001b[0m\u001b[0;34m\u001b[0m\u001b[0;34m\u001b[0m\u001b[0m\n\u001b[0m\u001b[1;32m   2899\u001b[0m             \u001b[0;32mexcept\u001b[0m \u001b[0mKeyError\u001b[0m \u001b[0;32mas\u001b[0m \u001b[0merr\u001b[0m\u001b[0;34m:\u001b[0m\u001b[0;34m\u001b[0m\u001b[0;34m\u001b[0m\u001b[0m\n",
            "\u001b[0;32mpandas/_libs/index.pyx\u001b[0m in \u001b[0;36mpandas._libs.index.IndexEngine.get_loc\u001b[0;34m()\u001b[0m\n",
            "\u001b[0;32mpandas/_libs/index.pyx\u001b[0m in \u001b[0;36mpandas._libs.index.IndexEngine.get_loc\u001b[0;34m()\u001b[0m\n",
            "\u001b[0;32mpandas/_libs/hashtable_class_helper.pxi\u001b[0m in \u001b[0;36mpandas._libs.hashtable.PyObjectHashTable.get_item\u001b[0;34m()\u001b[0m\n",
            "\u001b[0;32mpandas/_libs/hashtable_class_helper.pxi\u001b[0m in \u001b[0;36mpandas._libs.hashtable.PyObjectHashTable.get_item\u001b[0;34m()\u001b[0m\n",
            "\u001b[0;31mKeyError\u001b[0m: 'text'",
            "\nThe above exception was the direct cause of the following exception:\n",
            "\u001b[0;31mKeyError\u001b[0m                                  Traceback (most recent call last)",
            "\u001b[0;32m<ipython-input-101-71f9d550f58e>\u001b[0m in \u001b[0;36m<module>\u001b[0;34m()\u001b[0m\n\u001b[1;32m      1\u001b[0m \u001b[0;31m#After removing punctuation and numbers\u001b[0m\u001b[0;34m\u001b[0m\u001b[0;34m\u001b[0m\u001b[0;34m\u001b[0m\u001b[0m\n\u001b[0;32m----> 2\u001b[0;31m \u001b[0mdf\u001b[0m\u001b[0;34m[\u001b[0m\u001b[0;34m'clean_text_1'\u001b[0m\u001b[0;34m]\u001b[0m \u001b[0;34m=\u001b[0m \u001b[0mdf\u001b[0m\u001b[0;34m[\u001b[0m\u001b[0;34m'text'\u001b[0m\u001b[0;34m]\u001b[0m\u001b[0;34m.\u001b[0m\u001b[0mapply\u001b[0m\u001b[0;34m(\u001b[0m\u001b[0mclean_text_round1\u001b[0m\u001b[0;34m)\u001b[0m\u001b[0;34m\u001b[0m\u001b[0;34m\u001b[0m\u001b[0m\n\u001b[0m\u001b[1;32m      3\u001b[0m \u001b[0mdf\u001b[0m\u001b[0;34m.\u001b[0m\u001b[0mhead\u001b[0m\u001b[0;34m(\u001b[0m\u001b[0;34m)\u001b[0m\u001b[0;34m\u001b[0m\u001b[0;34m\u001b[0m\u001b[0m\n",
            "\u001b[0;32m/usr/local/lib/python3.7/dist-packages/pandas/core/frame.py\u001b[0m in \u001b[0;36m__getitem__\u001b[0;34m(self, key)\u001b[0m\n\u001b[1;32m   2904\u001b[0m             \u001b[0;32mif\u001b[0m \u001b[0mself\u001b[0m\u001b[0;34m.\u001b[0m\u001b[0mcolumns\u001b[0m\u001b[0;34m.\u001b[0m\u001b[0mnlevels\u001b[0m \u001b[0;34m>\u001b[0m \u001b[0;36m1\u001b[0m\u001b[0;34m:\u001b[0m\u001b[0;34m\u001b[0m\u001b[0;34m\u001b[0m\u001b[0m\n\u001b[1;32m   2905\u001b[0m                 \u001b[0;32mreturn\u001b[0m \u001b[0mself\u001b[0m\u001b[0;34m.\u001b[0m\u001b[0m_getitem_multilevel\u001b[0m\u001b[0;34m(\u001b[0m\u001b[0mkey\u001b[0m\u001b[0;34m)\u001b[0m\u001b[0;34m\u001b[0m\u001b[0;34m\u001b[0m\u001b[0m\n\u001b[0;32m-> 2906\u001b[0;31m             \u001b[0mindexer\u001b[0m \u001b[0;34m=\u001b[0m \u001b[0mself\u001b[0m\u001b[0;34m.\u001b[0m\u001b[0mcolumns\u001b[0m\u001b[0;34m.\u001b[0m\u001b[0mget_loc\u001b[0m\u001b[0;34m(\u001b[0m\u001b[0mkey\u001b[0m\u001b[0;34m)\u001b[0m\u001b[0;34m\u001b[0m\u001b[0;34m\u001b[0m\u001b[0m\n\u001b[0m\u001b[1;32m   2907\u001b[0m             \u001b[0;32mif\u001b[0m \u001b[0mis_integer\u001b[0m\u001b[0;34m(\u001b[0m\u001b[0mindexer\u001b[0m\u001b[0;34m)\u001b[0m\u001b[0;34m:\u001b[0m\u001b[0;34m\u001b[0m\u001b[0;34m\u001b[0m\u001b[0m\n\u001b[1;32m   2908\u001b[0m                 \u001b[0mindexer\u001b[0m \u001b[0;34m=\u001b[0m \u001b[0;34m[\u001b[0m\u001b[0mindexer\u001b[0m\u001b[0;34m]\u001b[0m\u001b[0;34m\u001b[0m\u001b[0;34m\u001b[0m\u001b[0m\n",
            "\u001b[0;32m/usr/local/lib/python3.7/dist-packages/pandas/core/indexes/base.py\u001b[0m in \u001b[0;36mget_loc\u001b[0;34m(self, key, method, tolerance)\u001b[0m\n\u001b[1;32m   2898\u001b[0m                 \u001b[0;32mreturn\u001b[0m \u001b[0mself\u001b[0m\u001b[0;34m.\u001b[0m\u001b[0m_engine\u001b[0m\u001b[0;34m.\u001b[0m\u001b[0mget_loc\u001b[0m\u001b[0;34m(\u001b[0m\u001b[0mcasted_key\u001b[0m\u001b[0;34m)\u001b[0m\u001b[0;34m\u001b[0m\u001b[0;34m\u001b[0m\u001b[0m\n\u001b[1;32m   2899\u001b[0m             \u001b[0;32mexcept\u001b[0m \u001b[0mKeyError\u001b[0m \u001b[0;32mas\u001b[0m \u001b[0merr\u001b[0m\u001b[0;34m:\u001b[0m\u001b[0;34m\u001b[0m\u001b[0;34m\u001b[0m\u001b[0m\n\u001b[0;32m-> 2900\u001b[0;31m                 \u001b[0;32mraise\u001b[0m \u001b[0mKeyError\u001b[0m\u001b[0;34m(\u001b[0m\u001b[0mkey\u001b[0m\u001b[0;34m)\u001b[0m \u001b[0;32mfrom\u001b[0m \u001b[0merr\u001b[0m\u001b[0;34m\u001b[0m\u001b[0;34m\u001b[0m\u001b[0m\n\u001b[0m\u001b[1;32m   2901\u001b[0m \u001b[0;34m\u001b[0m\u001b[0m\n\u001b[1;32m   2902\u001b[0m         \u001b[0;32mif\u001b[0m \u001b[0mtolerance\u001b[0m \u001b[0;32mis\u001b[0m \u001b[0;32mnot\u001b[0m \u001b[0;32mNone\u001b[0m\u001b[0;34m:\u001b[0m\u001b[0;34m\u001b[0m\u001b[0;34m\u001b[0m\u001b[0m\n",
            "\u001b[0;31mKeyError\u001b[0m: 'text'"
          ]
        }
      ]
    },
    {
      "cell_type": "markdown",
      "metadata": {
        "id": "5zaIAZyC_kbq"
      },
      "source": [
        "Remove Stopwords"
      ]
    },
    {
      "cell_type": "code",
      "metadata": {
        "id": "KFtrcrUp_nBU",
        "colab": {
          "base_uri": "https://localhost:8080/"
        },
        "outputId": "3d185b54-5a51-4a48-cc81-0dbe82a4e200"
      },
      "source": [
        "import nltk\n",
        "nltk.download('stopwords')"
      ],
      "execution_count": null,
      "outputs": [
        {
          "output_type": "stream",
          "name": "stdout",
          "text": [
            "[nltk_data] Downloading package stopwords to /root/nltk_data...\n",
            "[nltk_data]   Package stopwords is already up-to-date!\n"
          ]
        },
        {
          "output_type": "execute_result",
          "data": {
            "text/plain": [
              "True"
            ]
          },
          "metadata": {},
          "execution_count": 93
        }
      ]
    },
    {
      "cell_type": "code",
      "metadata": {
        "id": "9NdKGVIU_xm9"
      },
      "source": [
        "from nltk.corpus import stopwords\n",
        "stop = stopwords.words('english')\n",
        "\n",
        "# Exclude stopwords with Python's list comprehension and pandas.DataFrame.apply.\n",
        "def clean_text_round2(text):\n",
        "    return ' '.join([word for word in text.split() if word not in (stop)])"
      ],
      "execution_count": null,
      "outputs": []
    },
    {
      "cell_type": "code",
      "metadata": {
        "id": "m90Nznui_6HG",
        "colab": {
          "base_uri": "https://localhost:8080/",
          "height": 559
        },
        "outputId": "8c970ff2-fb2e-42fa-9006-e5f5413b2ea7"
      },
      "source": [
        "df['clean_text_2'] = df['clean_text_1'].apply(clean_text_round2)\n",
        "df.head()"
      ],
      "execution_count": null,
      "outputs": [
        {
          "output_type": "error",
          "ename": "KeyError",
          "evalue": "ignored",
          "traceback": [
            "\u001b[0;31m---------------------------------------------------------------------------\u001b[0m",
            "\u001b[0;31mKeyError\u001b[0m                                  Traceback (most recent call last)",
            "\u001b[0;32m/usr/local/lib/python3.7/dist-packages/pandas/core/indexes/base.py\u001b[0m in \u001b[0;36mget_loc\u001b[0;34m(self, key, method, tolerance)\u001b[0m\n\u001b[1;32m   2897\u001b[0m             \u001b[0;32mtry\u001b[0m\u001b[0;34m:\u001b[0m\u001b[0;34m\u001b[0m\u001b[0;34m\u001b[0m\u001b[0m\n\u001b[0;32m-> 2898\u001b[0;31m                 \u001b[0;32mreturn\u001b[0m \u001b[0mself\u001b[0m\u001b[0;34m.\u001b[0m\u001b[0m_engine\u001b[0m\u001b[0;34m.\u001b[0m\u001b[0mget_loc\u001b[0m\u001b[0;34m(\u001b[0m\u001b[0mcasted_key\u001b[0m\u001b[0;34m)\u001b[0m\u001b[0;34m\u001b[0m\u001b[0;34m\u001b[0m\u001b[0m\n\u001b[0m\u001b[1;32m   2899\u001b[0m             \u001b[0;32mexcept\u001b[0m \u001b[0mKeyError\u001b[0m \u001b[0;32mas\u001b[0m \u001b[0merr\u001b[0m\u001b[0;34m:\u001b[0m\u001b[0;34m\u001b[0m\u001b[0;34m\u001b[0m\u001b[0m\n",
            "\u001b[0;32mpandas/_libs/index.pyx\u001b[0m in \u001b[0;36mpandas._libs.index.IndexEngine.get_loc\u001b[0;34m()\u001b[0m\n",
            "\u001b[0;32mpandas/_libs/index.pyx\u001b[0m in \u001b[0;36mpandas._libs.index.IndexEngine.get_loc\u001b[0;34m()\u001b[0m\n",
            "\u001b[0;32mpandas/_libs/hashtable_class_helper.pxi\u001b[0m in \u001b[0;36mpandas._libs.hashtable.PyObjectHashTable.get_item\u001b[0;34m()\u001b[0m\n",
            "\u001b[0;32mpandas/_libs/hashtable_class_helper.pxi\u001b[0m in \u001b[0;36mpandas._libs.hashtable.PyObjectHashTable.get_item\u001b[0;34m()\u001b[0m\n",
            "\u001b[0;31mKeyError\u001b[0m: 'clean_text_1'",
            "\nThe above exception was the direct cause of the following exception:\n",
            "\u001b[0;31mKeyError\u001b[0m                                  Traceback (most recent call last)",
            "\u001b[0;32m<ipython-input-95-18e95a57d10f>\u001b[0m in \u001b[0;36m<module>\u001b[0;34m()\u001b[0m\n\u001b[0;32m----> 1\u001b[0;31m \u001b[0mdf\u001b[0m\u001b[0;34m[\u001b[0m\u001b[0;34m'clean_text_2'\u001b[0m\u001b[0;34m]\u001b[0m \u001b[0;34m=\u001b[0m \u001b[0mdf\u001b[0m\u001b[0;34m[\u001b[0m\u001b[0;34m'clean_text_1'\u001b[0m\u001b[0;34m]\u001b[0m\u001b[0;34m.\u001b[0m\u001b[0mapply\u001b[0m\u001b[0;34m(\u001b[0m\u001b[0mclean_text_round2\u001b[0m\u001b[0;34m)\u001b[0m\u001b[0;34m\u001b[0m\u001b[0;34m\u001b[0m\u001b[0m\n\u001b[0m\u001b[1;32m      2\u001b[0m \u001b[0mdf\u001b[0m\u001b[0;34m.\u001b[0m\u001b[0mhead\u001b[0m\u001b[0;34m(\u001b[0m\u001b[0;34m)\u001b[0m\u001b[0;34m\u001b[0m\u001b[0;34m\u001b[0m\u001b[0m\n",
            "\u001b[0;32m/usr/local/lib/python3.7/dist-packages/pandas/core/frame.py\u001b[0m in \u001b[0;36m__getitem__\u001b[0;34m(self, key)\u001b[0m\n\u001b[1;32m   2904\u001b[0m             \u001b[0;32mif\u001b[0m \u001b[0mself\u001b[0m\u001b[0;34m.\u001b[0m\u001b[0mcolumns\u001b[0m\u001b[0;34m.\u001b[0m\u001b[0mnlevels\u001b[0m \u001b[0;34m>\u001b[0m \u001b[0;36m1\u001b[0m\u001b[0;34m:\u001b[0m\u001b[0;34m\u001b[0m\u001b[0;34m\u001b[0m\u001b[0m\n\u001b[1;32m   2905\u001b[0m                 \u001b[0;32mreturn\u001b[0m \u001b[0mself\u001b[0m\u001b[0;34m.\u001b[0m\u001b[0m_getitem_multilevel\u001b[0m\u001b[0;34m(\u001b[0m\u001b[0mkey\u001b[0m\u001b[0;34m)\u001b[0m\u001b[0;34m\u001b[0m\u001b[0;34m\u001b[0m\u001b[0m\n\u001b[0;32m-> 2906\u001b[0;31m             \u001b[0mindexer\u001b[0m \u001b[0;34m=\u001b[0m \u001b[0mself\u001b[0m\u001b[0;34m.\u001b[0m\u001b[0mcolumns\u001b[0m\u001b[0;34m.\u001b[0m\u001b[0mget_loc\u001b[0m\u001b[0;34m(\u001b[0m\u001b[0mkey\u001b[0m\u001b[0;34m)\u001b[0m\u001b[0;34m\u001b[0m\u001b[0;34m\u001b[0m\u001b[0m\n\u001b[0m\u001b[1;32m   2907\u001b[0m             \u001b[0;32mif\u001b[0m \u001b[0mis_integer\u001b[0m\u001b[0;34m(\u001b[0m\u001b[0mindexer\u001b[0m\u001b[0;34m)\u001b[0m\u001b[0;34m:\u001b[0m\u001b[0;34m\u001b[0m\u001b[0;34m\u001b[0m\u001b[0m\n\u001b[1;32m   2908\u001b[0m                 \u001b[0mindexer\u001b[0m \u001b[0;34m=\u001b[0m \u001b[0;34m[\u001b[0m\u001b[0mindexer\u001b[0m\u001b[0;34m]\u001b[0m\u001b[0;34m\u001b[0m\u001b[0;34m\u001b[0m\u001b[0m\n",
            "\u001b[0;32m/usr/local/lib/python3.7/dist-packages/pandas/core/indexes/base.py\u001b[0m in \u001b[0;36mget_loc\u001b[0;34m(self, key, method, tolerance)\u001b[0m\n\u001b[1;32m   2898\u001b[0m                 \u001b[0;32mreturn\u001b[0m \u001b[0mself\u001b[0m\u001b[0;34m.\u001b[0m\u001b[0m_engine\u001b[0m\u001b[0;34m.\u001b[0m\u001b[0mget_loc\u001b[0m\u001b[0;34m(\u001b[0m\u001b[0mcasted_key\u001b[0m\u001b[0;34m)\u001b[0m\u001b[0;34m\u001b[0m\u001b[0;34m\u001b[0m\u001b[0m\n\u001b[1;32m   2899\u001b[0m             \u001b[0;32mexcept\u001b[0m \u001b[0mKeyError\u001b[0m \u001b[0;32mas\u001b[0m \u001b[0merr\u001b[0m\u001b[0;34m:\u001b[0m\u001b[0;34m\u001b[0m\u001b[0;34m\u001b[0m\u001b[0m\n\u001b[0;32m-> 2900\u001b[0;31m                 \u001b[0;32mraise\u001b[0m \u001b[0mKeyError\u001b[0m\u001b[0;34m(\u001b[0m\u001b[0mkey\u001b[0m\u001b[0;34m)\u001b[0m \u001b[0;32mfrom\u001b[0m \u001b[0merr\u001b[0m\u001b[0;34m\u001b[0m\u001b[0;34m\u001b[0m\u001b[0m\n\u001b[0m\u001b[1;32m   2901\u001b[0m \u001b[0;34m\u001b[0m\u001b[0m\n\u001b[1;32m   2902\u001b[0m         \u001b[0;32mif\u001b[0m \u001b[0mtolerance\u001b[0m \u001b[0;32mis\u001b[0m \u001b[0;32mnot\u001b[0m \u001b[0;32mNone\u001b[0m\u001b[0;34m:\u001b[0m\u001b[0;34m\u001b[0m\u001b[0;34m\u001b[0m\u001b[0m\n",
            "\u001b[0;31mKeyError\u001b[0m: 'clean_text_1'"
          ]
        }
      ]
    },
    {
      "cell_type": "markdown",
      "metadata": {
        "id": "FD-8AQxD__Xh"
      },
      "source": [
        "Counting words and save it to a file"
      ]
    },
    {
      "cell_type": "code",
      "metadata": {
        "id": "963tpCv4AB53"
      },
      "source": [
        "## Create ```word_counts``` folder \n",
        "import os\n",
        "os.makedirs('word_counts', exist_ok=True)"
      ],
      "execution_count": null,
      "outputs": []
    },
    {
      "cell_type": "code",
      "metadata": {
        "id": "qARYM8O7AP_4"
      },
      "source": [
        "# this function create a dictionary with word counts from dataframe \n",
        "def count_words_from_dataframe(df):\n",
        "    result_dict = {}\n",
        "    # iterate rows of dataframe \n",
        "    for index, row in df.iterrows():\n",
        "        text = row['clean_text_2']\n",
        "        \n",
        "        # this will split a sentence into words \n",
        "        tokens = text.split()\n",
        "        \n",
        "        # iterate each word \n",
        "        for i in range(0, len(tokens)):\n",
        "            token = tokens[i]\n",
        "            try:\n",
        "                result_dict[token] += 1\n",
        "            except KeyError:\n",
        "                result_dict[token] = 1\n",
        "                    \n",
        "    return result_dict"
      ],
      "execution_count": null,
      "outputs": []
    },
    {
      "cell_type": "code",
      "metadata": {
        "id": "9viOigqlARR6",
        "colab": {
          "base_uri": "https://localhost:8080/",
          "height": 559
        },
        "outputId": "888f3c78-5e68-4fe2-c271-10190a2ba24a"
      },
      "source": [
        "women_words = count_words_from_dataframe(df)\n",
        "my_dict = women_words\n",
        "\n",
        "with open('womensg_dict.csv', 'w') as f:\n",
        "  for key in my_dict.keys():\n",
        "    f.write(\"%s,%s\\n\"%(key,my_dict[key]))"
      ],
      "execution_count": null,
      "outputs": [
        {
          "output_type": "error",
          "ename": "KeyError",
          "evalue": "ignored",
          "traceback": [
            "\u001b[0;31m---------------------------------------------------------------------------\u001b[0m",
            "\u001b[0;31mKeyError\u001b[0m                                  Traceback (most recent call last)",
            "\u001b[0;32m/usr/local/lib/python3.7/dist-packages/pandas/core/indexes/base.py\u001b[0m in \u001b[0;36mget_loc\u001b[0;34m(self, key, method, tolerance)\u001b[0m\n\u001b[1;32m   2897\u001b[0m             \u001b[0;32mtry\u001b[0m\u001b[0;34m:\u001b[0m\u001b[0;34m\u001b[0m\u001b[0;34m\u001b[0m\u001b[0m\n\u001b[0;32m-> 2898\u001b[0;31m                 \u001b[0;32mreturn\u001b[0m \u001b[0mself\u001b[0m\u001b[0;34m.\u001b[0m\u001b[0m_engine\u001b[0m\u001b[0;34m.\u001b[0m\u001b[0mget_loc\u001b[0m\u001b[0;34m(\u001b[0m\u001b[0mcasted_key\u001b[0m\u001b[0;34m)\u001b[0m\u001b[0;34m\u001b[0m\u001b[0;34m\u001b[0m\u001b[0m\n\u001b[0m\u001b[1;32m   2899\u001b[0m             \u001b[0;32mexcept\u001b[0m \u001b[0mKeyError\u001b[0m \u001b[0;32mas\u001b[0m \u001b[0merr\u001b[0m\u001b[0;34m:\u001b[0m\u001b[0;34m\u001b[0m\u001b[0;34m\u001b[0m\u001b[0m\n",
            "\u001b[0;32mpandas/_libs/index.pyx\u001b[0m in \u001b[0;36mpandas._libs.index.IndexEngine.get_loc\u001b[0;34m()\u001b[0m\n",
            "\u001b[0;32mpandas/_libs/index.pyx\u001b[0m in \u001b[0;36mpandas._libs.index.IndexEngine.get_loc\u001b[0;34m()\u001b[0m\n",
            "\u001b[0;32mpandas/_libs/hashtable_class_helper.pxi\u001b[0m in \u001b[0;36mpandas._libs.hashtable.PyObjectHashTable.get_item\u001b[0;34m()\u001b[0m\n",
            "\u001b[0;32mpandas/_libs/hashtable_class_helper.pxi\u001b[0m in \u001b[0;36mpandas._libs.hashtable.PyObjectHashTable.get_item\u001b[0;34m()\u001b[0m\n",
            "\u001b[0;31mKeyError\u001b[0m: 'clean_text_2'",
            "\nThe above exception was the direct cause of the following exception:\n",
            "\u001b[0;31mKeyError\u001b[0m                                  Traceback (most recent call last)",
            "\u001b[0;32m<ipython-input-99-e9814d707069>\u001b[0m in \u001b[0;36m<module>\u001b[0;34m()\u001b[0m\n\u001b[0;32m----> 1\u001b[0;31m \u001b[0mwomen_words\u001b[0m \u001b[0;34m=\u001b[0m \u001b[0mcount_words_from_dataframe\u001b[0m\u001b[0;34m(\u001b[0m\u001b[0mdf\u001b[0m\u001b[0;34m)\u001b[0m\u001b[0;34m\u001b[0m\u001b[0;34m\u001b[0m\u001b[0m\n\u001b[0m\u001b[1;32m      2\u001b[0m \u001b[0mmy_dict\u001b[0m \u001b[0;34m=\u001b[0m \u001b[0mwomen_words\u001b[0m\u001b[0;34m\u001b[0m\u001b[0;34m\u001b[0m\u001b[0m\n\u001b[1;32m      3\u001b[0m \u001b[0;34m\u001b[0m\u001b[0m\n\u001b[1;32m      4\u001b[0m \u001b[0;32mwith\u001b[0m \u001b[0mopen\u001b[0m\u001b[0;34m(\u001b[0m\u001b[0;34m'womensg_dict.csv'\u001b[0m\u001b[0;34m,\u001b[0m \u001b[0;34m'w'\u001b[0m\u001b[0;34m)\u001b[0m \u001b[0;32mas\u001b[0m \u001b[0mf\u001b[0m\u001b[0;34m:\u001b[0m\u001b[0;34m\u001b[0m\u001b[0;34m\u001b[0m\u001b[0m\n\u001b[1;32m      5\u001b[0m   \u001b[0;32mfor\u001b[0m \u001b[0mkey\u001b[0m \u001b[0;32min\u001b[0m \u001b[0mmy_dict\u001b[0m\u001b[0;34m.\u001b[0m\u001b[0mkeys\u001b[0m\u001b[0;34m(\u001b[0m\u001b[0;34m)\u001b[0m\u001b[0;34m:\u001b[0m\u001b[0;34m\u001b[0m\u001b[0;34m\u001b[0m\u001b[0m\n",
            "\u001b[0;32m<ipython-input-97-645a5d011406>\u001b[0m in \u001b[0;36mcount_words_from_dataframe\u001b[0;34m(df)\u001b[0m\n\u001b[1;32m      4\u001b[0m     \u001b[0;31m# iterate rows of dataframe\u001b[0m\u001b[0;34m\u001b[0m\u001b[0;34m\u001b[0m\u001b[0;34m\u001b[0m\u001b[0m\n\u001b[1;32m      5\u001b[0m     \u001b[0;32mfor\u001b[0m \u001b[0mindex\u001b[0m\u001b[0;34m,\u001b[0m \u001b[0mrow\u001b[0m \u001b[0;32min\u001b[0m \u001b[0mdf\u001b[0m\u001b[0;34m.\u001b[0m\u001b[0miterrows\u001b[0m\u001b[0;34m(\u001b[0m\u001b[0;34m)\u001b[0m\u001b[0;34m:\u001b[0m\u001b[0;34m\u001b[0m\u001b[0;34m\u001b[0m\u001b[0m\n\u001b[0;32m----> 6\u001b[0;31m         \u001b[0mtext\u001b[0m \u001b[0;34m=\u001b[0m \u001b[0mrow\u001b[0m\u001b[0;34m[\u001b[0m\u001b[0;34m'clean_text_2'\u001b[0m\u001b[0;34m]\u001b[0m\u001b[0;34m\u001b[0m\u001b[0;34m\u001b[0m\u001b[0m\n\u001b[0m\u001b[1;32m      7\u001b[0m \u001b[0;34m\u001b[0m\u001b[0m\n\u001b[1;32m      8\u001b[0m         \u001b[0;31m# this will split a sentence into words\u001b[0m\u001b[0;34m\u001b[0m\u001b[0;34m\u001b[0m\u001b[0;34m\u001b[0m\u001b[0m\n",
            "\u001b[0;32m/usr/local/lib/python3.7/dist-packages/pandas/core/series.py\u001b[0m in \u001b[0;36m__getitem__\u001b[0;34m(self, key)\u001b[0m\n\u001b[1;32m    880\u001b[0m \u001b[0;34m\u001b[0m\u001b[0m\n\u001b[1;32m    881\u001b[0m         \u001b[0;32melif\u001b[0m \u001b[0mkey_is_scalar\u001b[0m\u001b[0;34m:\u001b[0m\u001b[0;34m\u001b[0m\u001b[0;34m\u001b[0m\u001b[0m\n\u001b[0;32m--> 882\u001b[0;31m             \u001b[0;32mreturn\u001b[0m \u001b[0mself\u001b[0m\u001b[0;34m.\u001b[0m\u001b[0m_get_value\u001b[0m\u001b[0;34m(\u001b[0m\u001b[0mkey\u001b[0m\u001b[0;34m)\u001b[0m\u001b[0;34m\u001b[0m\u001b[0;34m\u001b[0m\u001b[0m\n\u001b[0m\u001b[1;32m    883\u001b[0m \u001b[0;34m\u001b[0m\u001b[0m\n\u001b[1;32m    884\u001b[0m         \u001b[0;32mif\u001b[0m \u001b[0mis_hashable\u001b[0m\u001b[0;34m(\u001b[0m\u001b[0mkey\u001b[0m\u001b[0;34m)\u001b[0m\u001b[0;34m:\u001b[0m\u001b[0;34m\u001b[0m\u001b[0;34m\u001b[0m\u001b[0m\n",
            "\u001b[0;32m/usr/local/lib/python3.7/dist-packages/pandas/core/series.py\u001b[0m in \u001b[0;36m_get_value\u001b[0;34m(self, label, takeable)\u001b[0m\n\u001b[1;32m    988\u001b[0m \u001b[0;34m\u001b[0m\u001b[0m\n\u001b[1;32m    989\u001b[0m         \u001b[0;31m# Similar to Index.get_value, but we do not fall back to positional\u001b[0m\u001b[0;34m\u001b[0m\u001b[0;34m\u001b[0m\u001b[0;34m\u001b[0m\u001b[0m\n\u001b[0;32m--> 990\u001b[0;31m         \u001b[0mloc\u001b[0m \u001b[0;34m=\u001b[0m \u001b[0mself\u001b[0m\u001b[0;34m.\u001b[0m\u001b[0mindex\u001b[0m\u001b[0;34m.\u001b[0m\u001b[0mget_loc\u001b[0m\u001b[0;34m(\u001b[0m\u001b[0mlabel\u001b[0m\u001b[0;34m)\u001b[0m\u001b[0;34m\u001b[0m\u001b[0;34m\u001b[0m\u001b[0m\n\u001b[0m\u001b[1;32m    991\u001b[0m         \u001b[0;32mreturn\u001b[0m \u001b[0mself\u001b[0m\u001b[0;34m.\u001b[0m\u001b[0mindex\u001b[0m\u001b[0;34m.\u001b[0m\u001b[0m_get_values_for_loc\u001b[0m\u001b[0;34m(\u001b[0m\u001b[0mself\u001b[0m\u001b[0;34m,\u001b[0m \u001b[0mloc\u001b[0m\u001b[0;34m,\u001b[0m \u001b[0mlabel\u001b[0m\u001b[0;34m)\u001b[0m\u001b[0;34m\u001b[0m\u001b[0;34m\u001b[0m\u001b[0m\n\u001b[1;32m    992\u001b[0m \u001b[0;34m\u001b[0m\u001b[0m\n",
            "\u001b[0;32m/usr/local/lib/python3.7/dist-packages/pandas/core/indexes/base.py\u001b[0m in \u001b[0;36mget_loc\u001b[0;34m(self, key, method, tolerance)\u001b[0m\n\u001b[1;32m   2898\u001b[0m                 \u001b[0;32mreturn\u001b[0m \u001b[0mself\u001b[0m\u001b[0;34m.\u001b[0m\u001b[0m_engine\u001b[0m\u001b[0;34m.\u001b[0m\u001b[0mget_loc\u001b[0m\u001b[0;34m(\u001b[0m\u001b[0mcasted_key\u001b[0m\u001b[0;34m)\u001b[0m\u001b[0;34m\u001b[0m\u001b[0;34m\u001b[0m\u001b[0m\n\u001b[1;32m   2899\u001b[0m             \u001b[0;32mexcept\u001b[0m \u001b[0mKeyError\u001b[0m \u001b[0;32mas\u001b[0m \u001b[0merr\u001b[0m\u001b[0;34m:\u001b[0m\u001b[0;34m\u001b[0m\u001b[0;34m\u001b[0m\u001b[0m\n\u001b[0;32m-> 2900\u001b[0;31m                 \u001b[0;32mraise\u001b[0m \u001b[0mKeyError\u001b[0m\u001b[0;34m(\u001b[0m\u001b[0mkey\u001b[0m\u001b[0;34m)\u001b[0m \u001b[0;32mfrom\u001b[0m \u001b[0merr\u001b[0m\u001b[0;34m\u001b[0m\u001b[0;34m\u001b[0m\u001b[0m\n\u001b[0m\u001b[1;32m   2901\u001b[0m \u001b[0;34m\u001b[0m\u001b[0m\n\u001b[1;32m   2902\u001b[0m         \u001b[0;32mif\u001b[0m \u001b[0mtolerance\u001b[0m \u001b[0;32mis\u001b[0m \u001b[0;32mnot\u001b[0m \u001b[0;32mNone\u001b[0m\u001b[0;34m:\u001b[0m\u001b[0;34m\u001b[0m\u001b[0;34m\u001b[0m\u001b[0m\n",
            "\u001b[0;31mKeyError\u001b[0m: 'clean_text_2'"
          ]
        }
      ]
    },
    {
      "cell_type": "markdown",
      "metadata": {
        "id": "zdkAiMqVEPnG"
      },
      "source": [
        "Draw wordcloud"
      ]
    },
    {
      "cell_type": "code",
      "metadata": {
        "id": "Rp2waWRjERK7"
      },
      "source": [
        "### Import relevant libraries\n",
        "from wordcloud import WordCloud, STOPWORDS\n",
        "import matplotlib.pyplot as plt\n",
        "import numpy as np\n",
        "import re\n",
        "from PIL import Image\n",
        "from os import path\n",
        "import csv\n",
        "\n",
        "### this function will creat wordcloud based on word frequencies and save them into files under plot. \n",
        "def makeImage(termDict, outputfile):\n",
        "    \n",
        "    wc = WordCloud(max_font_size=60, width=1280, height=720, background_color=\"white\")    \n",
        "\n",
        "    ### generate word cloud using frequencies!\n",
        "    wc.generate_from_frequencies(termDict)\n",
        "    wc.to_file(outputfile+\".png\")\n",
        "    wc.to_file(outputfile+\".pdf\")\n",
        "    \n",
        "    ### show the figure\n",
        "    plt.imshow(wc, interpolation=\"bilinear\")\n",
        "    plt.axis(\"off\")\n",
        "    plt.show() "
      ],
      "execution_count": null,
      "outputs": []
    },
    {
      "cell_type": "code",
      "metadata": {
        "id": "4BHXFofnEV3n"
      },
      "source": [
        "### Create ```plot``` folder \n",
        "os.makedirs('plot', exist_ok=True)"
      ],
      "execution_count": null,
      "outputs": []
    },
    {
      "cell_type": "code",
      "metadata": {
        "id": "lAcdynfjEreC"
      },
      "source": [
        "brandname = \"womensg\"\n",
        "### We're using one of the utility function! \"read_word_count_file\"\n",
        "fullTermsDict = read_word_count_file(f'{mypath}/womensg_dict.csv')\n",
        "outputfile = f\"./plot/wordcloud_count_unigram_{brandname}\"\n",
        "makeImage(fullTermsDict, outputfile)"
      ],
      "execution_count": null,
      "outputs": []
    },
    {
      "cell_type": "markdown",
      "metadata": {
        "id": "0HaPkwoXFFI5"
      },
      "source": [
        "**Burger King tweets**"
      ]
    },
    {
      "cell_type": "markdown",
      "metadata": {
        "id": "6iHwRShRFPah"
      },
      "source": [
        "Read burger kings CSV"
      ]
    },
    {
      "cell_type": "code",
      "metadata": {
        "id": "FA9FtqivFIvr"
      },
      "source": [
        "df = pd.read_csv('./mensg_tweets.csv')\n",
        "\n",
        "print(df.shape)\n",
        "df.head()"
      ],
      "execution_count": null,
      "outputs": []
    },
    {
      "cell_type": "code",
      "metadata": {
        "id": "ZxkfljIaFR0c"
      },
      "source": [
        "import re \n",
        "import string\n",
        "\n",
        "def clean_text_round1(text):\n",
        "    '''Make text lowercase, remove punctuation and words containing numbers and urls.'''\n",
        "    text = text.lower()\n",
        "    text = re.sub('[%s]' % re.escape(string.punctuation), '', text)\n",
        "    text = re.sub('\\w*\\d\\w*', '', text)\n",
        "    text = re.sub('^https?:\\/\\/.*[\\r\\n]*', '', text)\n",
        "    return text"
      ],
      "execution_count": null,
      "outputs": []
    },
    {
      "cell_type": "code",
      "metadata": {
        "id": "MLPtT21yFUB1"
      },
      "source": [
        "#After removing punctuation and numbers\n",
        "df['clean_text_1'] = df['text'].apply(clean_text_round1)\n",
        "df.head()"
      ],
      "execution_count": null,
      "outputs": []
    },
    {
      "cell_type": "markdown",
      "metadata": {
        "id": "twqGBH6YFYl1"
      },
      "source": [
        "Remove Stopwords"
      ]
    },
    {
      "cell_type": "code",
      "metadata": {
        "id": "u-jdmSn4FVza"
      },
      "source": [
        "import nltk\n",
        "nltk.download('stopwords')"
      ],
      "execution_count": null,
      "outputs": []
    },
    {
      "cell_type": "code",
      "metadata": {
        "id": "2bCcDcSTFa95"
      },
      "source": [
        "from nltk.corpus import stopwords\n",
        "stop = stopwords.words('english')\n",
        "\n",
        "# Exclude stopwords with Python's list comprehension and pandas.DataFrame.apply.\n",
        "def clean_text_round2(text):\n",
        "    return ' '.join([word for word in text.split() if word not in (stop)])"
      ],
      "execution_count": null,
      "outputs": []
    },
    {
      "cell_type": "code",
      "metadata": {
        "id": "fYf2TRmbJFch"
      },
      "source": [
        "df['clean_text_2'] = df['clean_text_1'].apply(clean_text_round2)\n",
        "df.head()"
      ],
      "execution_count": null,
      "outputs": []
    },
    {
      "cell_type": "markdown",
      "metadata": {
        "id": "TVYQL-H0Ff2W"
      },
      "source": [
        "Counting words and save it to a file"
      ]
    },
    {
      "cell_type": "code",
      "metadata": {
        "id": "IlqwHCowFc_4"
      },
      "source": [
        "## Create ```word_counts``` folder \n",
        "import os\n",
        "os.makedirs('word_counts', exist_ok=True)"
      ],
      "execution_count": null,
      "outputs": []
    },
    {
      "cell_type": "code",
      "metadata": {
        "id": "RYP3DXaPFjZP"
      },
      "source": [
        "# this function create a dictionary with word counts from dataframe \n",
        "def count_words_from_dataframe(df):\n",
        "    result_dict = {}\n",
        "    # iterate rows of dataframe \n",
        "    for index, row in df.iterrows():\n",
        "        text = row['clean_text_2']\n",
        "        \n",
        "        # this will split a sentence into words \n",
        "        tokens = text.split()\n",
        "        \n",
        "        # iterate each word \n",
        "        for i in range(0, len(tokens)):\n",
        "            token = tokens[i]\n",
        "            try:\n",
        "                result_dict[token] += 1\n",
        "            except KeyError:\n",
        "                result_dict[token] = 1\n",
        "                    \n",
        "    return result_dict"
      ],
      "execution_count": null,
      "outputs": []
    },
    {
      "cell_type": "code",
      "metadata": {
        "id": "8lHe0xS2Fl1K"
      },
      "source": [
        "mensg_words = count_words_from_dataframe(df)\n",
        "my_dict = mensg_words\n",
        "\n",
        "with open('mensg_dict.csv', 'w') as f:\n",
        "  for key in my_dict.keys():\n",
        "    f.write(\"%s,%s\\n\"%(key,my_dict[key]))"
      ],
      "execution_count": null,
      "outputs": []
    },
    {
      "cell_type": "markdown",
      "metadata": {
        "id": "mw8lxcduFon1"
      },
      "source": [
        "Draw wordcloud"
      ]
    },
    {
      "cell_type": "code",
      "metadata": {
        "id": "5QKbIHwIFsWM"
      },
      "source": [
        "### Import relevant libraries\n",
        "from wordcloud import WordCloud, STOPWORDS\n",
        "import matplotlib.pyplot as plt\n",
        "import numpy as np\n",
        "import re\n",
        "from PIL import Image\n",
        "from os import path\n",
        "import csv\n",
        "\n",
        "### this function will creat wordcloud based on word frequencies and save them into files under plot. \n",
        "def makeImage(termDict, outputfile):\n",
        "    \n",
        "    wc = WordCloud(max_font_size=60, width=1280, height=720, background_color=\"white\")    \n",
        "\n",
        "    ### generate word cloud using frequencies!\n",
        "    wc.generate_from_frequencies(termDict)\n",
        "    wc.to_file(outputfile+\".png\")\n",
        "    wc.to_file(outputfile+\".pdf\")\n",
        "    \n",
        "    ### show the figure\n",
        "    plt.imshow(wc, interpolation=\"bilinear\")\n",
        "    plt.axis(\"off\")\n",
        "    plt.show() "
      ],
      "execution_count": null,
      "outputs": []
    },
    {
      "cell_type": "code",
      "metadata": {
        "id": "xAlPzHUcFuqJ"
      },
      "source": [
        "### Create ```plot``` folder \n",
        "os.makedirs('plot', exist_ok=True)"
      ],
      "execution_count": null,
      "outputs": []
    },
    {
      "cell_type": "code",
      "metadata": {
        "id": "1676i47qFyOe"
      },
      "source": [
        "brandname = \"mensg\"\n",
        "### We're using one of the utility function! \"read_word_count_file\"\n",
        "fullTermsDict = read_word_count_file(f'{mypath}/mensg_dict.csv')\n",
        "outputfile = f\"./plot/wordcloud_count_unigram_{brandname}\"\n",
        "makeImage(fullTermsDict, outputfile)"
      ],
      "execution_count": null,
      "outputs": []
    },
    {
      "cell_type": "markdown",
      "metadata": {
        "id": "sRQyagCxaEXV"
      },
      "source": [
        "Representitve words using log odds "
      ]
    },
    {
      "cell_type": "code",
      "metadata": {
        "id": "Th6TiWClaNRv"
      },
      "source": [
        "### Getting global word counts (frequency of unigram in Google News datasets)\n",
        "target_url = \"https://raw.githubusercontent.com/anjisun221/css_codes/main/ay21t1/Lab03_text_analysis/1gram_englishall_count.csv\"\n",
        "global_counts = read_word_count_file_online(target_url)\n",
        "print(\"The number of unigrams=\", len(global_counts))"
      ],
      "execution_count": null,
      "outputs": []
    },
    {
      "cell_type": "code",
      "metadata": {
        "id": "KQecQgBkadkB"
      },
      "source": [
        "### Removing stopwords from the word list \n",
        "stopwords_list = get_stopwords()\n",
        "global_counts = {k: v for k, v in global_counts.items() if (k not in stopwords_list) and (len(k) > 2)}\n",
        "print(\"After excluding stop words: \", len(global_counts))"
      ],
      "execution_count": null,
      "outputs": []
    },
    {
      "cell_type": "markdown",
      "metadata": {
        "id": "Id3ntd5m8Mdm"
      },
      "source": [
        "Load word frequency file and create dictionary of tweets of 2 keywords"
      ]
    },
    {
      "cell_type": "code",
      "metadata": {
        "id": "khJef70g8W-S"
      },
      "source": [
        "counts_i_name = \"womensg\"\n",
        "\n",
        "counts_i = read_word_count_file(f\"{mypath}/{counts_i_name}_dict.csv\")\n",
        "\n",
        "### we filter out words that exist in our background corpus\n",
        "counts_i_dict = {k: v for k, v in counts_i.items() if k in global_counts}"
      ],
      "execution_count": null,
      "outputs": []
    },
    {
      "cell_type": "code",
      "metadata": {
        "id": "ZDmtEdGx-OFc"
      },
      "source": [
        "counts_j_name = 'mensg'\n",
        "\n",
        "counts_j = read_word_count_file(f\"{mypath}/{counts_j_name}_dict.csv\")\n",
        "\n",
        "### we filter out words that exist in our background corpus\n",
        "counts_j_dict = {k: v for k, v in counts_j.items() if k in global_counts}"
      ],
      "execution_count": null,
      "outputs": []
    },
    {
      "cell_type": "code",
      "metadata": {
        "id": "zGL9c5gu-a7F"
      },
      "source": [
        "top_words_df = calculate_log_odds_idp(global_counts, counts_i_name, counts_i_dict, counts_j_name, counts_j_dict)"
      ],
      "execution_count": null,
      "outputs": []
    },
    {
      "cell_type": "markdown",
      "metadata": {
        "id": "c1ZSrDEX_ZyQ"
      },
      "source": [
        "log_odds_z_score"
      ]
    },
    {
      "cell_type": "code",
      "metadata": {
        "id": "FP1_XU0V_ivf"
      },
      "source": [
        "top_words_df[top_words_df[counts_i_name] >= 5].head(20)"
      ],
      "execution_count": null,
      "outputs": []
    },
    {
      "cell_type": "code",
      "metadata": {
        "id": "UdxfYpOjB7io"
      },
      "source": [
        "top_words_df[top_words_df[counts_j_name] >= 2].iloc[::-1].head(20)"
      ],
      "execution_count": null,
      "outputs": []
    },
    {
      "cell_type": "code",
      "metadata": {
        "id": "Di2Bz-xlCWFB"
      },
      "source": [
        "find_discriminative_words(top_words_df, threshold_i=2, threshold_j=2, num_i=20, num_j=20, mypath='.')"
      ],
      "execution_count": null,
      "outputs": []
    },
    {
      "cell_type": "markdown",
      "metadata": {
        "id": "tu2l87I1CZFm"
      },
      "source": [
        "Word clouds based on log odds value"
      ]
    },
    {
      "cell_type": "markdown",
      "metadata": {
        "id": "4jxkLrz3CvYn"
      },
      "source": [
        "**Mcdonald tweets**"
      ]
    },
    {
      "cell_type": "code",
      "metadata": {
        "id": "6y3ZhabRCe_M"
      },
      "source": [
        "fullTermsDict = read_word_count_file(f\"{mypath}/{counts_i_name}_zscore.csv\")\n",
        "outputfile = f\"./plot/wordcloud_log_odds_unigram_{counts_i_name}_compared with_{counts_j_name}\"\n",
        "makeImage(fullTermsDict, outputfile)"
      ],
      "execution_count": null,
      "outputs": []
    },
    {
      "cell_type": "markdown",
      "metadata": {
        "id": "ZhKzHs0BDBph"
      },
      "source": [
        "**Burger King tweets**"
      ]
    },
    {
      "cell_type": "code",
      "metadata": {
        "id": "LDXoVZRxDFRU"
      },
      "source": [
        "fullTermsDict = read_word_count_file(f\"{mypath}/{counts_j_name}_zscore.csv\")\n",
        "outputfile = f\"./plot/wordcloud_log_odds_unigram_{counts_j_name}_compared_with_{counts_i_name}\"  \n",
        "makeImage(fullTermsDict, outputfile)"
      ],
      "execution_count": null,
      "outputs": []
    }
  ]
}