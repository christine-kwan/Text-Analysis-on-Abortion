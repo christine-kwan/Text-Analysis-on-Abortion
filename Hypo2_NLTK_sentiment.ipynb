{
  "nbformat": 4,
  "nbformat_minor": 0,
  "metadata": {
    "colab": {
      "provenance": []
    },
    "kernelspec": {
      "name": "python3",
      "display_name": "Python 3"
    },
    "language_info": {
      "name": "python"
    }
  },
  "cells": [
    {
      "cell_type": "code",
      "metadata": {
        "colab": {
          "base_uri": "https://localhost:8080/"
        },
        "id": "Iou9wBjGtnIs",
        "outputId": "ab6f13b3-ea75-4508-e0a7-920c2a78b304"
      },
      "source": [
        "!pip install nltk"
      ],
      "execution_count": null,
      "outputs": [
        {
          "output_type": "stream",
          "name": "stdout",
          "text": [
            "Requirement already satisfied: nltk in /usr/local/lib/python3.7/dist-packages (3.2.5)\n",
            "Requirement already satisfied: six in /usr/local/lib/python3.7/dist-packages (from nltk) (1.15.0)\n"
          ]
        }
      ]
    },
    {
      "cell_type": "code",
      "metadata": {
        "id": "nflezM-EyDWQ",
        "colab": {
          "base_uri": "https://localhost:8080/"
        },
        "outputId": "d10430c8-9ea4-409e-a803-a878a51c7c5a"
      },
      "source": [
        "from nltk.classify import NaiveBayesClassifier\n",
        "from nltk.corpus import subjectivity\n",
        "from nltk.sentiment import SentimentAnalyzer\n",
        "from nltk.sentiment.util import *\n",
        "\n",
        "from nltk import tokenize"
      ],
      "execution_count": null,
      "outputs": [
        {
          "output_type": "stream",
          "name": "stderr",
          "text": [
            "/usr/local/lib/python3.7/dist-packages/nltk/twitter/__init__.py:20: UserWarning: The twython library has not been installed. Some functionality from the twitter package will not be available.\n",
            "  warnings.warn(\"The twython library has not been installed. \"\n"
          ]
        }
      ]
    },
    {
      "cell_type": "code",
      "metadata": {
        "colab": {
          "base_uri": "https://localhost:8080/"
        },
        "id": "HLIncOFKyFqn",
        "outputId": "99110560-1867-463e-81c7-ed030cb76c70"
      },
      "source": [
        "# Add Google Drive as an accessible path (Optional if you are running from Jupyter Notebook)\n",
        "from google.colab import drive\n",
        "drive.mount('/content/drive')\n",
        "\n",
        "# change path to the designated google drive folder\n",
        "# otherwise, data will be saved in /content folder which you may have issue locating\n",
        "%cd /content/drive/My Drive/Colab Notebooks/CSS Project"
      ],
      "execution_count": null,
      "outputs": [
        {
          "output_type": "stream",
          "name": "stdout",
          "text": [
            "Drive already mounted at /content/drive; to attempt to forcibly remount, call drive.mount(\"/content/drive\", force_remount=True).\n",
            "/content/drive/My Drive/Colab Notebooks/CSS Project\n"
          ]
        }
      ]
    },
    {
      "cell_type": "markdown",
      "metadata": {
        "id": "Y6g_TS4b1oJo"
      },
      "source": [
        "\"gender\""
      ]
    },
    {
      "cell_type": "code",
      "metadata": {
        "colab": {
          "base_uri": "https://localhost:8080/",
          "height": 203
        },
        "id": "Ie90K-kbyiac",
        "outputId": "ebcea218-2086-4a49-9875-996c26f6e9eb"
      },
      "source": [
        "import pandas as pd\n",
        "\n",
        "df = pd.read_csv('Tweets/gendersg_tweets.csv')\n",
        "df.head()"
      ],
      "execution_count": null,
      "outputs": [
        {
          "output_type": "execute_result",
          "data": {
            "text/html": [
              "<div>\n",
              "<style scoped>\n",
              "    .dataframe tbody tr th:only-of-type {\n",
              "        vertical-align: middle;\n",
              "    }\n",
              "\n",
              "    .dataframe tbody tr th {\n",
              "        vertical-align: top;\n",
              "    }\n",
              "\n",
              "    .dataframe thead th {\n",
              "        text-align: right;\n",
              "    }\n",
              "</style>\n",
              "<table border=\"1\" class=\"dataframe\">\n",
              "  <thead>\n",
              "    <tr style=\"text-align: right;\">\n",
              "      <th></th>\n",
              "      <th>Unnamed: 0</th>\n",
              "      <th>date</th>\n",
              "      <th>content</th>\n",
              "    </tr>\n",
              "  </thead>\n",
              "  <tbody>\n",
              "    <tr>\n",
              "      <th>0</th>\n",
              "      <td>0</td>\n",
              "      <td>2020-12-17 12:11:05+00:00</td>\n",
              "      <td>SOMETIMES, Men don’t understand why we feel wh...</td>\n",
              "    </tr>\n",
              "    <tr>\n",
              "      <th>1</th>\n",
              "      <td>1</td>\n",
              "      <td>2020-10-22 14:36:12+00:00</td>\n",
              "      <td>exchange each other’s nudes w a friend from th...</td>\n",
              "    </tr>\n",
              "    <tr>\n",
              "      <th>2</th>\n",
              "      <td>2</td>\n",
              "      <td>2020-10-17 14:18:58+00:00</td>\n",
              "      <td>Two people of the opposite gender can go out t...</td>\n",
              "    </tr>\n",
              "    <tr>\n",
              "      <th>3</th>\n",
              "      <td>3</td>\n",
              "      <td>2020-09-13 15:01:35+00:00</td>\n",
              "      <td>the gender of the child that started the calif...</td>\n",
              "    </tr>\n",
              "    <tr>\n",
              "      <th>4</th>\n",
              "      <td>4</td>\n",
              "      <td>2020-09-12 16:13:09+00:00</td>\n",
              "      <td>i still dont get the concept of gender reveal ...</td>\n",
              "    </tr>\n",
              "  </tbody>\n",
              "</table>\n",
              "</div>"
            ],
            "text/plain": [
              "   Unnamed: 0  ...                                            content\n",
              "0           0  ...  SOMETIMES, Men don’t understand why we feel wh...\n",
              "1           1  ...  exchange each other’s nudes w a friend from th...\n",
              "2           2  ...  Two people of the opposite gender can go out t...\n",
              "3           3  ...  the gender of the child that started the calif...\n",
              "4           4  ...  i still dont get the concept of gender reveal ...\n",
              "\n",
              "[5 rows x 3 columns]"
            ]
          },
          "metadata": {},
          "execution_count": 9
        }
      ]
    },
    {
      "cell_type": "code",
      "metadata": {
        "colab": {
          "base_uri": "https://localhost:8080/"
        },
        "id": "AOfTGVCczPRQ",
        "outputId": "3aeacd56-bbfc-400d-883a-b9808019e90c"
      },
      "source": [
        "pip install vaderSentiment"
      ],
      "execution_count": null,
      "outputs": [
        {
          "output_type": "stream",
          "name": "stdout",
          "text": [
            "Collecting vaderSentiment\n",
            "  Downloading vaderSentiment-3.3.2-py2.py3-none-any.whl (125 kB)\n",
            "\u001b[?25l\r\u001b[K     |██▋                             | 10 kB 16.1 MB/s eta 0:00:01\r\u001b[K     |█████▏                          | 20 kB 20.7 MB/s eta 0:00:01\r\u001b[K     |███████▉                        | 30 kB 14.0 MB/s eta 0:00:01\r\u001b[K     |██████████▍                     | 40 kB 11.2 MB/s eta 0:00:01\r\u001b[K     |█████████████                   | 51 kB 5.3 MB/s eta 0:00:01\r\u001b[K     |███████████████▋                | 61 kB 5.8 MB/s eta 0:00:01\r\u001b[K     |██████████████████▏             | 71 kB 5.7 MB/s eta 0:00:01\r\u001b[K     |████████████████████▉           | 81 kB 6.3 MB/s eta 0:00:01\r\u001b[K     |███████████████████████▍        | 92 kB 6.5 MB/s eta 0:00:01\r\u001b[K     |██████████████████████████      | 102 kB 5.0 MB/s eta 0:00:01\r\u001b[K     |████████████████████████████▋   | 112 kB 5.0 MB/s eta 0:00:01\r\u001b[K     |███████████████████████████████▏| 122 kB 5.0 MB/s eta 0:00:01\r\u001b[K     |████████████████████████████████| 125 kB 5.0 MB/s \n",
            "\u001b[?25hRequirement already satisfied: requests in /usr/local/lib/python3.7/dist-packages (from vaderSentiment) (2.23.0)\n",
            "Requirement already satisfied: certifi>=2017.4.17 in /usr/local/lib/python3.7/dist-packages (from requests->vaderSentiment) (2021.5.30)\n",
            "Requirement already satisfied: idna<3,>=2.5 in /usr/local/lib/python3.7/dist-packages (from requests->vaderSentiment) (2.10)\n",
            "Requirement already satisfied: chardet<4,>=3.0.2 in /usr/local/lib/python3.7/dist-packages (from requests->vaderSentiment) (3.0.4)\n",
            "Requirement already satisfied: urllib3!=1.25.0,!=1.25.1,<1.26,>=1.21.1 in /usr/local/lib/python3.7/dist-packages (from requests->vaderSentiment) (1.24.3)\n",
            "Installing collected packages: vaderSentiment\n",
            "Successfully installed vaderSentiment-3.3.2\n"
          ]
        }
      ]
    },
    {
      "cell_type": "code",
      "metadata": {
        "id": "8fmbs6fF0RoL"
      },
      "source": [
        "from vaderSentiment.vaderSentiment import SentimentIntensityAnalyzer"
      ],
      "execution_count": null,
      "outputs": []
    },
    {
      "cell_type": "code",
      "metadata": {
        "colab": {
          "base_uri": "https://localhost:8080/",
          "height": 604
        },
        "id": "OSw1uodb2MTf",
        "outputId": "de96ac31-eb79-4a3e-a092-ede2e4d84929"
      },
      "source": [
        "analyzer = SentimentIntensityAnalyzer()\n",
        "df['compound'] = [analyzer.polarity_scores(x)['compound'] for x in df['content']]\n",
        "df['neg'] = [analyzer.polarity_scores(x)['neg'] for x in df['content']]\n",
        "df['neu'] = [analyzer.polarity_scores(x)['neu'] for x in df['content']]\n",
        "df['pos'] = [analyzer.polarity_scores(x)['pos'] for x in df['content']]\n",
        "\n",
        "df.sort_values('pos', ascending = False, inplace = True)\n",
        "df"
      ],
      "execution_count": null,
      "outputs": [
        {
          "output_type": "execute_result",
          "data": {
            "text/html": [
              "<div>\n",
              "<style scoped>\n",
              "    .dataframe tbody tr th:only-of-type {\n",
              "        vertical-align: middle;\n",
              "    }\n",
              "\n",
              "    .dataframe tbody tr th {\n",
              "        vertical-align: top;\n",
              "    }\n",
              "\n",
              "    .dataframe thead th {\n",
              "        text-align: right;\n",
              "    }\n",
              "</style>\n",
              "<table border=\"1\" class=\"dataframe\">\n",
              "  <thead>\n",
              "    <tr style=\"text-align: right;\">\n",
              "      <th></th>\n",
              "      <th>Unnamed: 0</th>\n",
              "      <th>date</th>\n",
              "      <th>content</th>\n",
              "      <th>compound</th>\n",
              "      <th>neg</th>\n",
              "      <th>neu</th>\n",
              "      <th>pos</th>\n",
              "    </tr>\n",
              "  </thead>\n",
              "  <tbody>\n",
              "    <tr>\n",
              "      <th>10</th>\n",
              "      <td>10</td>\n",
              "      <td>2020-06-13 09:56:13+00:00</td>\n",
              "      <td>You’re sexually attracted to people of your ge...</td>\n",
              "      <td>0.7757</td>\n",
              "      <td>0.000</td>\n",
              "      <td>0.619</td>\n",
              "      <td>0.381</td>\n",
              "    </tr>\n",
              "    <tr>\n",
              "      <th>4</th>\n",
              "      <td>4</td>\n",
              "      <td>2020-09-12 16:13:09+00:00</td>\n",
              "      <td>i still dont get the concept of gender reveal ...</td>\n",
              "      <td>0.7783</td>\n",
              "      <td>0.000</td>\n",
              "      <td>0.799</td>\n",
              "      <td>0.201</td>\n",
              "    </tr>\n",
              "    <tr>\n",
              "      <th>15</th>\n",
              "      <td>15</td>\n",
              "      <td>2020-05-31 07:33:34+00:00</td>\n",
              "      <td>For the first time in my life, I actually made...</td>\n",
              "      <td>0.6510</td>\n",
              "      <td>0.065</td>\n",
              "      <td>0.758</td>\n",
              "      <td>0.178</td>\n",
              "    </tr>\n",
              "    <tr>\n",
              "      <th>2</th>\n",
              "      <td>2</td>\n",
              "      <td>2020-10-17 14:18:58+00:00</td>\n",
              "      <td>Two people of the opposite gender can go out t...</td>\n",
              "      <td>0.7096</td>\n",
              "      <td>0.055</td>\n",
              "      <td>0.769</td>\n",
              "      <td>0.176</td>\n",
              "    </tr>\n",
              "    <tr>\n",
              "      <th>6</th>\n",
              "      <td>6</td>\n",
              "      <td>2020-08-27 06:01:02+00:00</td>\n",
              "      <td>Together, we can make gender equality a realit...</td>\n",
              "      <td>0.5574</td>\n",
              "      <td>0.000</td>\n",
              "      <td>0.828</td>\n",
              "      <td>0.172</td>\n",
              "    </tr>\n",
              "    <tr>\n",
              "      <th>1</th>\n",
              "      <td>1</td>\n",
              "      <td>2020-10-22 14:36:12+00:00</td>\n",
              "      <td>exchange each other’s nudes w a friend from th...</td>\n",
              "      <td>0.4939</td>\n",
              "      <td>0.000</td>\n",
              "      <td>0.862</td>\n",
              "      <td>0.138</td>\n",
              "    </tr>\n",
              "    <tr>\n",
              "      <th>11</th>\n",
              "      <td>11</td>\n",
              "      <td>2020-06-09 11:29:12+00:00</td>\n",
              "      <td>#avpn2020 I think I belong to the 20% who have...</td>\n",
              "      <td>0.6249</td>\n",
              "      <td>0.000</td>\n",
              "      <td>0.863</td>\n",
              "      <td>0.137</td>\n",
              "    </tr>\n",
              "    <tr>\n",
              "      <th>17</th>\n",
              "      <td>17</td>\n",
              "      <td>2020-05-26 06:40:21+00:00</td>\n",
              "      <td>If you are in a r/s and kau masih nk be friend...</td>\n",
              "      <td>0.3182</td>\n",
              "      <td>0.073</td>\n",
              "      <td>0.805</td>\n",
              "      <td>0.123</td>\n",
              "    </tr>\n",
              "    <tr>\n",
              "      <th>16</th>\n",
              "      <td>16</td>\n",
              "      <td>2020-05-26 06:44:48+00:00</td>\n",
              "      <td>If you wanna remain being open and friendly to...</td>\n",
              "      <td>0.2187</td>\n",
              "      <td>0.068</td>\n",
              "      <td>0.840</td>\n",
              "      <td>0.093</td>\n",
              "    </tr>\n",
              "    <tr>\n",
              "      <th>14</th>\n",
              "      <td>14</td>\n",
              "      <td>2020-06-06 06:08:24+00:00</td>\n",
              "      <td>Why is it always an issue if the women is olde...</td>\n",
              "      <td>0.4380</td>\n",
              "      <td>0.000</td>\n",
              "      <td>0.907</td>\n",
              "      <td>0.093</td>\n",
              "    </tr>\n",
              "    <tr>\n",
              "      <th>7</th>\n",
              "      <td>7</td>\n",
              "      <td>2020-08-27 03:08:58+00:00</td>\n",
              "      <td>#JayaSaha \\n#RheaChakrobarty \\nYou both are a ...</td>\n",
              "      <td>-0.4293</td>\n",
              "      <td>0.117</td>\n",
              "      <td>0.802</td>\n",
              "      <td>0.081</td>\n",
              "    </tr>\n",
              "    <tr>\n",
              "      <th>13</th>\n",
              "      <td>13</td>\n",
              "      <td>2020-06-09 02:06:28+00:00</td>\n",
              "      <td>#Gender #Inequality still prevalent in more th...</td>\n",
              "      <td>0.0000</td>\n",
              "      <td>0.000</td>\n",
              "      <td>1.000</td>\n",
              "      <td>0.000</td>\n",
              "    </tr>\n",
              "    <tr>\n",
              "      <th>0</th>\n",
              "      <td>0</td>\n",
              "      <td>2020-12-17 12:11:05+00:00</td>\n",
              "      <td>SOMETIMES, Men don’t understand why we feel wh...</td>\n",
              "      <td>0.0000</td>\n",
              "      <td>0.000</td>\n",
              "      <td>1.000</td>\n",
              "      <td>0.000</td>\n",
              "    </tr>\n",
              "    <tr>\n",
              "      <th>12</th>\n",
              "      <td>12</td>\n",
              "      <td>2020-06-09 02:17:57+00:00</td>\n",
              "      <td>Changing the next #generation is key to achiev...</td>\n",
              "      <td>0.0000</td>\n",
              "      <td>0.000</td>\n",
              "      <td>1.000</td>\n",
              "      <td>0.000</td>\n",
              "    </tr>\n",
              "    <tr>\n",
              "      <th>8</th>\n",
              "      <td>8</td>\n",
              "      <td>2020-07-30 11:47:56+00:00</td>\n",
              "      <td>Imiss being pregnant sia the milestone the mon...</td>\n",
              "      <td>0.0000</td>\n",
              "      <td>0.000</td>\n",
              "      <td>1.000</td>\n",
              "      <td>0.000</td>\n",
              "    </tr>\n",
              "    <tr>\n",
              "      <th>5</th>\n",
              "      <td>5</td>\n",
              "      <td>2020-09-09 02:11:58+00:00</td>\n",
              "      <td>What’s this gender reveal business?</td>\n",
              "      <td>0.0000</td>\n",
              "      <td>0.000</td>\n",
              "      <td>1.000</td>\n",
              "      <td>0.000</td>\n",
              "    </tr>\n",
              "    <tr>\n",
              "      <th>3</th>\n",
              "      <td>3</td>\n",
              "      <td>2020-09-13 15:01:35+00:00</td>\n",
              "      <td>the gender of the child that started the calif...</td>\n",
              "      <td>-0.3400</td>\n",
              "      <td>0.130</td>\n",
              "      <td>0.870</td>\n",
              "      <td>0.000</td>\n",
              "    </tr>\n",
              "    <tr>\n",
              "      <th>9</th>\n",
              "      <td>9</td>\n",
              "      <td>2020-06-29 17:00:24+00:00</td>\n",
              "      <td>My #GenderManifesto: I urge policy-makers and ...</td>\n",
              "      <td>-0.1027</td>\n",
              "      <td>0.091</td>\n",
              "      <td>0.909</td>\n",
              "      <td>0.000</td>\n",
              "    </tr>\n",
              "  </tbody>\n",
              "</table>\n",
              "</div>"
            ],
            "text/plain": [
              "    Unnamed: 0                       date  ...    neu    pos\n",
              "10          10  2020-06-13 09:56:13+00:00  ...  0.619  0.381\n",
              "4            4  2020-09-12 16:13:09+00:00  ...  0.799  0.201\n",
              "15          15  2020-05-31 07:33:34+00:00  ...  0.758  0.178\n",
              "2            2  2020-10-17 14:18:58+00:00  ...  0.769  0.176\n",
              "6            6  2020-08-27 06:01:02+00:00  ...  0.828  0.172\n",
              "1            1  2020-10-22 14:36:12+00:00  ...  0.862  0.138\n",
              "11          11  2020-06-09 11:29:12+00:00  ...  0.863  0.137\n",
              "17          17  2020-05-26 06:40:21+00:00  ...  0.805  0.123\n",
              "16          16  2020-05-26 06:44:48+00:00  ...  0.840  0.093\n",
              "14          14  2020-06-06 06:08:24+00:00  ...  0.907  0.093\n",
              "7            7  2020-08-27 03:08:58+00:00  ...  0.802  0.081\n",
              "13          13  2020-06-09 02:06:28+00:00  ...  1.000  0.000\n",
              "0            0  2020-12-17 12:11:05+00:00  ...  1.000  0.000\n",
              "12          12  2020-06-09 02:17:57+00:00  ...  1.000  0.000\n",
              "8            8  2020-07-30 11:47:56+00:00  ...  1.000  0.000\n",
              "5            5  2020-09-09 02:11:58+00:00  ...  1.000  0.000\n",
              "3            3  2020-09-13 15:01:35+00:00  ...  0.870  0.000\n",
              "9            9  2020-06-29 17:00:24+00:00  ...  0.909  0.000\n",
              "\n",
              "[18 rows x 7 columns]"
            ]
          },
          "metadata": {},
          "execution_count": 12
        }
      ]
    },
    {
      "cell_type": "code",
      "metadata": {
        "id": "1nrwHjLb4Cta"
      },
      "source": [
        "import os\n",
        "os.makedirs('NLTK vader', exist_ok=True)"
      ],
      "execution_count": null,
      "outputs": []
    },
    {
      "cell_type": "code",
      "metadata": {
        "id": "ZJ49Shc04Lhz"
      },
      "source": [
        "# not working\n",
        "df.to_csv(f'NLTK vader/edu_vader.csv', index=False)"
      ],
      "execution_count": null,
      "outputs": []
    },
    {
      "cell_type": "code",
      "metadata": {
        "colab": {
          "base_uri": "https://localhost:8080/",
          "height": 295
        },
        "id": "URhmnMu26mVO",
        "outputId": "0d5cff5d-f040-4f66-d424-3669ad2879a8"
      },
      "source": [
        "df.describe()"
      ],
      "execution_count": null,
      "outputs": [
        {
          "output_type": "execute_result",
          "data": {
            "text/html": [
              "<div>\n",
              "<style scoped>\n",
              "    .dataframe tbody tr th:only-of-type {\n",
              "        vertical-align: middle;\n",
              "    }\n",
              "\n",
              "    .dataframe tbody tr th {\n",
              "        vertical-align: top;\n",
              "    }\n",
              "\n",
              "    .dataframe thead th {\n",
              "        text-align: right;\n",
              "    }\n",
              "</style>\n",
              "<table border=\"1\" class=\"dataframe\">\n",
              "  <thead>\n",
              "    <tr style=\"text-align: right;\">\n",
              "      <th></th>\n",
              "      <th>Unnamed: 0</th>\n",
              "      <th>compound</th>\n",
              "      <th>neg</th>\n",
              "      <th>neu</th>\n",
              "      <th>pos</th>\n",
              "    </tr>\n",
              "  </thead>\n",
              "  <tbody>\n",
              "    <tr>\n",
              "      <th>count</th>\n",
              "      <td>18.000000</td>\n",
              "      <td>18.000000</td>\n",
              "      <td>18.000000</td>\n",
              "      <td>18.000000</td>\n",
              "      <td>18.00000</td>\n",
              "    </tr>\n",
              "    <tr>\n",
              "      <th>mean</th>\n",
              "      <td>8.500000</td>\n",
              "      <td>0.260761</td>\n",
              "      <td>0.033278</td>\n",
              "      <td>0.868389</td>\n",
              "      <td>0.09850</td>\n",
              "    </tr>\n",
              "    <tr>\n",
              "      <th>std</th>\n",
              "      <td>5.338539</td>\n",
              "      <td>0.384047</td>\n",
              "      <td>0.046107</td>\n",
              "      <td>0.105651</td>\n",
              "      <td>0.10289</td>\n",
              "    </tr>\n",
              "    <tr>\n",
              "      <th>min</th>\n",
              "      <td>0.000000</td>\n",
              "      <td>-0.429300</td>\n",
              "      <td>0.000000</td>\n",
              "      <td>0.619000</td>\n",
              "      <td>0.00000</td>\n",
              "    </tr>\n",
              "    <tr>\n",
              "      <th>25%</th>\n",
              "      <td>4.250000</td>\n",
              "      <td>0.000000</td>\n",
              "      <td>0.000000</td>\n",
              "      <td>0.802750</td>\n",
              "      <td>0.00000</td>\n",
              "    </tr>\n",
              "    <tr>\n",
              "      <th>50%</th>\n",
              "      <td>8.500000</td>\n",
              "      <td>0.268450</td>\n",
              "      <td>0.000000</td>\n",
              "      <td>0.862500</td>\n",
              "      <td>0.09300</td>\n",
              "    </tr>\n",
              "    <tr>\n",
              "      <th>75%</th>\n",
              "      <td>12.750000</td>\n",
              "      <td>0.608025</td>\n",
              "      <td>0.067250</td>\n",
              "      <td>0.977250</td>\n",
              "      <td>0.16350</td>\n",
              "    </tr>\n",
              "    <tr>\n",
              "      <th>max</th>\n",
              "      <td>17.000000</td>\n",
              "      <td>0.778300</td>\n",
              "      <td>0.130000</td>\n",
              "      <td>1.000000</td>\n",
              "      <td>0.38100</td>\n",
              "    </tr>\n",
              "  </tbody>\n",
              "</table>\n",
              "</div>"
            ],
            "text/plain": [
              "       Unnamed: 0   compound        neg        neu       pos\n",
              "count   18.000000  18.000000  18.000000  18.000000  18.00000\n",
              "mean     8.500000   0.260761   0.033278   0.868389   0.09850\n",
              "std      5.338539   0.384047   0.046107   0.105651   0.10289\n",
              "min      0.000000  -0.429300   0.000000   0.619000   0.00000\n",
              "25%      4.250000   0.000000   0.000000   0.802750   0.00000\n",
              "50%      8.500000   0.268450   0.000000   0.862500   0.09300\n",
              "75%     12.750000   0.608025   0.067250   0.977250   0.16350\n",
              "max     17.000000   0.778300   0.130000   1.000000   0.38100"
            ]
          },
          "metadata": {},
          "execution_count": 15
        }
      ]
    },
    {
      "cell_type": "code",
      "metadata": {
        "id": "11GOAiCi7wjq"
      },
      "source": [
        "import seaborn as sns\n",
        "%matplotlib inline \n",
        "import matplotlib.pyplot as plt"
      ],
      "execution_count": null,
      "outputs": []
    },
    {
      "cell_type": "code",
      "metadata": {
        "colab": {
          "base_uri": "https://localhost:8080/",
          "height": 282
        },
        "id": "GJKXMNHp_el0",
        "outputId": "9d613976-f827-4902-d6f4-5dc288e9ce67"
      },
      "source": [
        "df['pos'].hist(grid = False)"
      ],
      "execution_count": null,
      "outputs": [
        {
          "output_type": "execute_result",
          "data": {
            "text/plain": [
              "<matplotlib.axes._subplots.AxesSubplot at 0x7f90b0eb9bd0>"
            ]
          },
          "metadata": {},
          "execution_count": 17
        },
        {
          "output_type": "display_data",
          "data": {
            "image/png": "[encoded data removed]",
            "text/plain": [
              "<Figure size 432x288 with 1 Axes>"
            ]
          },
          "metadata": {
            "needs_background": "light"
          }
        }
      ]
    },
    {
      "cell_type": "code",
      "metadata": {
        "colab": {
          "base_uri": "https://localhost:8080/",
          "height": 282
        },
        "id": "QdivZQkTASxI",
        "outputId": "9c10f9af-5b45-4c87-8ddb-299dc70d48d1"
      },
      "source": [
        "df['neg'].hist(grid = False)"
      ],
      "execution_count": null,
      "outputs": [
        {
          "output_type": "execute_result",
          "data": {
            "text/plain": [
              "<matplotlib.axes._subplots.AxesSubplot at 0x7f90b06978d0>"
            ]
          },
          "metadata": {},
          "execution_count": 18
        },
        {
          "output_type": "display_data",
          "data": {
            "image/png": "[encoded data removed]",
            "text/plain": [
              "<Figure size 432x288 with 1 Axes>"
            ]
          },
          "metadata": {
            "needs_background": "light"
          }
        }
      ]
    },
    {
      "cell_type": "markdown",
      "metadata": {
        "id": "JeUKfM9yA__5"
      },
      "source": [
        "\"unfair\""
      ]
    },
    {
      "cell_type": "code",
      "metadata": {
        "colab": {
          "base_uri": "https://localhost:8080/",
          "height": 203
        },
        "id": "-mX_YpjIBBWB",
        "outputId": "d9e9780a-7cb3-4127-d639-8b0586c69018"
      },
      "source": [
        "df = pd.read_csv('Tweets/unfairsg_tweets.csv')\n",
        "df.head()"
      ],
      "execution_count": null,
      "outputs": [
        {
          "output_type": "execute_result",
          "data": {
            "text/html": [
              "<div>\n",
              "<style scoped>\n",
              "    .dataframe tbody tr th:only-of-type {\n",
              "        vertical-align: middle;\n",
              "    }\n",
              "\n",
              "    .dataframe tbody tr th {\n",
              "        vertical-align: top;\n",
              "    }\n",
              "\n",
              "    .dataframe thead th {\n",
              "        text-align: right;\n",
              "    }\n",
              "</style>\n",
              "<table border=\"1\" class=\"dataframe\">\n",
              "  <thead>\n",
              "    <tr style=\"text-align: right;\">\n",
              "      <th></th>\n",
              "      <th>Unnamed: 0</th>\n",
              "      <th>date</th>\n",
              "      <th>content</th>\n",
              "    </tr>\n",
              "  </thead>\n",
              "  <tbody>\n",
              "    <tr>\n",
              "      <th>0</th>\n",
              "      <td>0</td>\n",
              "      <td>2020-12-16 18:04:50+00:00</td>\n",
              "      <td>so fucking unfair fuck fuck fuck you</td>\n",
              "    </tr>\n",
              "    <tr>\n",
              "      <th>1</th>\n",
              "      <td>1</td>\n",
              "      <td>2020-12-16 17:57:57+00:00</td>\n",
              "      <td>i fucking hate you. its always been you. never...</td>\n",
              "    </tr>\n",
              "    <tr>\n",
              "      <th>2</th>\n",
              "      <td>2</td>\n",
              "      <td>2020-12-16 14:54:54+00:00</td>\n",
              "      <td>Can I just point out one thing?\\n\\nI just find...</td>\n",
              "    </tr>\n",
              "    <tr>\n",
              "      <th>3</th>\n",
              "      <td>3</td>\n",
              "      <td>2020-12-01 03:58:06+00:00</td>\n",
              "      <td>this is so unfair :D</td>\n",
              "    </tr>\n",
              "    <tr>\n",
              "      <th>4</th>\n",
              "      <td>4</td>\n",
              "      <td>2020-11-29 09:45:07+00:00</td>\n",
              "      <td>Today someone asked if I'm bf-ing my baby and ...</td>\n",
              "    </tr>\n",
              "  </tbody>\n",
              "</table>\n",
              "</div>"
            ],
            "text/plain": [
              "   Unnamed: 0  ...                                            content\n",
              "0           0  ...               so fucking unfair fuck fuck fuck you\n",
              "1           1  ...  i fucking hate you. its always been you. never...\n",
              "2           2  ...  Can I just point out one thing?\\n\\nI just find...\n",
              "3           3  ...                               this is so unfair :D\n",
              "4           4  ...  Today someone asked if I'm bf-ing my baby and ...\n",
              "\n",
              "[5 rows x 3 columns]"
            ]
          },
          "metadata": {},
          "execution_count": 19
        }
      ]
    },
    {
      "cell_type": "code",
      "metadata": {
        "colab": {
          "base_uri": "https://localhost:8080/",
          "height": 542
        },
        "id": "v1eqACXrBH6B",
        "outputId": "664d081e-444a-46ad-958c-aad9a22e649d"
      },
      "source": [
        "analyzer = SentimentIntensityAnalyzer()\n",
        "df['compound'] = [analyzer.polarity_scores(x)['compound'] for x in df['content']]\n",
        "df['neg'] = [analyzer.polarity_scores(x)['neg'] for x in df['content']]\n",
        "df['neu'] = [analyzer.polarity_scores(x)['neu'] for x in df['content']]\n",
        "df['pos'] = [analyzer.polarity_scores(x)['pos'] for x in df['content']]\n",
        "\n",
        "df.sort_values('pos', ascending = False, inplace = True)\n",
        "df"
      ],
      "execution_count": null,
      "outputs": [
        {
          "output_type": "execute_result",
          "data": {
            "text/html": [
              "<div>\n",
              "<style scoped>\n",
              "    .dataframe tbody tr th:only-of-type {\n",
              "        vertical-align: middle;\n",
              "    }\n",
              "\n",
              "    .dataframe tbody tr th {\n",
              "        vertical-align: top;\n",
              "    }\n",
              "\n",
              "    .dataframe thead th {\n",
              "        text-align: right;\n",
              "    }\n",
              "</style>\n",
              "<table border=\"1\" class=\"dataframe\">\n",
              "  <thead>\n",
              "    <tr style=\"text-align: right;\">\n",
              "      <th></th>\n",
              "      <th>Unnamed: 0</th>\n",
              "      <th>date</th>\n",
              "      <th>content</th>\n",
              "      <th>compound</th>\n",
              "      <th>neg</th>\n",
              "      <th>neu</th>\n",
              "      <th>pos</th>\n",
              "    </tr>\n",
              "  </thead>\n",
              "  <tbody>\n",
              "    <tr>\n",
              "      <th>3</th>\n",
              "      <td>3</td>\n",
              "      <td>2020-12-01 03:58:06+00:00</td>\n",
              "      <td>this is so unfair :D</td>\n",
              "      <td>0.0824</td>\n",
              "      <td>0.353</td>\n",
              "      <td>0.265</td>\n",
              "      <td>0.381</td>\n",
              "    </tr>\n",
              "    <tr>\n",
              "      <th>10</th>\n",
              "      <td>10</td>\n",
              "      <td>2020-09-14 13:34:55+00:00</td>\n",
              "      <td>i miss my boyfriend a lot omg life is unfair 💔💔💔</td>\n",
              "      <td>0.1531</td>\n",
              "      <td>0.405</td>\n",
              "      <td>0.231</td>\n",
              "      <td>0.364</td>\n",
              "    </tr>\n",
              "    <tr>\n",
              "      <th>11</th>\n",
              "      <td>11</td>\n",
              "      <td>2020-08-26 15:53:18+00:00</td>\n",
              "      <td>Why is life so unfair. Why does everything hav...</td>\n",
              "      <td>0.2752</td>\n",
              "      <td>0.166</td>\n",
              "      <td>0.540</td>\n",
              "      <td>0.295</td>\n",
              "    </tr>\n",
              "    <tr>\n",
              "      <th>12</th>\n",
              "      <td>12</td>\n",
              "      <td>2020-08-23 07:53:03+00:00</td>\n",
              "      <td>'\"Nothing should be this beautiful. The gods a...</td>\n",
              "      <td>-0.0396</td>\n",
              "      <td>0.256</td>\n",
              "      <td>0.489</td>\n",
              "      <td>0.254</td>\n",
              "    </tr>\n",
              "    <tr>\n",
              "      <th>8</th>\n",
              "      <td>8</td>\n",
              "      <td>2020-09-19 18:08:31+00:00</td>\n",
              "      <td>Alaaa you can say ref’s decision unfair to uni...</td>\n",
              "      <td>-0.7002</td>\n",
              "      <td>0.376</td>\n",
              "      <td>0.391</td>\n",
              "      <td>0.232</td>\n",
              "    </tr>\n",
              "    <tr>\n",
              "      <th>15</th>\n",
              "      <td>15</td>\n",
              "      <td>2020-04-22 16:21:38+00:00</td>\n",
              "      <td>📺 Love 💓 alarm📲\\n.\\n“I think it is so unfair t...</td>\n",
              "      <td>0.0795</td>\n",
              "      <td>0.240</td>\n",
              "      <td>0.537</td>\n",
              "      <td>0.223</td>\n",
              "    </tr>\n",
              "    <tr>\n",
              "      <th>5</th>\n",
              "      <td>5</td>\n",
              "      <td>2020-11-23 12:13:17+00:00</td>\n",
              "      <td>When toxic person can no longer control u, the...</td>\n",
              "      <td>0.7543</td>\n",
              "      <td>0.113</td>\n",
              "      <td>0.680</td>\n",
              "      <td>0.207</td>\n",
              "    </tr>\n",
              "    <tr>\n",
              "      <th>13</th>\n",
              "      <td>13</td>\n",
              "      <td>2020-08-18 04:14:42+00:00</td>\n",
              "      <td>It isn't 'blaming the victim' when he/she was ...</td>\n",
              "      <td>-0.1174</td>\n",
              "      <td>0.166</td>\n",
              "      <td>0.676</td>\n",
              "      <td>0.158</td>\n",
              "    </tr>\n",
              "    <tr>\n",
              "      <th>7</th>\n",
              "      <td>7</td>\n",
              "      <td>2020-10-02 06:52:13+00:00</td>\n",
              "      <td>why dont tutors just bump my 90% to a 100% thi...</td>\n",
              "      <td>-0.4636</td>\n",
              "      <td>0.094</td>\n",
              "      <td>0.780</td>\n",
              "      <td>0.125</td>\n",
              "    </tr>\n",
              "    <tr>\n",
              "      <th>4</th>\n",
              "      <td>4</td>\n",
              "      <td>2020-11-29 09:45:07+00:00</td>\n",
              "      <td>Today someone asked if I'm bf-ing my baby and ...</td>\n",
              "      <td>-0.6040</td>\n",
              "      <td>0.208</td>\n",
              "      <td>0.675</td>\n",
              "      <td>0.118</td>\n",
              "    </tr>\n",
              "    <tr>\n",
              "      <th>2</th>\n",
              "      <td>2</td>\n",
              "      <td>2020-12-16 14:54:54+00:00</td>\n",
              "      <td>Can I just point out one thing?\\n\\nI just find...</td>\n",
              "      <td>-0.9179</td>\n",
              "      <td>0.250</td>\n",
              "      <td>0.710</td>\n",
              "      <td>0.040</td>\n",
              "    </tr>\n",
              "    <tr>\n",
              "      <th>0</th>\n",
              "      <td>0</td>\n",
              "      <td>2020-12-16 18:04:50+00:00</td>\n",
              "      <td>so fucking unfair fuck fuck fuck you</td>\n",
              "      <td>-0.9430</td>\n",
              "      <td>0.833</td>\n",
              "      <td>0.167</td>\n",
              "      <td>0.000</td>\n",
              "    </tr>\n",
              "    <tr>\n",
              "      <th>1</th>\n",
              "      <td>1</td>\n",
              "      <td>2020-12-16 17:57:57+00:00</td>\n",
              "      <td>i fucking hate you. its always been you. never...</td>\n",
              "      <td>-0.8255</td>\n",
              "      <td>0.390</td>\n",
              "      <td>0.610</td>\n",
              "      <td>0.000</td>\n",
              "    </tr>\n",
              "    <tr>\n",
              "      <th>6</th>\n",
              "      <td>6</td>\n",
              "      <td>2020-10-22 11:39:12+00:00</td>\n",
              "      <td>Life is unfair.</td>\n",
              "      <td>-0.4767</td>\n",
              "      <td>0.608</td>\n",
              "      <td>0.392</td>\n",
              "      <td>0.000</td>\n",
              "    </tr>\n",
              "    <tr>\n",
              "      <th>9</th>\n",
              "      <td>9</td>\n",
              "      <td>2020-09-19 18:04:12+00:00</td>\n",
              "      <td>Bro the foot on the line rule for goalkeepers ...</td>\n",
              "      <td>-0.7579</td>\n",
              "      <td>0.371</td>\n",
              "      <td>0.629</td>\n",
              "      <td>0.000</td>\n",
              "    </tr>\n",
              "    <tr>\n",
              "      <th>14</th>\n",
              "      <td>14</td>\n",
              "      <td>2020-07-13 08:37:46+00:00</td>\n",
              "      <td>Absolutely ridiculous ruling. Even more unfair...</td>\n",
              "      <td>-0.8998</td>\n",
              "      <td>0.414</td>\n",
              "      <td>0.586</td>\n",
              "      <td>0.000</td>\n",
              "    </tr>\n",
              "  </tbody>\n",
              "</table>\n",
              "</div>"
            ],
            "text/plain": [
              "    Unnamed: 0                       date  ...    neu    pos\n",
              "3            3  2020-12-01 03:58:06+00:00  ...  0.265  0.381\n",
              "10          10  2020-09-14 13:34:55+00:00  ...  0.231  0.364\n",
              "11          11  2020-08-26 15:53:18+00:00  ...  0.540  0.295\n",
              "12          12  2020-08-23 07:53:03+00:00  ...  0.489  0.254\n",
              "8            8  2020-09-19 18:08:31+00:00  ...  0.391  0.232\n",
              "15          15  2020-04-22 16:21:38+00:00  ...  0.537  0.223\n",
              "5            5  2020-11-23 12:13:17+00:00  ...  0.680  0.207\n",
              "13          13  2020-08-18 04:14:42+00:00  ...  0.676  0.158\n",
              "7            7  2020-10-02 06:52:13+00:00  ...  0.780  0.125\n",
              "4            4  2020-11-29 09:45:07+00:00  ...  0.675  0.118\n",
              "2            2  2020-12-16 14:54:54+00:00  ...  0.710  0.040\n",
              "0            0  2020-12-16 18:04:50+00:00  ...  0.167  0.000\n",
              "1            1  2020-12-16 17:57:57+00:00  ...  0.610  0.000\n",
              "6            6  2020-10-22 11:39:12+00:00  ...  0.392  0.000\n",
              "9            9  2020-09-19 18:04:12+00:00  ...  0.629  0.000\n",
              "14          14  2020-07-13 08:37:46+00:00  ...  0.586  0.000\n",
              "\n",
              "[16 rows x 7 columns]"
            ]
          },
          "metadata": {},
          "execution_count": 20
        }
      ]
    },
    {
      "cell_type": "code",
      "metadata": {
        "colab": {
          "base_uri": "https://localhost:8080/",
          "height": 282
        },
        "id": "oDwa84r3BSqb",
        "outputId": "2348bf51-3beb-44dc-ebe7-c4590701ed2d"
      },
      "source": [
        "df['pos'].hist(grid = False)"
      ],
      "execution_count": null,
      "outputs": [
        {
          "output_type": "execute_result",
          "data": {
            "text/plain": [
              "<matplotlib.axes._subplots.AxesSubplot at 0x7f90b0136690>"
            ]
          },
          "metadata": {},
          "execution_count": 21
        },
        {
          "output_type": "display_data",
          "data": {
            "image/png": "[encoded data removed]",
            "text/plain": [
              "<Figure size 432x288 with 1 Axes>"
            ]
          },
          "metadata": {
            "needs_background": "light"
          }
        }
      ]
    },
    {
      "cell_type": "code",
      "metadata": {
        "colab": {
          "base_uri": "https://localhost:8080/",
          "height": 282
        },
        "id": "iLVActQ2BWrF",
        "outputId": "daebde27-ba54-4595-8426-89a4726c8770"
      },
      "source": [
        "df['neg'].hist(grid = False)"
      ],
      "execution_count": null,
      "outputs": [
        {
          "output_type": "execute_result",
          "data": {
            "text/plain": [
              "<matplotlib.axes._subplots.AxesSubplot at 0x7f90b1061910>"
            ]
          },
          "metadata": {},
          "execution_count": 22
        },
        {
          "output_type": "display_data",
          "data": {
            "image/png": "[encoded data removed]",
            "text/plain": [
              "<Figure size 432x288 with 1 Axes>"
            ]
          },
          "metadata": {
            "needs_background": "light"
          }
        }
      ]
    },
    {
      "cell_type": "markdown",
      "metadata": {
        "id": "21Ez9daG1gAc"
      },
      "source": [
        "\"women\""
      ]
    },
    {
      "cell_type": "code",
      "metadata": {
        "colab": {
          "base_uri": "https://localhost:8080/",
          "height": 203
        },
        "id": "_fVAxwMuu8I2",
        "outputId": "97d072d4-741f-4e72-c015-268e5ece6ad6"
      },
      "source": [
        "df = pd.read_csv('Tweets/womensg_tweets.csv')\n",
        "df.head()"
      ],
      "execution_count": null,
      "outputs": [
        {
          "output_type": "execute_result",
          "data": {
            "text/html": [
              "<div>\n",
              "<style scoped>\n",
              "    .dataframe tbody tr th:only-of-type {\n",
              "        vertical-align: middle;\n",
              "    }\n",
              "\n",
              "    .dataframe tbody tr th {\n",
              "        vertical-align: top;\n",
              "    }\n",
              "\n",
              "    .dataframe thead th {\n",
              "        text-align: right;\n",
              "    }\n",
              "</style>\n",
              "<table border=\"1\" class=\"dataframe\">\n",
              "  <thead>\n",
              "    <tr style=\"text-align: right;\">\n",
              "      <th></th>\n",
              "      <th>Unnamed: 0</th>\n",
              "      <th>date</th>\n",
              "      <th>content</th>\n",
              "    </tr>\n",
              "  </thead>\n",
              "  <tbody>\n",
              "    <tr>\n",
              "      <th>0</th>\n",
              "      <td>0</td>\n",
              "      <td>2020-12-30 05:25:55+00:00</td>\n",
              "      <td>It’s always fun to eavesdrop on church youth g...</td>\n",
              "    </tr>\n",
              "    <tr>\n",
              "      <th>1</th>\n",
              "      <td>1</td>\n",
              "      <td>2020-12-30 04:41:10+00:00</td>\n",
              "      <td>stopppp ruininggggg women</td>\n",
              "    </tr>\n",
              "    <tr>\n",
              "      <th>2</th>\n",
              "      <td>2</td>\n",
              "      <td>2020-12-30 03:47:38+00:00</td>\n",
              "      <td>Without really planning on it, most of the boo...</td>\n",
              "    </tr>\n",
              "    <tr>\n",
              "      <th>3</th>\n",
              "      <td>3</td>\n",
              "      <td>2020-12-26 04:31:20+00:00</td>\n",
              "      <td>I am starting to think there was a secret 14 m...</td>\n",
              "    </tr>\n",
              "    <tr>\n",
              "      <th>4</th>\n",
              "      <td>4</td>\n",
              "      <td>2020-12-25 03:24:05+00:00</td>\n",
              "      <td>The Ripper docu clearly telling us — women tha...</td>\n",
              "    </tr>\n",
              "  </tbody>\n",
              "</table>\n",
              "</div>"
            ],
            "text/plain": [
              "   Unnamed: 0  ...                                            content\n",
              "0           0  ...  It’s always fun to eavesdrop on church youth g...\n",
              "1           1  ...                          stopppp ruininggggg women\n",
              "2           2  ...  Without really planning on it, most of the boo...\n",
              "3           3  ...  I am starting to think there was a secret 14 m...\n",
              "4           4  ...  The Ripper docu clearly telling us — women tha...\n",
              "\n",
              "[5 rows x 3 columns]"
            ]
          },
          "metadata": {},
          "execution_count": 23
        }
      ]
    },
    {
      "cell_type": "code",
      "metadata": {
        "colab": {
          "base_uri": "https://localhost:8080/",
          "height": 417
        },
        "id": "yMzUtd_4u8I3",
        "outputId": "661b2863-f255-40fc-8c35-ab67b3615f35"
      },
      "source": [
        "analyzer = SentimentIntensityAnalyzer()\n",
        "df['compound'] = [analyzer.polarity_scores(x)['compound'] for x in df['content']]\n",
        "df['neg'] = [analyzer.polarity_scores(x)['neg'] for x in df['content']]\n",
        "df['neu'] = [analyzer.polarity_scores(x)['neu'] for x in df['content']]\n",
        "df['pos'] = [analyzer.polarity_scores(x)['pos'] for x in df['content']]\n",
        "\n",
        "df.sort_values('pos', ascending = False, inplace = True)\n",
        "df"
      ],
      "execution_count": null,
      "outputs": [
        {
          "output_type": "execute_result",
          "data": {
            "text/html": [
              "<div>\n",
              "<style scoped>\n",
              "    .dataframe tbody tr th:only-of-type {\n",
              "        vertical-align: middle;\n",
              "    }\n",
              "\n",
              "    .dataframe tbody tr th {\n",
              "        vertical-align: top;\n",
              "    }\n",
              "\n",
              "    .dataframe thead th {\n",
              "        text-align: right;\n",
              "    }\n",
              "</style>\n",
              "<table border=\"1\" class=\"dataframe\">\n",
              "  <thead>\n",
              "    <tr style=\"text-align: right;\">\n",
              "      <th></th>\n",
              "      <th>Unnamed: 0</th>\n",
              "      <th>date</th>\n",
              "      <th>content</th>\n",
              "      <th>compound</th>\n",
              "      <th>neg</th>\n",
              "      <th>neu</th>\n",
              "      <th>pos</th>\n",
              "    </tr>\n",
              "  </thead>\n",
              "  <tbody>\n",
              "    <tr>\n",
              "      <th>137</th>\n",
              "      <td>137</td>\n",
              "      <td>2019-08-07 14:18:17+00:00</td>\n",
              "      <td>1 like and im an intellectual that respects women</td>\n",
              "      <td>0.7964</td>\n",
              "      <td>0.000</td>\n",
              "      <td>0.426</td>\n",
              "      <td>0.574</td>\n",
              "    </tr>\n",
              "    <tr>\n",
              "      <th>189</th>\n",
              "      <td>189</td>\n",
              "      <td>2018-12-11 15:49:21+00:00</td>\n",
              "      <td>I love women....but I really don't like whores !</td>\n",
              "      <td>0.7641</td>\n",
              "      <td>0.146</td>\n",
              "      <td>0.367</td>\n",
              "      <td>0.487</td>\n",
              "    </tr>\n",
              "    <tr>\n",
              "      <th>106</th>\n",
              "      <td>106</td>\n",
              "      <td>2019-10-29 03:28:01+00:00</td>\n",
              "      <td>Say what but @ArvindKejriwal’s Delhi Govt actu...</td>\n",
              "      <td>0.9650</td>\n",
              "      <td>0.064</td>\n",
              "      <td>0.475</td>\n",
              "      <td>0.461</td>\n",
              "    </tr>\n",
              "    <tr>\n",
              "      <th>80</th>\n",
              "      <td>80</td>\n",
              "      <td>2020-03-08 11:43:08+00:00</td>\n",
              "      <td>Happy International Women’s Day to all of you ...</td>\n",
              "      <td>0.9349</td>\n",
              "      <td>0.000</td>\n",
              "      <td>0.556</td>\n",
              "      <td>0.444</td>\n",
              "    </tr>\n",
              "    <tr>\n",
              "      <th>96</th>\n",
              "      <td>96</td>\n",
              "      <td>2020-01-30 06:23:54+00:00</td>\n",
              "      <td>Filipino women are cute af.</td>\n",
              "      <td>0.4588</td>\n",
              "      <td>0.000</td>\n",
              "      <td>0.571</td>\n",
              "      <td>0.429</td>\n",
              "    </tr>\n",
              "    <tr>\n",
              "      <th>...</th>\n",
              "      <td>...</td>\n",
              "      <td>...</td>\n",
              "      <td>...</td>\n",
              "      <td>...</td>\n",
              "      <td>...</td>\n",
              "      <td>...</td>\n",
              "      <td>...</td>\n",
              "    </tr>\n",
              "    <tr>\n",
              "      <th>67</th>\n",
              "      <td>67</td>\n",
              "      <td>2020-05-22 11:29:10+00:00</td>\n",
              "      <td>Just waiting for face mask fashion statements....</td>\n",
              "      <td>-0.3400</td>\n",
              "      <td>0.085</td>\n",
              "      <td>0.915</td>\n",
              "      <td>0.000</td>\n",
              "    </tr>\n",
              "    <tr>\n",
              "      <th>200</th>\n",
              "      <td>200</td>\n",
              "      <td>2018-09-19 07:42:47+00:00</td>\n",
              "      <td>Note to men: if you’re meeting with a group th...</td>\n",
              "      <td>-0.9022</td>\n",
              "      <td>0.241</td>\n",
              "      <td>0.759</td>\n",
              "      <td>0.000</td>\n",
              "    </tr>\n",
              "    <tr>\n",
              "      <th>196</th>\n",
              "      <td>196</td>\n",
              "      <td>2018-09-27 02:59:28+00:00</td>\n",
              "      <td>Only 11% of #cybersecurity professionals are w...</td>\n",
              "      <td>0.0000</td>\n",
              "      <td>0.000</td>\n",
              "      <td>1.000</td>\n",
              "      <td>0.000</td>\n",
              "    </tr>\n",
              "    <tr>\n",
              "      <th>72</th>\n",
              "      <td>72</td>\n",
              "      <td>2020-05-08 07:45:00+00:00</td>\n",
              "      <td>“In this country, you gotta make the money fir...</td>\n",
              "      <td>0.0000</td>\n",
              "      <td>0.000</td>\n",
              "      <td>1.000</td>\n",
              "      <td>0.000</td>\n",
              "    </tr>\n",
              "    <tr>\n",
              "      <th>207</th>\n",
              "      <td>207</td>\n",
              "      <td>2018-09-15 15:19:15+00:00</td>\n",
              "      <td>Brandon Flowers out here impregnating men and ...</td>\n",
              "      <td>0.0000</td>\n",
              "      <td>0.000</td>\n",
              "      <td>1.000</td>\n",
              "      <td>0.000</td>\n",
              "    </tr>\n",
              "  </tbody>\n",
              "</table>\n",
              "<p>276 rows × 7 columns</p>\n",
              "</div>"
            ],
            "text/plain": [
              "     Unnamed: 0                       date  ...    neu    pos\n",
              "137         137  2019-08-07 14:18:17+00:00  ...  0.426  0.574\n",
              "189         189  2018-12-11 15:49:21+00:00  ...  0.367  0.487\n",
              "106         106  2019-10-29 03:28:01+00:00  ...  0.475  0.461\n",
              "80           80  2020-03-08 11:43:08+00:00  ...  0.556  0.444\n",
              "96           96  2020-01-30 06:23:54+00:00  ...  0.571  0.429\n",
              "..          ...                        ...  ...    ...    ...\n",
              "67           67  2020-05-22 11:29:10+00:00  ...  0.915  0.000\n",
              "200         200  2018-09-19 07:42:47+00:00  ...  0.759  0.000\n",
              "196         196  2018-09-27 02:59:28+00:00  ...  1.000  0.000\n",
              "72           72  2020-05-08 07:45:00+00:00  ...  1.000  0.000\n",
              "207         207  2018-09-15 15:19:15+00:00  ...  1.000  0.000\n",
              "\n",
              "[276 rows x 7 columns]"
            ]
          },
          "metadata": {},
          "execution_count": 24
        }
      ]
    },
    {
      "cell_type": "code",
      "metadata": {
        "colab": {
          "base_uri": "https://localhost:8080/",
          "height": 282
        },
        "id": "aE0Iemlnu8I4",
        "outputId": "cde68fec-d531-44c3-debf-0c1b252f9cb6"
      },
      "source": [
        "df['pos'].hist(grid = False)"
      ],
      "execution_count": null,
      "outputs": [
        {
          "output_type": "execute_result",
          "data": {
            "text/plain": [
              "<matplotlib.axes._subplots.AxesSubplot at 0x7f90b109c250>"
            ]
          },
          "metadata": {},
          "execution_count": 25
        },
        {
          "output_type": "display_data",
          "data": {
            "image/png": "[encoded data removed]",
            "text/plain": [
              "<Figure size 432x288 with 1 Axes>"
            ]
          },
          "metadata": {
            "needs_background": "light"
          }
        }
      ]
    },
    {
      "cell_type": "code",
      "metadata": {
        "colab": {
          "base_uri": "https://localhost:8080/",
          "height": 282
        },
        "id": "X1scNUz_u8I6",
        "outputId": "700d52b3-307a-4be4-ce85-04b9db69a119"
      },
      "source": [
        "df['neg'].hist(grid = False)"
      ],
      "execution_count": null,
      "outputs": [
        {
          "output_type": "execute_result",
          "data": {
            "text/plain": [
              "<matplotlib.axes._subplots.AxesSubplot at 0x7f90b0fd6790>"
            ]
          },
          "metadata": {},
          "execution_count": 26
        },
        {
          "output_type": "display_data",
          "data": {
            "image/png": "[encoded data removed]",
            "text/plain": [
              "<Figure size 432x288 with 1 Axes>"
            ]
          },
          "metadata": {
            "needs_background": "light"
          }
        }
      ]
    },
    {
      "cell_type": "markdown",
      "metadata": {
        "id": "l_wUa5qr1cs9"
      },
      "source": [
        "\"equal\""
      ]
    },
    {
      "cell_type": "code",
      "metadata": {
        "colab": {
          "base_uri": "https://localhost:8080/",
          "height": 203
        },
        "id": "dSCYt1wuu8xE",
        "outputId": "be6e5b53-e9f8-4cb0-e647-af3c67eb2579"
      },
      "source": [
        "df = pd.read_csv('Tweets/equalsg_tweets.csv')\n",
        "df.head()"
      ],
      "execution_count": null,
      "outputs": [
        {
          "output_type": "execute_result",
          "data": {
            "text/html": [
              "<div>\n",
              "<style scoped>\n",
              "    .dataframe tbody tr th:only-of-type {\n",
              "        vertical-align: middle;\n",
              "    }\n",
              "\n",
              "    .dataframe tbody tr th {\n",
              "        vertical-align: top;\n",
              "    }\n",
              "\n",
              "    .dataframe thead th {\n",
              "        text-align: right;\n",
              "    }\n",
              "</style>\n",
              "<table border=\"1\" class=\"dataframe\">\n",
              "  <thead>\n",
              "    <tr style=\"text-align: right;\">\n",
              "      <th></th>\n",
              "      <th>Unnamed: 0</th>\n",
              "      <th>date</th>\n",
              "      <th>content</th>\n",
              "    </tr>\n",
              "  </thead>\n",
              "  <tbody>\n",
              "    <tr>\n",
              "      <th>0</th>\n",
              "      <td>0</td>\n",
              "      <td>2020-09-28 13:07:35+00:00</td>\n",
              "      <td>even if u wna say religion isnt equal to human...</td>\n",
              "    </tr>\n",
              "    <tr>\n",
              "      <th>1</th>\n",
              "      <td>1</td>\n",
              "      <td>2020-06-11 07:48:57+00:00</td>\n",
              "      <td>4 hours of Bollywood is like equal to 16episod...</td>\n",
              "    </tr>\n",
              "    <tr>\n",
              "      <th>2</th>\n",
              "      <td>2</td>\n",
              "      <td>2020-06-10 01:22:46+00:00</td>\n",
              "      <td>You say black lives matter, but segregate the ...</td>\n",
              "    </tr>\n",
              "    <tr>\n",
              "      <th>3</th>\n",
              "      <td>3</td>\n",
              "      <td>2020-06-02 13:05:23+00:00</td>\n",
              "      <td>I just hope that we will learn our lesson and ...</td>\n",
              "    </tr>\n",
              "    <tr>\n",
              "      <th>4</th>\n",
              "      <td>4</td>\n",
              "      <td>2020-04-16 12:18:53+00:00</td>\n",
              "      <td>ZOOM CALLS DON'T EQUAL PRODUCTIVITY\\nZOOM CALL...</td>\n",
              "    </tr>\n",
              "  </tbody>\n",
              "</table>\n",
              "</div>"
            ],
            "text/plain": [
              "   Unnamed: 0  ...                                            content\n",
              "0           0  ...  even if u wna say religion isnt equal to human...\n",
              "1           1  ...  4 hours of Bollywood is like equal to 16episod...\n",
              "2           2  ...  You say black lives matter, but segregate the ...\n",
              "3           3  ...  I just hope that we will learn our lesson and ...\n",
              "4           4  ...  ZOOM CALLS DON'T EQUAL PRODUCTIVITY\\nZOOM CALL...\n",
              "\n",
              "[5 rows x 3 columns]"
            ]
          },
          "metadata": {},
          "execution_count": 27
        }
      ]
    },
    {
      "cell_type": "code",
      "metadata": {
        "colab": {
          "base_uri": "https://localhost:8080/",
          "height": 480
        },
        "id": "tcpkytsEu8xE",
        "outputId": "14aba255-f4ea-47d9-ce4a-ceea2e66dd84"
      },
      "source": [
        "analyzer = SentimentIntensityAnalyzer()\n",
        "df['compound'] = [analyzer.polarity_scores(x)['compound'] for x in df['content']]\n",
        "df['neg'] = [analyzer.polarity_scores(x)['neg'] for x in df['content']]\n",
        "df['neu'] = [analyzer.polarity_scores(x)['neu'] for x in df['content']]\n",
        "df['pos'] = [analyzer.polarity_scores(x)['pos'] for x in df['content']]\n",
        "\n",
        "df.sort_values('pos', ascending = False, inplace = True)\n",
        "df"
      ],
      "execution_count": null,
      "outputs": [
        {
          "output_type": "execute_result",
          "data": {
            "text/html": [
              "<div>\n",
              "<style scoped>\n",
              "    .dataframe tbody tr th:only-of-type {\n",
              "        vertical-align: middle;\n",
              "    }\n",
              "\n",
              "    .dataframe tbody tr th {\n",
              "        vertical-align: top;\n",
              "    }\n",
              "\n",
              "    .dataframe thead th {\n",
              "        text-align: right;\n",
              "    }\n",
              "</style>\n",
              "<table border=\"1\" class=\"dataframe\">\n",
              "  <thead>\n",
              "    <tr style=\"text-align: right;\">\n",
              "      <th></th>\n",
              "      <th>Unnamed: 0</th>\n",
              "      <th>date</th>\n",
              "      <th>content</th>\n",
              "      <th>compound</th>\n",
              "      <th>neg</th>\n",
              "      <th>neu</th>\n",
              "      <th>pos</th>\n",
              "    </tr>\n",
              "  </thead>\n",
              "  <tbody>\n",
              "    <tr>\n",
              "      <th>8</th>\n",
              "      <td>8</td>\n",
              "      <td>2020-03-08 11:43:08+00:00</td>\n",
              "      <td>Happy International Women’s Day to all of you ...</td>\n",
              "      <td>0.9349</td>\n",
              "      <td>0.000</td>\n",
              "      <td>0.556</td>\n",
              "      <td>0.444</td>\n",
              "    </tr>\n",
              "    <tr>\n",
              "      <th>7</th>\n",
              "      <td>7</td>\n",
              "      <td>2020-03-17 00:20:28+00:00</td>\n",
              "      <td>How lovely to use my phone freely on the train...</td>\n",
              "      <td>0.9655</td>\n",
              "      <td>0.000</td>\n",
              "      <td>0.584</td>\n",
              "      <td>0.416</td>\n",
              "    </tr>\n",
              "    <tr>\n",
              "      <th>1</th>\n",
              "      <td>1</td>\n",
              "      <td>2020-06-11 07:48:57+00:00</td>\n",
              "      <td>4 hours of Bollywood is like equal to 16episod...</td>\n",
              "      <td>0.6597</td>\n",
              "      <td>0.090</td>\n",
              "      <td>0.613</td>\n",
              "      <td>0.297</td>\n",
              "    </tr>\n",
              "    <tr>\n",
              "      <th>11</th>\n",
              "      <td>11</td>\n",
              "      <td>2019-12-24 07:08:42+00:00</td>\n",
              "      <td>Such a fucked up day, everyone just fucking up...</td>\n",
              "      <td>0.9198</td>\n",
              "      <td>0.110</td>\n",
              "      <td>0.613</td>\n",
              "      <td>0.277</td>\n",
              "    </tr>\n",
              "    <tr>\n",
              "      <th>9</th>\n",
              "      <td>9</td>\n",
              "      <td>2020-01-05 08:36:57+00:00</td>\n",
              "      <td>Some of y’all rlly think rights are a piece of...</td>\n",
              "      <td>0.7906</td>\n",
              "      <td>0.073</td>\n",
              "      <td>0.667</td>\n",
              "      <td>0.260</td>\n",
              "    </tr>\n",
              "    <tr>\n",
              "      <th>2</th>\n",
              "      <td>2</td>\n",
              "      <td>2020-06-10 01:22:46+00:00</td>\n",
              "      <td>You say black lives matter, but segregate the ...</td>\n",
              "      <td>0.5994</td>\n",
              "      <td>0.000</td>\n",
              "      <td>0.803</td>\n",
              "      <td>0.197</td>\n",
              "    </tr>\n",
              "    <tr>\n",
              "      <th>5</th>\n",
              "      <td>5</td>\n",
              "      <td>2020-04-14 15:07:01+00:00</td>\n",
              "      <td>i’m telling y’all - age does not equal maturit...</td>\n",
              "      <td>0.3036</td>\n",
              "      <td>0.184</td>\n",
              "      <td>0.620</td>\n",
              "      <td>0.196</td>\n",
              "    </tr>\n",
              "    <tr>\n",
              "      <th>3</th>\n",
              "      <td>3</td>\n",
              "      <td>2020-06-02 13:05:23+00:00</td>\n",
              "      <td>I just hope that we will learn our lesson and ...</td>\n",
              "      <td>0.6369</td>\n",
              "      <td>0.064</td>\n",
              "      <td>0.751</td>\n",
              "      <td>0.185</td>\n",
              "    </tr>\n",
              "    <tr>\n",
              "      <th>6</th>\n",
              "      <td>6</td>\n",
              "      <td>2020-04-04 13:06:50+00:00</td>\n",
              "      <td>\"People are not clones in a monoculture, so wh...</td>\n",
              "      <td>0.0202</td>\n",
              "      <td>0.091</td>\n",
              "      <td>0.816</td>\n",
              "      <td>0.093</td>\n",
              "    </tr>\n",
              "    <tr>\n",
              "      <th>0</th>\n",
              "      <td>0</td>\n",
              "      <td>2020-09-28 13:07:35+00:00</td>\n",
              "      <td>even if u wna say religion isnt equal to human...</td>\n",
              "      <td>0.1435</td>\n",
              "      <td>0.067</td>\n",
              "      <td>0.853</td>\n",
              "      <td>0.080</td>\n",
              "    </tr>\n",
              "    <tr>\n",
              "      <th>4</th>\n",
              "      <td>4</td>\n",
              "      <td>2020-04-16 12:18:53+00:00</td>\n",
              "      <td>ZOOM CALLS DON'T EQUAL PRODUCTIVITY\\nZOOM CALL...</td>\n",
              "      <td>0.0000</td>\n",
              "      <td>0.000</td>\n",
              "      <td>1.000</td>\n",
              "      <td>0.000</td>\n",
              "    </tr>\n",
              "    <tr>\n",
              "      <th>10</th>\n",
              "      <td>10</td>\n",
              "      <td>2020-01-05 08:14:04+00:00</td>\n",
              "      <td>the people do not equal the government, one li...</td>\n",
              "      <td>0.0000</td>\n",
              "      <td>0.000</td>\n",
              "      <td>1.000</td>\n",
              "      <td>0.000</td>\n",
              "    </tr>\n",
              "    <tr>\n",
              "      <th>12</th>\n",
              "      <td>12</td>\n",
              "      <td>2019-11-26 13:16:26+00:00</td>\n",
              "      <td>Even I missed you but im not going to express ...</td>\n",
              "      <td>-0.1531</td>\n",
              "      <td>0.091</td>\n",
              "      <td>0.909</td>\n",
              "      <td>0.000</td>\n",
              "    </tr>\n",
              "    <tr>\n",
              "      <th>13</th>\n",
              "      <td>13</td>\n",
              "      <td>2019-11-21 15:13:56+00:00</td>\n",
              "      <td>Not all #codinginterviews are equal!\\n\\n#TechT...</td>\n",
              "      <td>0.0000</td>\n",
              "      <td>0.000</td>\n",
              "      <td>1.000</td>\n",
              "      <td>0.000</td>\n",
              "    </tr>\n",
              "  </tbody>\n",
              "</table>\n",
              "</div>"
            ],
            "text/plain": [
              "    Unnamed: 0                       date  ...    neu    pos\n",
              "8            8  2020-03-08 11:43:08+00:00  ...  0.556  0.444\n",
              "7            7  2020-03-17 00:20:28+00:00  ...  0.584  0.416\n",
              "1            1  2020-06-11 07:48:57+00:00  ...  0.613  0.297\n",
              "11          11  2019-12-24 07:08:42+00:00  ...  0.613  0.277\n",
              "9            9  2020-01-05 08:36:57+00:00  ...  0.667  0.260\n",
              "2            2  2020-06-10 01:22:46+00:00  ...  0.803  0.197\n",
              "5            5  2020-04-14 15:07:01+00:00  ...  0.620  0.196\n",
              "3            3  2020-06-02 13:05:23+00:00  ...  0.751  0.185\n",
              "6            6  2020-04-04 13:06:50+00:00  ...  0.816  0.093\n",
              "0            0  2020-09-28 13:07:35+00:00  ...  0.853  0.080\n",
              "4            4  2020-04-16 12:18:53+00:00  ...  1.000  0.000\n",
              "10          10  2020-01-05 08:14:04+00:00  ...  1.000  0.000\n",
              "12          12  2019-11-26 13:16:26+00:00  ...  0.909  0.000\n",
              "13          13  2019-11-21 15:13:56+00:00  ...  1.000  0.000\n",
              "\n",
              "[14 rows x 7 columns]"
            ]
          },
          "metadata": {},
          "execution_count": 28
        }
      ]
    },
    {
      "cell_type": "code",
      "metadata": {
        "colab": {
          "base_uri": "https://localhost:8080/",
          "height": 282
        },
        "id": "8kdfkYotu8xF",
        "outputId": "0ec91e84-2ca4-4a1f-8278-d3bc6a90ed14"
      },
      "source": [
        "df['pos'].hist(grid = False)"
      ],
      "execution_count": null,
      "outputs": [
        {
          "output_type": "execute_result",
          "data": {
            "text/plain": [
              "<matplotlib.axes._subplots.AxesSubplot at 0x7f90b0035450>"
            ]
          },
          "metadata": {},
          "execution_count": 29
        },
        {
          "output_type": "display_data",
          "data": {
            "image/png": "[encoded data removed]",
            "text/plain": [
              "<Figure size 432x288 with 1 Axes>"
            ]
          },
          "metadata": {
            "needs_background": "light"
          }
        }
      ]
    },
    {
      "cell_type": "code",
      "metadata": {
        "colab": {
          "base_uri": "https://localhost:8080/",
          "height": 282
        },
        "id": "J271jnI_u8xG",
        "outputId": "1099246f-46db-4672-eaa2-c255f444c2a0"
      },
      "source": [
        "df['neg'].hist(grid = False)"
      ],
      "execution_count": null,
      "outputs": [
        {
          "output_type": "execute_result",
          "data": {
            "text/plain": [
              "<matplotlib.axes._subplots.AxesSubplot at 0x7f90afe70e90>"
            ]
          },
          "metadata": {},
          "execution_count": 30
        },
        {
          "output_type": "display_data",
          "data": {
            "image/png": "[encoded data removed]",
            "text/plain": [
              "<Figure size 432x288 with 1 Axes>"
            ]
          },
          "metadata": {
            "needs_background": "light"
          }
        }
      ]
    },
    {
      "cell_type": "markdown",
      "metadata": {
        "id": "-3ZcRfHs1ZCY"
      },
      "source": [
        "\"men\""
      ]
    },
    {
      "cell_type": "code",
      "metadata": {
        "colab": {
          "base_uri": "https://localhost:8080/",
          "height": 203
        },
        "id": "_PAc9WW1u9SC",
        "outputId": "bee2de7e-8ef9-4035-a059-1473204d31d7"
      },
      "source": [
        "df = pd.read_csv('Tweets/mensg_tweets.csv')\n",
        "df.head()"
      ],
      "execution_count": null,
      "outputs": [
        {
          "output_type": "execute_result",
          "data": {
            "text/html": [
              "<div>\n",
              "<style scoped>\n",
              "    .dataframe tbody tr th:only-of-type {\n",
              "        vertical-align: middle;\n",
              "    }\n",
              "\n",
              "    .dataframe tbody tr th {\n",
              "        vertical-align: top;\n",
              "    }\n",
              "\n",
              "    .dataframe thead th {\n",
              "        text-align: right;\n",
              "    }\n",
              "</style>\n",
              "<table border=\"1\" class=\"dataframe\">\n",
              "  <thead>\n",
              "    <tr style=\"text-align: right;\">\n",
              "      <th></th>\n",
              "      <th>Unnamed: 0</th>\n",
              "      <th>date</th>\n",
              "      <th>content</th>\n",
              "    </tr>\n",
              "  </thead>\n",
              "  <tbody>\n",
              "    <tr>\n",
              "      <th>0</th>\n",
              "      <td>0</td>\n",
              "      <td>2020-12-30 04:40:43+00:00</td>\n",
              "      <td>i would spend my last $5 on men but they would...</td>\n",
              "    </tr>\n",
              "    <tr>\n",
              "      <th>1</th>\n",
              "      <td>1</td>\n",
              "      <td>2020-12-30 04:38:12+00:00</td>\n",
              "      <td>ive wasted alot of money trying to support men...</td>\n",
              "    </tr>\n",
              "    <tr>\n",
              "      <th>2</th>\n",
              "      <td>2</td>\n",
              "      <td>2020-12-30 04:37:35+00:00</td>\n",
              "      <td>i need to stop spending my money on men</td>\n",
              "    </tr>\n",
              "    <tr>\n",
              "      <th>3</th>\n",
              "      <td>3</td>\n",
              "      <td>2020-12-30 01:56:02+00:00</td>\n",
              "      <td>Just came to my mind: Why is it ok for @TheEll...</td>\n",
              "    </tr>\n",
              "    <tr>\n",
              "      <th>4</th>\n",
              "      <td>4</td>\n",
              "      <td>2020-12-26 15:28:04+00:00</td>\n",
              "      <td>Does anyone knows where I can get mens jumpsuit?</td>\n",
              "    </tr>\n",
              "  </tbody>\n",
              "</table>\n",
              "</div>"
            ],
            "text/plain": [
              "   Unnamed: 0  ...                                            content\n",
              "0           0  ...  i would spend my last $5 on men but they would...\n",
              "1           1  ...  ive wasted alot of money trying to support men...\n",
              "2           2  ...            i need to stop spending my money on men\n",
              "3           3  ...  Just came to my mind: Why is it ok for @TheEll...\n",
              "4           4  ...   Does anyone knows where I can get mens jumpsuit?\n",
              "\n",
              "[5 rows x 3 columns]"
            ]
          },
          "metadata": {},
          "execution_count": 31
        }
      ]
    },
    {
      "cell_type": "code",
      "metadata": {
        "colab": {
          "base_uri": "https://localhost:8080/",
          "height": 417
        },
        "id": "WKFfYp_Yu9SD",
        "outputId": "a18fe135-a099-4155-e1f7-d60a91c5b3a4"
      },
      "source": [
        "analyzer = SentimentIntensityAnalyzer()\n",
        "df['compound'] = [analyzer.polarity_scores(x)['compound'] for x in df['content']]\n",
        "df['neg'] = [analyzer.polarity_scores(x)['neg'] for x in df['content']]\n",
        "df['neu'] = [analyzer.polarity_scores(x)['neu'] for x in df['content']]\n",
        "df['pos'] = [analyzer.polarity_scores(x)['pos'] for x in df['content']]\n",
        "\n",
        "df.sort_values('pos', ascending = False, inplace = True)\n",
        "df"
      ],
      "execution_count": null,
      "outputs": [
        {
          "output_type": "execute_result",
          "data": {
            "text/html": [
              "<div>\n",
              "<style scoped>\n",
              "    .dataframe tbody tr th:only-of-type {\n",
              "        vertical-align: middle;\n",
              "    }\n",
              "\n",
              "    .dataframe tbody tr th {\n",
              "        vertical-align: top;\n",
              "    }\n",
              "\n",
              "    .dataframe thead th {\n",
              "        text-align: right;\n",
              "    }\n",
              "</style>\n",
              "<table border=\"1\" class=\"dataframe\">\n",
              "  <thead>\n",
              "    <tr style=\"text-align: right;\">\n",
              "      <th></th>\n",
              "      <th>Unnamed: 0</th>\n",
              "      <th>date</th>\n",
              "      <th>content</th>\n",
              "      <th>compound</th>\n",
              "      <th>neg</th>\n",
              "      <th>neu</th>\n",
              "      <th>pos</th>\n",
              "    </tr>\n",
              "  </thead>\n",
              "  <tbody>\n",
              "    <tr>\n",
              "      <th>372</th>\n",
              "      <td>372</td>\n",
              "      <td>2018-11-26 16:30:10+00:00</td>\n",
              "      <td>i love him wow I really love him yes I’m talki...</td>\n",
              "      <td>0.9800</td>\n",
              "      <td>0.000</td>\n",
              "      <td>0.365</td>\n",
              "      <td>0.635</td>\n",
              "    </tr>\n",
              "    <tr>\n",
              "      <th>248</th>\n",
              "      <td>248</td>\n",
              "      <td>2019-10-28 19:19:39+00:00</td>\n",
              "      <td>Wise men say...</td>\n",
              "      <td>0.4767</td>\n",
              "      <td>0.000</td>\n",
              "      <td>0.392</td>\n",
              "      <td>0.608</td>\n",
              "    </tr>\n",
              "    <tr>\n",
              "      <th>183</th>\n",
              "      <td>183</td>\n",
              "      <td>2020-03-26 18:29:48+00:00</td>\n",
              "      <td>men aint shit</td>\n",
              "      <td>0.4449</td>\n",
              "      <td>0.000</td>\n",
              "      <td>0.406</td>\n",
              "      <td>0.594</td>\n",
              "    </tr>\n",
              "    <tr>\n",
              "      <th>21</th>\n",
              "      <td>21</td>\n",
              "      <td>2020-12-05 10:32:57+00:00</td>\n",
              "      <td>i love scorpio men</td>\n",
              "      <td>0.6369</td>\n",
              "      <td>0.000</td>\n",
              "      <td>0.417</td>\n",
              "      <td>0.583</td>\n",
              "    </tr>\n",
              "    <tr>\n",
              "      <th>257</th>\n",
              "      <td>257</td>\n",
              "      <td>2019-10-03 05:27:59+00:00</td>\n",
              "      <td>WHY MEN GREAT TIL THEY GOTTA BE GREAT</td>\n",
              "      <td>0.8481</td>\n",
              "      <td>0.000</td>\n",
              "      <td>0.423</td>\n",
              "      <td>0.577</td>\n",
              "    </tr>\n",
              "    <tr>\n",
              "      <th>...</th>\n",
              "      <td>...</td>\n",
              "      <td>...</td>\n",
              "      <td>...</td>\n",
              "      <td>...</td>\n",
              "      <td>...</td>\n",
              "      <td>...</td>\n",
              "      <td>...</td>\n",
              "    </tr>\n",
              "    <tr>\n",
              "      <th>255</th>\n",
              "      <td>255</td>\n",
              "      <td>2019-10-08 06:03:25+00:00</td>\n",
              "      <td>Hate men who disrespect woman</td>\n",
              "      <td>-0.7579</td>\n",
              "      <td>0.684</td>\n",
              "      <td>0.316</td>\n",
              "      <td>0.000</td>\n",
              "    </tr>\n",
              "    <tr>\n",
              "      <th>262</th>\n",
              "      <td>262</td>\n",
              "      <td>2019-08-15 02:35:59+00:00</td>\n",
              "      <td>*hiss* men</td>\n",
              "      <td>0.0000</td>\n",
              "      <td>0.000</td>\n",
              "      <td>1.000</td>\n",
              "      <td>0.000</td>\n",
              "    </tr>\n",
              "    <tr>\n",
              "      <th>269</th>\n",
              "      <td>269</td>\n",
              "      <td>2019-07-14 11:30:27+00:00</td>\n",
              "      <td>Fuck men</td>\n",
              "      <td>-0.5423</td>\n",
              "      <td>0.778</td>\n",
              "      <td>0.222</td>\n",
              "      <td>0.000</td>\n",
              "    </tr>\n",
              "    <tr>\n",
              "      <th>273</th>\n",
              "      <td>273</td>\n",
              "      <td>2019-07-10 19:07:50+00:00</td>\n",
              "      <td>getting tired of men</td>\n",
              "      <td>-0.4404</td>\n",
              "      <td>0.492</td>\n",
              "      <td>0.508</td>\n",
              "      <td>0.000</td>\n",
              "    </tr>\n",
              "    <tr>\n",
              "      <th>244</th>\n",
              "      <td>244</td>\n",
              "      <td>2019-11-11 11:52:58+00:00</td>\n",
              "      <td>It’s almost  2020 and there are still grown as...</td>\n",
              "      <td>-0.7574</td>\n",
              "      <td>0.289</td>\n",
              "      <td>0.711</td>\n",
              "      <td>0.000</td>\n",
              "    </tr>\n",
              "  </tbody>\n",
              "</table>\n",
              "<p>489 rows × 7 columns</p>\n",
              "</div>"
            ],
            "text/plain": [
              "     Unnamed: 0                       date  ...    neu    pos\n",
              "372         372  2018-11-26 16:30:10+00:00  ...  0.365  0.635\n",
              "248         248  2019-10-28 19:19:39+00:00  ...  0.392  0.608\n",
              "183         183  2020-03-26 18:29:48+00:00  ...  0.406  0.594\n",
              "21           21  2020-12-05 10:32:57+00:00  ...  0.417  0.583\n",
              "257         257  2019-10-03 05:27:59+00:00  ...  0.423  0.577\n",
              "..          ...                        ...  ...    ...    ...\n",
              "255         255  2019-10-08 06:03:25+00:00  ...  0.316  0.000\n",
              "262         262  2019-08-15 02:35:59+00:00  ...  1.000  0.000\n",
              "269         269  2019-07-14 11:30:27+00:00  ...  0.222  0.000\n",
              "273         273  2019-07-10 19:07:50+00:00  ...  0.508  0.000\n",
              "244         244  2019-11-11 11:52:58+00:00  ...  0.711  0.000\n",
              "\n",
              "[489 rows x 7 columns]"
            ]
          },
          "metadata": {},
          "execution_count": 32
        }
      ]
    },
    {
      "cell_type": "code",
      "metadata": {
        "colab": {
          "base_uri": "https://localhost:8080/",
          "height": 282
        },
        "id": "py0D9Bqtu9SE",
        "outputId": "024f259d-8c5e-47c6-cec2-552997a565ca"
      },
      "source": [
        "df['pos'].hist(grid = False)"
      ],
      "execution_count": null,
      "outputs": [
        {
          "output_type": "execute_result",
          "data": {
            "text/plain": [
              "<matplotlib.axes._subplots.AxesSubplot at 0x7f90afecbd90>"
            ]
          },
          "metadata": {},
          "execution_count": 33
        },
        {
          "output_type": "display_data",
          "data": {
            "image/png": "[encoded data removed]",
            "text/plain": [
              "<Figure size 432x288 with 1 Axes>"
            ]
          },
          "metadata": {
            "needs_background": "light"
          }
        }
      ]
    },
    {
      "cell_type": "code",
      "metadata": {
        "colab": {
          "base_uri": "https://localhost:8080/",
          "height": 282
        },
        "id": "1Ij-5yVNu9SE",
        "outputId": "79e33d7a-879a-4396-8e92-e1777dbbb125"
      },
      "source": [
        "df['neg'].hist(grid = False)"
      ],
      "execution_count": null,
      "outputs": [
        {
          "output_type": "execute_result",
          "data": {
            "text/plain": [
              "<matplotlib.axes._subplots.AxesSubplot at 0x7f90afd04fd0>"
            ]
          },
          "metadata": {},
          "execution_count": 34
        },
        {
          "output_type": "display_data",
          "data": {
            "image/png": "[encoded data removed]",
            "text/plain": [
              "<Figure size 432x288 with 1 Axes>"
            ]
          },
          "metadata": {
            "needs_background": "light"
          }
        }
      ]
    },
    {
      "cell_type": "code",
      "metadata": {
        "id": "M6UWJwkGu9lS"
      },
      "source": [],
      "execution_count": null,
      "outputs": []
    }
  ]
}